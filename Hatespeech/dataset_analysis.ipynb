{
 "cells": [
  {
   "cell_type": "code",
   "execution_count": 65,
   "metadata": {},
   "outputs": [],
   "source": [
    "from __future__ import division\n",
    "\n",
    "import os\n",
    "import random\n",
    "\n",
    "import numpy as np\n",
    "import pickle5 as pickle\n",
    "import torch\n",
    "import torch.nn.functional as F\n",
    "import torchvision.datasets as datasets\n",
    "import torchvision.transforms as transforms\n",
    "from sklearn.model_selection import train_test_split\n",
    "from torch.utils.data import DataLoader, Dataset\n",
    "import copy\n",
    "\n",
    "def load_data(file_name):\n",
    "    assert(os.path.exists(file_name+'.pkl'))\n",
    "    with open(file_name + '.pkl', 'rb') as f:\n",
    "        data = pickle.load(f)\n",
    "    return data"
   ]
  },
  {
   "cell_type": "code",
   "execution_count": 168,
   "metadata": {},
   "outputs": [],
   "source": [
    "data = load_data(\"hatespeech_data\")\n",
    "Y = data[\"Y\"]\n",
    "Y = Y[Y<2]\n",
    "\n",
    "# Y = np.random.randint(0, 2, (10000,))\n",
    "# unique, counts = np.unique(Y, return_counts=True)\n",
    "# print(unique, counts)"
   ]
  },
  {
   "cell_type": "code",
   "execution_count": 169,
   "metadata": {},
   "outputs": [],
   "source": [
    "Y_copy = Y.copy()\n",
    "Y[:] = torch.from_numpy(np.where((np.random.rand(*Y.shape) < 0.1), 1-Y, Y))"
   ]
  },
  {
   "cell_type": "code",
   "execution_count": 170,
   "metadata": {},
   "outputs": [
    {
     "name": "stdout",
     "output_type": "stream",
     "text": [
      "[0 1] [1657 8725]\n"
     ]
    }
   ],
   "source": [
    "unique, counts = np.unique(Y, return_counts=True)\n",
    "print(unique, counts)"
   ]
  },
  {
   "cell_type": "code",
   "execution_count": 171,
   "metadata": {},
   "outputs": [
    {
     "name": "stdout",
     "output_type": "stream",
     "text": [
      "0.10510510510510511\n"
     ]
    }
   ],
   "source": [
    "label_one_changed = len(np.where((Y_copy == 1) & (Y == 0))[0])\n",
    "label_one_total_before = len(np.where(Y_copy == 1)[0])\n",
    "print(label_one_changed / label_one_total_before)"
   ]
  },
  {
   "cell_type": "code",
   "execution_count": 172,
   "metadata": {},
   "outputs": [
    {
     "name": "stdout",
     "output_type": "stream",
     "text": [
      "0.11448275862068966\n"
     ]
    }
   ],
   "source": [
    "label_zero_changed = len(np.where((Y_copy == 0) & (Y == 1))[0])\n",
    "label_zero_total_before = len(np.where(Y_copy == 0)[0])\n",
    "print(label_zero_changed / label_zero_total_before)"
   ]
  }
 ],
 "metadata": {
  "kernelspec": {
   "display_name": "multi_l2d",
   "language": "python",
   "name": "python3"
  },
  "language_info": {
   "codemirror_mode": {
    "name": "ipython",
    "version": 3
   },
   "file_extension": ".py",
   "mimetype": "text/x-python",
   "name": "python",
   "nbconvert_exporter": "python",
   "pygments_lexer": "ipython3",
   "version": "3.7.16"
  },
  "orig_nbformat": 4
 },
 "nbformat": 4,
 "nbformat_minor": 2
}
