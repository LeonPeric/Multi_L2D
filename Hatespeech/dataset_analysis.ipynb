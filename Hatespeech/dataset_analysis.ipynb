{
 "cells": [
  {
   "cell_type": "code",
   "execution_count": 14,
   "metadata": {},
   "outputs": [],
   "source": [
    "from __future__ import division\n",
    "\n",
    "import os\n",
    "import random\n",
    "\n",
    "import numpy as np\n",
    "import pickle5 as pickle\n",
    "import torch\n",
    "import torch.nn.functional as F\n",
    "import torchvision.datasets as datasets\n",
    "import torchvision.transforms as transforms\n",
    "from sklearn.model_selection import train_test_split\n",
    "from torch.utils.data import DataLoader, Dataset\n",
    "import copy\n",
    "\n",
    "def load_data(file_name):\n",
    "    assert(os.path.exists(file_name+'.pkl'))\n",
    "    with open(file_name + '.pkl', 'rb') as f:\n",
    "        data = pickle.load(f)\n",
    "    return data"
   ]
  },
  {
   "cell_type": "code",
   "execution_count": 15,
   "metadata": {},
   "outputs": [],
   "source": [
    "data = load_data(\"hatespeech_data\")\n",
    "Y = data[\"Y\"]\n",
    "Y = Y[Y<2]\n",
    "\n",
    "# Y = np.random.randint(0, 2, (10000,))\n",
    "# unique, counts = np.unique(Y, return_counts=True)\n",
    "# print(unique, counts)"
   ]
  },
  {
   "cell_type": "code",
   "execution_count": 21,
   "metadata": {},
   "outputs": [],
   "source": [
    "Y_copy = Y.copy()\n",
    "Y[:] = torch.from_numpy(np.where((np.random.rand(*Y.shape) < 0.1), 1-Y, Y))"
   ]
  },
  {
   "cell_type": "code",
   "execution_count": 22,
   "metadata": {},
   "outputs": [
    {
     "name": "stdout",
     "output_type": "stream",
     "text": [
      "[0 1] [1643 8739]\n"
     ]
    }
   ],
   "source": [
    "unique, counts = np.unique(Y, return_counts=True)\n",
    "print(unique, counts)"
   ]
  },
  {
   "cell_type": "code",
   "execution_count": 23,
   "metadata": {},
   "outputs": [
    {
     "name": "stdout",
     "output_type": "stream",
     "text": [
      "The percentage of labels that were 1 and flipped to 0 are: 0.10303406855130993\n"
     ]
    }
   ],
   "source": [
    "label_one_changed = len(np.where((Y_copy == 1) & (Y == 0))[0])\n",
    "label_one_total_before = len(np.where(Y_copy == 1)[0])\n",
    "print(f\"The percentage of labels that were 1 and flipped to 0 are: {label_one_changed / label_one_total_before}\")"
   ]
  },
  {
   "cell_type": "code",
   "execution_count": 24,
   "metadata": {},
   "outputs": [
    {
     "name": "stdout",
     "output_type": "stream",
     "text": [
      "The percentage of labels that were 0 and flipped to 1 are: 0.10620689655172413\n"
     ]
    }
   ],
   "source": [
    "label_zero_changed = len(np.where((Y_copy == 0) & (Y == 1))[0])\n",
    "label_zero_total_before = len(np.where(Y_copy == 0)[0])\n",
    "print(f\"The percentage of labels that were 0 and flipped to 1 are: {label_zero_changed / label_zero_total_before}\")"
   ]
  },
  {
   "cell_type": "code",
   "execution_count": 25,
   "metadata": {},
   "outputs": [
    {
     "name": "stdout",
     "output_type": "stream",
     "text": [
      "The percentage of labels flipped in total are: 0.10325563475245618\n"
     ]
    }
   ],
   "source": [
    "changed = label_one_changed + label_zero_changed \n",
    "print(f\"The percentage of labels flipped in total are: {changed / sum(counts)}\")"
   ]
  }
 ],
 "metadata": {
  "kernelspec": {
   "display_name": "multi_l2d",
   "language": "python",
   "name": "python3"
  },
  "language_info": {
   "codemirror_mode": {
    "name": "ipython",
    "version": 3
   },
   "file_extension": ".py",
   "mimetype": "text/x-python",
   "name": "python",
   "nbconvert_exporter": "python",
   "pygments_lexer": "ipython3",
   "version": "3.7.16"
  },
  "orig_nbformat": 4
 },
 "nbformat": 4,
 "nbformat_minor": 2
}
