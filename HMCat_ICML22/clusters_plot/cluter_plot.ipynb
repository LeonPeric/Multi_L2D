{
 "cells": [
  {
   "cell_type": "code",
   "execution_count": 3,
   "metadata": {
    "collapsed": false,
    "jupyter": {
     "outputs_hidden": false
    },
    "pycharm": {
     "name": "#%%\n"
    }
   },
   "outputs": [],
   "source": [
    "import numpy as np\n",
    "import matplotlib.pyplot as plt\n",
    "import seaborn as sns"
   ]
  },
  {
   "cell_type": "code",
   "execution_count": null,
   "outputs": [],
   "source": [
    "# === Matplotlib Options === #\n",
    "cm = plt.cm.get_cmap('tab10')\n",
    "plot_args = {\"linestyle\": \"-\",\n",
    "             \"marker\": \"o\",\n",
    "             \"markeredgecolor\": \"k\",\n",
    "             \"markersize\": 10,\n",
    "             \"linewidth\": 8\n",
    "             }\n",
    "sns.set_context(\"talk\", font_scale=1.3)\n",
    "fig_size = (5, 4)\n"
   ],
   "metadata": {
    "collapsed": false,
    "pycharm": {
     "name": "#%%\n"
    }
   }
  },
  {
   "cell_type": "code",
   "execution_count": null,
   "outputs": [],
   "source": [
    "cluster1 = np.load(\"cluster1.npy\")\n",
    "cluster2 = np.load(\"cluster2.npy\")\n",
    "cluster3 = np.load(\"cluster3.npy\")\n",
    "cluster4 = np.load(\"cluster4.npy\")"
   ],
   "metadata": {
    "collapsed": false,
    "pycharm": {
     "name": "#%%\n"
    }
   }
  },
  {
   "cell_type": "code",
   "execution_count": null,
   "outputs": [],
   "source": [
    "\n",
    "sns.set_theme()\n",
    "with sns.axes_style(\"ticks\"):\n",
    "    fig = plt.figure(figsize=(5, 5))\n",
    "\n",
    "    plt.scatter(cluster1[:, 0], cluster1[:, 1], alpha=0.5, label=\"Cluster 1\")  # zeroth class\n",
    "    plt.scatter(cluster2[:, 0], cluster2[:, 1], alpha=0.5, label=\"Cluster 2\")  # oneth class\n",
    "    plt.scatter(cluster3[:, 0], cluster3[:, 1], alpha=0.5, label=\"Cluster 3\")  # second class\n",
    "    plt.scatter(cluster4[:, 0], cluster4[:, 1], alpha=0.5, label=\"Cluster 4\")  # third class\n",
    "    sns.despine()\n",
    "    plt.legend()\n",
    "    fig.set_tight_layout(True)\n",
    "    plt.savefig(\"mog_plot.pdf\", bbox_inches='tight')\n"
   ],
   "metadata": {
    "collapsed": false,
    "pycharm": {
     "name": "#%%\n"
    }
   }
  },
  {
   "cell_type": "code",
   "execution_count": null,
   "outputs": [],
   "source": [],
   "metadata": {
    "collapsed": false,
    "pycharm": {
     "name": "#%%\n"
    }
   }
  },
  {
   "cell_type": "code",
   "execution_count": null,
   "metadata": {},
   "outputs": [],
   "source": []
  }
 ],
 "metadata": {
  "kernelspec": {
   "display_name": "Python 3",
   "language": "python",
   "name": "python3"
  },
  "language_info": {
   "codemirror_mode": {
    "name": "ipython",
    "version": 3
   },
   "file_extension": ".py",
   "mimetype": "text/x-python",
   "name": "python",
   "nbconvert_exporter": "python",
   "pygments_lexer": "ipython3",
   "version": "3.7.11"
  }
 },
 "nbformat": 4,
 "nbformat_minor": 4
}