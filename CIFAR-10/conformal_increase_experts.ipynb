{
 "cells": [
  {
   "cell_type": "code",
   "execution_count": 1,
   "metadata": {
    "pycharm": {
     "name": "#%%\n"
    }
   },
   "outputs": [],
   "source": [
    "import json\n",
    "\n",
    "import numpy as np\n",
    "import torch\n",
    "import matplotlib.pyplot as plt"
   ]
  },
  {
   "cell_type": "markdown",
   "metadata": {
    "pycharm": {
     "name": "#%% md\n"
    }
   },
   "source": [
    "# Increase Experts "
   ]
  },
  {
   "cell_type": "code",
   "execution_count": 2,
   "metadata": {
    "pycharm": {
     "name": "#%%\n"
    }
   },
   "outputs": [
    {
     "name": "stdout",
     "output_type": "stream",
     "text": [
      "torch.Size([9216, 11])\n",
      "torch.Size([9216, 12])\n",
      "torch.Size([9216, 14])\n",
      "torch.Size([9216, 16])\n",
      "torch.Size([9216, 18])\n"
     ]
    }
   ],
   "source": [
    "# === OvA ===\n",
    "n_classes = 10\n",
    "confs = []\n",
    "exps = []\n",
    "true = []\n",
    "path = \"ova_increase_experts/\"\n",
    "n_experts = [1, 2, 4, 6, 8]\n",
    "for n in n_experts:\n",
    "    model_name = '_' + str(n) + '_experts'\n",
    "    with open(path + 'confidence_multiple_experts' + model_name + '.txt', 'r') as f:\n",
    "        conf = json.loads(json.load(f))\n",
    "    with open(path + 'expert_predictions_multiple_experts' + model_name + '.txt', 'r') as f:\n",
    "        exp_pred = json.loads(json.load(f))\n",
    "    with open(path + 'true_label_multiple_experts' + model_name + '.txt', 'r') as f:\n",
    "        true_label = json.loads(json.load(f))\n",
    "    true.append(true_label['test'])\n",
    "    exps.append(exp_pred['test'])\n",
    "    c = torch.tensor(conf['test'])\n",
    "    print(c.shape)\n",
    "    # DANI Correction ===\n",
    "    c = c.sigmoid()\n",
    "    # DANI Correction ===\n",
    "    confs.append(c)"
   ]
  },
  {
   "cell_type": "markdown",
   "metadata": {
    "pycharm": {
     "name": "#%% md\n"
    }
   },
   "source": [
    "# Increase confidence "
   ]
  },
  {
   "cell_type": "code",
   "execution_count": 44,
   "metadata": {
    "pycharm": {
     "name": "#%%\n"
    }
   },
   "outputs": [],
   "source": [
    "# === OvA ===\n",
    "n_classes = 10\n",
    "random_expert_idx = 0\n",
    "confs = []\n",
    "exps = []\n",
    "true = []\n",
    "path = \"ova_increase_confidence/\"\n",
    "n_experts = 4\n",
    "p_experts = [0.2, 0.4, 0.6, 0.8, 0.95]\n",
    "for p in p_experts:\n",
    "    model_name = '_' + str(p) + '_confidence'\n",
    "    with open(path + 'confidence_multiple_experts' + model_name + '.txt', 'r') as f:\n",
    "        conf = json.loads(json.load(f))\n",
    "    with open(path + 'expert_predictions_multiple_experts' + model_name + '.txt', 'r') as f:\n",
    "        exp_pred = json.loads(json.load(f))\n",
    "    with open(path + 'true_label_multiple_experts' + model_name + '.txt', 'r') as f:\n",
    "        true_label = json.loads(json.load(f))\n",
    "    true.append(true_label['test'])\n",
    "    exps.append(exp_pred['test'])\n",
    "    c = torch.tensor(conf['test'])\n",
    "    # DANI Correction ===\n",
    "    c = c.sigmoid()\n",
    "    # DANI Correction ===\n",
    "    confs.append(c)"
   ]
  },
  {
   "cell_type": "code",
   "execution_count": 62,
   "metadata": {
    "pycharm": {
     "name": "#%%\n"
    }
   },
   "outputs": [],
   "source": [
    "# 1 expert rando, 3 with prob 0.8 correct\n",
    "probs = confs[-3]\n",
    "experts = exps[-3]\n",
    "experts = experts[::-1] \n",
    "y_true = true[-3]"
   ]
  },
  {
   "cell_type": "code",
   "execution_count": 63,
   "metadata": {
    "pycharm": {
     "name": "#%%\n"
    }
   },
   "outputs": [
    {
     "name": "stdout",
     "output_type": "stream",
     "text": [
      "N val:7372\n",
      "N test:1844\n"
     ]
    }
   ],
   "source": [
    "n_val = int(0.8 * len(y_true))\n",
    "n_test = len(y_true) - n_val\n",
    "print(\"N val:{}\".format(n_val))\n",
    "print(\"N test:{}\".format(n_test))"
   ]
  },
  {
   "cell_type": "markdown",
   "metadata": {
    "pycharm": {
     "name": "#%% md\n"
    }
   },
   "source": [
    "# Validation"
   ]
  },
  {
   "cell_type": "code",
   "execution_count": 64,
   "metadata": {
    "pycharm": {
     "name": "#%%\n"
    }
   },
   "outputs": [
    {
     "data": {
      "text/plain": [
       "tensor(1.9849)"
      ]
     },
     "execution_count": 64,
     "metadata": {},
     "output_type": "execute_result"
    }
   ],
   "source": [
    "## 2. get Q_hat\n",
    "\n",
    "n_classes_exp = n_classes + n_experts\n",
    "probs_val = probs[:n_val, 10:]\n",
    "\n",
    "# experts_val = experts[::-1]  # IMPORTANT! swap to match prob ordering\n",
    "experts_val = experts\n",
    "experts_val = [exp[:n_val] for exp in experts_val]\n",
    "\n",
    "y_true_val = y_true[:n_val]\n",
    "\n",
    "# === Only on deferred samples\n",
    "_, predicted = torch.max(probs[:n_val].data, 1)\n",
    "r = (predicted >= n_classes_exp - n_experts)\n",
    "\n",
    "# Filter \n",
    "probs_val = probs_val[r]\n",
    "experts_val = [np.array(exp)[r] for exp in experts_val]\n",
    "y_true_val = np.array(y_true_val)[r]\n",
    "\n",
    "# Model expert probs ===\n",
    "# Sort J model outputs for experts\n",
    "probs_experts = probs[:n_val, 10:]\n",
    "probs_experts = probs_experts[r]\n",
    "sort, pi = probs_experts.sort(dim=1, descending=True)\n",
    "\n",
    "# Correctness experts ===\n",
    "# Check if experts are correct \n",
    "correct_exp = (np.array(experts_val) == np.array(y_true_val)).T\n",
    "# idx for correct experts: [[0,1,2], [1,2], [], ...]\n",
    "correct_exp_idx = [np.where(correct_exp_i)[0] for correct_exp_i in correct_exp]\n",
    "\n",
    "# obtain the last expert to be retrieved. If empty, then add all values.\n",
    "# indexes are not the real expert index, but the sorted indexes, e.g. [[1, 0 ,2],  [1,0], [], ...]\n",
    "pi_corr_exp = [probs_experts[i, corr_exp].sort(descending=True)[1] for i, corr_exp in enumerate(correct_exp)]\n",
    "pi_corr_exp_stop = [pi_corr_exp_i[-1] if len(pi_corr_exp_i)!=0 else -1 for pi_corr_exp_i in pi_corr_exp]  # last expert\n",
    "\n",
    "# obtain real expert index back, e.g. [2,1,-1,...]\n",
    "pi_stop = [correct_exp_idx[i][pi_corr_exp_stop_i] if len(correct_exp_idx[i])!=0 else -1 for i, pi_corr_exp_stop_i in enumerate(pi_corr_exp_stop)]\n",
    "\n",
    "\n",
    "# =========\n",
    "n_val = n_val\n",
    "alpha = 0.1\n",
    "scores = sort.cumsum(dim=1).gather(1, pi.argsort(1))[range(len(torch.tensor(pi_stop))), torch.tensor(pi_stop)]\n",
    "qhat = torch.quantile(scores, np.ceil((r.sum() + 1) * (1 - alpha)) / r.sum(), interpolation=\"higher\")\n",
    "\n",
    "qhat"
   ]
  },
  {
   "cell_type": "markdown",
   "metadata": {
    "pycharm": {
     "name": "#%% md\n"
    }
   },
   "source": [
    "# Test"
   ]
  },
  {
   "cell_type": "code",
   "execution_count": 65,
   "metadata": {
    "pycharm": {
     "name": "#%%\n"
    }
   },
   "outputs": [],
   "source": [
    "n_classes = 10\n",
    "n_experts = 4\n",
    "n_classes_exp = n_classes + n_experts"
   ]
  },
  {
   "cell_type": "code",
   "execution_count": 121,
   "metadata": {
    "pycharm": {
     "name": "#%%\n"
    }
   },
   "outputs": [
    {
     "data": {
      "text/plain": [
       "[array([2, 1, 0]),\n",
       " array([2, 0, 1, 3]),\n",
       " array([2, 1, 0, 3]),\n",
       " array([2, 1, 0, 3]),\n",
       " array([2, 1, 0, 3]),\n",
       " array([2, 0, 1, 3]),\n",
       " array([2, 1, 0, 3]),\n",
       " array([2, 1, 0]),\n",
       " array([2, 1, 0, 3]),\n",
       " array([1, 2, 0, 3]),\n",
       " array([2, 1, 0]),\n",
       " array([2, 1]),\n",
       " array([2, 1, 0, 3]),\n",
       " array([2, 1, 0]),\n",
       " array([1, 2, 0, 3]),\n",
       " array([2, 1, 0, 3]),\n",
       " array([2, 1, 0, 3]),\n",
       " array([1, 2, 0, 3]),\n",
       " array([2, 1, 0, 3]),\n",
       " array([2, 1, 0]),\n",
       " array([2, 1, 0, 3]),\n",
       " array([2, 0, 1, 3]),\n",
       " array([2, 1, 0, 3]),\n",
       " array([2, 1, 0, 3]),\n",
       " array([2, 1, 0, 3]),\n",
       " array([2, 1, 0, 3]),\n",
       " array([2, 1, 0, 3]),\n",
       " array([2, 1]),\n",
       " array([2, 1, 0, 3]),\n",
       " array([2, 1, 0, 3]),\n",
       " array([2, 1, 0]),\n",
       " array([2, 1, 0, 3]),\n",
       " array([2, 1, 0]),\n",
       " array([2, 1, 0, 3]),\n",
       " array([2, 1, 0, 3]),\n",
       " array([1, 2, 0, 3]),\n",
       " array([2, 1, 0, 3]),\n",
       " array([2, 1]),\n",
       " array([2, 1, 0, 3]),\n",
       " array([2, 1, 0]),\n",
       " array([2, 1, 0, 3]),\n",
       " array([2, 1, 0]),\n",
       " array([2, 1, 0, 3]),\n",
       " array([2, 1, 0, 3]),\n",
       " array([2, 1, 0, 3]),\n",
       " array([2, 1, 0, 3]),\n",
       " array([2, 1, 0, 3]),\n",
       " array([2, 1, 0, 3]),\n",
       " array([2, 1, 0, 3]),\n",
       " array([2, 1, 0, 3]),\n",
       " array([1, 2, 0, 3]),\n",
       " array([2, 1, 0, 3]),\n",
       " array([2, 1, 0, 3]),\n",
       " array([2, 1, 0, 3]),\n",
       " array([2, 1, 0, 3]),\n",
       " array([2, 1, 0, 3]),\n",
       " array([2, 0, 1, 3]),\n",
       " array([2, 1, 0]),\n",
       " array([2, 1, 0, 3]),\n",
       " array([2, 1, 0, 3]),\n",
       " array([2, 1, 0]),\n",
       " array([2, 1, 0]),\n",
       " array([2, 1, 0, 3]),\n",
       " array([2, 1]),\n",
       " array([2, 1, 0, 3]),\n",
       " array([1, 2, 0, 3]),\n",
       " array([2, 1, 0, 3]),\n",
       " array([2, 1, 0, 3]),\n",
       " array([2, 1, 0]),\n",
       " array([2, 1, 0]),\n",
       " array([2, 1, 0, 3]),\n",
       " array([2, 1, 0]),\n",
       " array([2, 1, 0]),\n",
       " array([2, 1, 0]),\n",
       " array([2, 1, 0]),\n",
       " array([2, 1, 0]),\n",
       " array([2, 1, 0, 3]),\n",
       " array([2, 1, 0, 3]),\n",
       " array([2, 1, 0, 3]),\n",
       " array([2, 1, 0, 3]),\n",
       " array([2, 0, 1, 3]),\n",
       " array([2, 1, 0, 3]),\n",
       " array([2, 0, 1, 3]),\n",
       " array([2, 1, 0]),\n",
       " array([2, 1, 0, 3]),\n",
       " array([2, 0, 1, 3]),\n",
       " array([2, 1, 0, 3]),\n",
       " array([2, 1, 0, 3]),\n",
       " array([2, 1, 0, 3]),\n",
       " array([2, 1, 0, 3]),\n",
       " array([2, 1, 0, 3]),\n",
       " array([2, 1]),\n",
       " array([1, 2, 0, 3]),\n",
       " array([2, 1, 0, 3]),\n",
       " array([2, 1, 0, 3]),\n",
       " array([2, 1, 0]),\n",
       " array([2, 1, 0]),\n",
       " array([2, 1, 0, 3]),\n",
       " array([2, 1, 0, 3]),\n",
       " array([2, 1, 0]),\n",
       " array([2, 1]),\n",
       " array([2, 1, 0, 3]),\n",
       " array([2, 1, 0, 3]),\n",
       " array([2, 1, 0, 3]),\n",
       " array([2, 1, 0]),\n",
       " array([1, 2, 0, 3]),\n",
       " array([2, 1, 0, 3]),\n",
       " array([2, 0, 1, 3]),\n",
       " array([2, 1, 0, 3]),\n",
       " array([2, 1, 0]),\n",
       " array([2, 1, 0]),\n",
       " array([2, 1, 0]),\n",
       " array([2, 0, 1, 3]),\n",
       " array([2, 1]),\n",
       " array([2, 1, 0, 3]),\n",
       " array([1, 2, 0, 3]),\n",
       " array([2, 1, 0, 3]),\n",
       " array([2, 0, 1, 3]),\n",
       " array([2, 1, 0, 3]),\n",
       " array([2, 1, 0, 3]),\n",
       " array([2, 1, 0, 3]),\n",
       " array([2, 1, 0]),\n",
       " array([2, 1, 0, 3]),\n",
       " array([2, 0, 1, 3]),\n",
       " array([1, 2, 0, 3]),\n",
       " array([2, 1, 0, 3]),\n",
       " array([2, 1, 0, 3]),\n",
       " array([2, 0, 1, 3]),\n",
       " array([2, 1, 0, 3]),\n",
       " array([2, 1, 0, 3]),\n",
       " array([1, 2, 0, 3]),\n",
       " array([2, 0, 1, 3]),\n",
       " array([2, 1, 0]),\n",
       " array([2, 1, 0]),\n",
       " array([2, 1, 0]),\n",
       " array([2, 1, 0, 3]),\n",
       " array([2, 1, 0]),\n",
       " array([2, 1, 0]),\n",
       " array([2, 1]),\n",
       " array([2, 1, 0, 3]),\n",
       " array([2, 1, 0])]"
      ]
     },
     "execution_count": 121,
     "metadata": {},
     "output_type": "execute_result"
    }
   ],
   "source": [
    "probs_test = probs[n_val:, 10:]\n",
    "experts_test = [exp[n_val:] for exp in experts]\n",
    "y_true_test = y_true[n_val:]\n",
    "\n",
    "# === Only on deferred samples\n",
    "_, predicted = torch.max(probs[n_val:].data, 1)\n",
    "r_test = (predicted >= n_classes_exp - n_experts)\n",
    "\n",
    "# Filter \n",
    "probs_test = probs_test[r_test]\n",
    "experts_test = [np.array(exp)[r_test] for exp in experts_test]\n",
    "y_true_test = np.array(y_true_test)[r_test]\n",
    "\n",
    "# Sort J model outputs for experts. sorted probs and sorted indexes\n",
    "sort_test, pi_test = probs_test.sort(dim=1, descending=True)\n",
    "# Get last sorted index to be below Q_hat\n",
    "pi_stop = (sort_test.cumsum(dim=1) <= qhat).sum(axis=1)\n",
    "\n",
    "# Prediction sets\n",
    "prediction_sets = [(pi_test[i][:(pi_stop[i])]).numpy() for i in range(pi_stop.shape[0])]  # not allow empty sets\n",
    "prediction_sets"
   ]
  },
  {
   "cell_type": "code",
   "execution_count": 135,
   "metadata": {},
   "outputs": [
    {
     "data": {
      "text/plain": [
       "[array([0, 1, 2]),\n",
       " array([0, 1, 2, 3]),\n",
       " array([2, 1, 0, 3]),\n",
       " array([2, 1, 0, 3]),\n",
       " array([2, 1, 0, 3]),\n",
       " array([2, 0, 1, 3]),\n",
       " array([2, 1, 0, 3]),\n",
       " array([2, 1, 0]),\n",
       " array([2, 1, 0, 3]),\n",
       " array([1, 2, 0, 3]),\n",
       " array([2, 1, 0]),\n",
       " array([2, 1]),\n",
       " array([2, 1, 0, 3]),\n",
       " array([2, 1, 0]),\n",
       " array([1, 2, 0, 3]),\n",
       " array([2, 1, 0, 3]),\n",
       " array([2, 1, 0, 3]),\n",
       " array([1, 2, 0, 3]),\n",
       " array([2, 1, 0, 3]),\n",
       " array([2, 1, 0]),\n",
       " array([2, 1, 0, 3]),\n",
       " array([2, 0, 1, 3]),\n",
       " array([2, 1, 0, 3]),\n",
       " array([2, 1, 0, 3]),\n",
       " array([2, 1, 0, 3]),\n",
       " array([2, 1, 0, 3]),\n",
       " array([2, 1, 0, 3]),\n",
       " array([2, 1]),\n",
       " array([2, 1, 0, 3]),\n",
       " array([2, 1, 0, 3]),\n",
       " array([2, 1, 0]),\n",
       " array([2, 1, 0, 3]),\n",
       " array([2, 1, 0]),\n",
       " array([2, 1, 0, 3]),\n",
       " array([2, 1, 0, 3]),\n",
       " array([1, 2, 0, 3]),\n",
       " array([2, 1, 0, 3]),\n",
       " array([2, 1]),\n",
       " array([2, 1, 0, 3]),\n",
       " array([2, 1, 0]),\n",
       " array([2, 1, 0, 3]),\n",
       " array([2, 1, 0]),\n",
       " array([2, 1, 0, 3]),\n",
       " array([2, 1, 0, 3]),\n",
       " array([2, 1, 0, 3]),\n",
       " array([2, 1, 0, 3]),\n",
       " array([2, 1, 0, 3]),\n",
       " array([2, 1, 0, 3]),\n",
       " array([2, 1, 0, 3]),\n",
       " array([2, 1, 0, 3]),\n",
       " array([1, 2, 0, 3]),\n",
       " array([2, 1, 0, 3]),\n",
       " array([2, 1, 0, 3]),\n",
       " array([2, 1, 0, 3]),\n",
       " array([2, 1, 0, 3]),\n",
       " array([2, 1, 0, 3]),\n",
       " array([2, 0, 1, 3]),\n",
       " array([2, 1, 0]),\n",
       " array([2, 1, 0, 3]),\n",
       " array([2, 1, 0, 3]),\n",
       " array([2, 1, 0]),\n",
       " array([2, 1, 0]),\n",
       " array([2, 1, 0, 3]),\n",
       " array([2, 1]),\n",
       " array([2, 1, 0, 3]),\n",
       " array([1, 2, 0, 3]),\n",
       " array([2, 1, 0, 3]),\n",
       " array([2, 1, 0, 3]),\n",
       " array([2, 1, 0]),\n",
       " array([2, 1, 0]),\n",
       " array([2, 1, 0, 3]),\n",
       " array([2, 1, 0]),\n",
       " array([2, 1, 0]),\n",
       " array([2, 1, 0]),\n",
       " array([2, 1, 0]),\n",
       " array([2, 1, 0]),\n",
       " array([2, 1, 0, 3]),\n",
       " array([2, 1, 0, 3]),\n",
       " array([2, 1, 0, 3]),\n",
       " array([2, 1, 0, 3]),\n",
       " array([2, 0, 1, 3]),\n",
       " array([2, 1, 0, 3]),\n",
       " array([2, 0, 1, 3]),\n",
       " array([2, 1, 0]),\n",
       " array([2, 1, 0, 3]),\n",
       " array([2, 0, 1, 3]),\n",
       " array([2, 1, 0, 3]),\n",
       " array([2, 1, 0, 3]),\n",
       " array([2, 1, 0, 3]),\n",
       " array([2, 1, 0, 3]),\n",
       " array([2, 1, 0, 3]),\n",
       " array([2, 1]),\n",
       " array([1, 2, 0, 3]),\n",
       " array([2, 1, 0, 3]),\n",
       " array([2, 1, 0, 3]),\n",
       " array([2, 1, 0]),\n",
       " array([2, 1, 0]),\n",
       " array([2, 1, 0, 3]),\n",
       " array([2, 1, 0, 3]),\n",
       " array([2, 1, 0]),\n",
       " array([2, 1]),\n",
       " array([2, 1, 0, 3]),\n",
       " array([2, 1, 0, 3]),\n",
       " array([2, 1, 0, 3]),\n",
       " array([2, 1, 0]),\n",
       " array([1, 2, 0, 3]),\n",
       " array([2, 1, 0, 3]),\n",
       " array([2, 0, 1, 3]),\n",
       " array([2, 1, 0, 3]),\n",
       " array([2, 1, 0]),\n",
       " array([2, 1, 0]),\n",
       " array([2, 1, 0]),\n",
       " array([2, 0, 1, 3]),\n",
       " array([2, 1]),\n",
       " array([2, 1, 0, 3]),\n",
       " array([1, 2, 0, 3]),\n",
       " array([2, 1, 0, 3]),\n",
       " array([2, 0, 1, 3]),\n",
       " array([2, 1, 0, 3]),\n",
       " array([2, 1, 0, 3]),\n",
       " array([2, 1, 0, 3]),\n",
       " array([2, 1, 0]),\n",
       " array([2, 1, 0, 3]),\n",
       " array([2, 0, 1, 3]),\n",
       " array([1, 2, 0, 3]),\n",
       " array([2, 1, 0, 3]),\n",
       " array([2, 1, 0, 3]),\n",
       " array([2, 0, 1, 3]),\n",
       " array([2, 1, 0, 3]),\n",
       " array([2, 1, 0, 3]),\n",
       " array([1, 2, 0, 3]),\n",
       " array([2, 0, 1, 3]),\n",
       " array([2, 1, 0]),\n",
       " array([2, 1, 0]),\n",
       " array([2, 1, 0]),\n",
       " array([2, 1, 0, 3]),\n",
       " array([2, 1, 0]),\n",
       " array([2, 1, 0]),\n",
       " array([2, 1]),\n",
       " array([2, 1, 0, 3]),\n",
       " array([2, 1, 0])]"
      ]
     },
     "execution_count": 135,
     "metadata": {},
     "output_type": "execute_result"
    }
   ],
   "source": [
    "prediction_sets"
   ]
  },
  {
   "cell_type": "code",
   "execution_count": 134,
   "metadata": {},
   "outputs": [
    {
     "data": {
      "text/plain": [
       "[array([0, 1, 2]),\n",
       " array([0, 1, 2, 3]),\n",
       " array([2, 1, 0, 3]),\n",
       " array([2, 1, 0, 3]),\n",
       " array([2, 1, 0, 3]),\n",
       " array([2, 0, 1, 3]),\n",
       " array([2, 1, 0, 3]),\n",
       " array([2, 1, 0]),\n",
       " array([2, 1, 0, 3]),\n",
       " array([1, 2, 0, 3]),\n",
       " array([2, 1, 0]),\n",
       " array([2, 1]),\n",
       " array([2, 1, 0, 3]),\n",
       " array([2, 1, 0]),\n",
       " array([1, 2, 0, 3]),\n",
       " array([2, 1, 0, 3]),\n",
       " array([2, 1, 0, 3]),\n",
       " array([1, 2, 0, 3]),\n",
       " array([2, 1, 0, 3]),\n",
       " array([2, 1, 0]),\n",
       " array([2, 1, 0, 3]),\n",
       " array([2, 0, 1, 3]),\n",
       " array([2, 1, 0, 3]),\n",
       " array([2, 1, 0, 3]),\n",
       " array([2, 1, 0, 3]),\n",
       " array([2, 1, 0, 3]),\n",
       " array([2, 1, 0, 3]),\n",
       " array([2, 1]),\n",
       " array([2, 1, 0, 3]),\n",
       " array([2, 1, 0, 3]),\n",
       " array([2, 1, 0]),\n",
       " array([2, 1, 0, 3]),\n",
       " array([2, 1, 0]),\n",
       " array([2, 1, 0, 3]),\n",
       " array([2, 1, 0, 3]),\n",
       " array([1, 2, 0, 3]),\n",
       " array([2, 1, 0, 3]),\n",
       " array([2, 1]),\n",
       " array([2, 1, 0, 3]),\n",
       " array([2, 1, 0]),\n",
       " array([2, 1, 0, 3]),\n",
       " array([2, 1, 0]),\n",
       " array([2, 1, 0, 3]),\n",
       " array([2, 1, 0, 3]),\n",
       " array([2, 1, 0, 3]),\n",
       " array([2, 1, 0, 3]),\n",
       " array([2, 1, 0, 3]),\n",
       " array([2, 1, 0, 3]),\n",
       " array([2, 1, 0, 3]),\n",
       " array([2, 1, 0, 3]),\n",
       " array([1, 2, 0, 3]),\n",
       " array([2, 1, 0, 3]),\n",
       " array([2, 1, 0, 3]),\n",
       " array([2, 1, 0, 3]),\n",
       " array([2, 1, 0, 3]),\n",
       " array([2, 1, 0, 3]),\n",
       " array([2, 0, 1, 3]),\n",
       " array([2, 1, 0]),\n",
       " array([2, 1, 0, 3]),\n",
       " array([2, 1, 0, 3]),\n",
       " array([2, 1, 0]),\n",
       " array([2, 1, 0]),\n",
       " array([2, 1, 0, 3]),\n",
       " array([2, 1]),\n",
       " array([2, 1, 0, 3]),\n",
       " array([1, 2, 0, 3]),\n",
       " array([2, 1, 0, 3]),\n",
       " array([2, 1, 0, 3]),\n",
       " array([2, 1, 0]),\n",
       " array([2, 1, 0]),\n",
       " array([2, 1, 0, 3]),\n",
       " array([2, 1, 0]),\n",
       " array([2, 1, 0]),\n",
       " array([2, 1, 0]),\n",
       " array([2, 1, 0]),\n",
       " array([2, 1, 0]),\n",
       " array([2, 1, 0, 3]),\n",
       " array([2, 1, 0, 3]),\n",
       " array([2, 1, 0, 3]),\n",
       " array([2, 1, 0, 3]),\n",
       " array([2, 0, 1, 3]),\n",
       " array([2, 1, 0, 3]),\n",
       " array([2, 0, 1, 3]),\n",
       " array([2, 1, 0]),\n",
       " array([2, 1, 0, 3]),\n",
       " array([2, 0, 1, 3]),\n",
       " array([2, 1, 0, 3]),\n",
       " array([2, 1, 0, 3]),\n",
       " array([2, 1, 0, 3]),\n",
       " array([2, 1, 0, 3]),\n",
       " array([2, 1, 0, 3]),\n",
       " array([2, 1]),\n",
       " array([1, 2, 0, 3]),\n",
       " array([2, 1, 0, 3]),\n",
       " array([2, 1, 0, 3]),\n",
       " array([2, 1, 0]),\n",
       " array([2, 1, 0]),\n",
       " array([2, 1, 0, 3]),\n",
       " array([2, 1, 0, 3]),\n",
       " array([2, 1, 0]),\n",
       " array([2, 1]),\n",
       " array([2, 1, 0, 3]),\n",
       " array([2, 1, 0, 3]),\n",
       " array([2, 1, 0, 3]),\n",
       " array([2, 1, 0]),\n",
       " array([1, 2, 0, 3]),\n",
       " array([2, 1, 0, 3]),\n",
       " array([2, 0, 1, 3]),\n",
       " array([2, 1, 0, 3]),\n",
       " array([2, 1, 0]),\n",
       " array([2, 1, 0]),\n",
       " array([2, 1, 0]),\n",
       " array([2, 0, 1, 3]),\n",
       " array([2, 1]),\n",
       " array([2, 1, 0, 3]),\n",
       " array([1, 2, 0, 3]),\n",
       " array([2, 1, 0, 3]),\n",
       " array([2, 0, 1, 3]),\n",
       " array([2, 1, 0, 3]),\n",
       " array([2, 1, 0, 3]),\n",
       " array([2, 1, 0, 3]),\n",
       " array([2, 1, 0]),\n",
       " array([2, 1, 0, 3]),\n",
       " array([2, 0, 1, 3]),\n",
       " array([1, 2, 0, 3]),\n",
       " array([2, 1, 0, 3]),\n",
       " array([2, 1, 0, 3]),\n",
       " array([2, 0, 1, 3]),\n",
       " array([2, 1, 0, 3]),\n",
       " array([2, 1, 0, 3]),\n",
       " array([1, 2, 0, 3]),\n",
       " array([2, 0, 1, 3]),\n",
       " array([2, 1, 0]),\n",
       " array([2, 1, 0]),\n",
       " array([2, 1, 0]),\n",
       " array([2, 1, 0, 3]),\n",
       " array([2, 1, 0]),\n",
       " array([2, 1, 0]),\n",
       " array([2, 1]),\n",
       " array([2, 1, 0, 3]),\n",
       " array([2, 1, 0])]"
      ]
     },
     "execution_count": 134,
     "metadata": {},
     "output_type": "execute_result"
    }
   ],
   "source": [
    "prediction_sets"
   ]
  },
  {
   "cell_type": "code",
   "execution_count": 79,
   "metadata": {},
   "outputs": [
    {
     "data": {
      "text/plain": [
       "[tensor([1, 2, 0, 3]),\n",
       " tensor([2, 1, 0, 3]),\n",
       " tensor([2, 1, 0]),\n",
       " tensor([2, 1, 0, 3]),\n",
       " tensor([2, 1, 0, 3]),\n",
       " tensor([2, 1, 0, 3]),\n",
       " tensor([1, 2, 0, 3]),\n",
       " tensor([2, 1]),\n",
       " tensor([2, 1, 0]),\n",
       " tensor([2, 1, 0]),\n",
       " tensor([2, 1, 0, 3]),\n",
       " tensor([2, 1, 0, 3]),\n",
       " tensor([2, 1, 0, 3]),\n",
       " tensor([2, 1, 0, 3]),\n",
       " tensor([2, 1, 0, 3]),\n",
       " tensor([2, 1]),\n",
       " tensor([2, 1, 0]),\n",
       " tensor([1, 2, 0, 3]),\n",
       " tensor([1, 2, 0, 3]),\n",
       " tensor([2, 1, 0, 3])]"
      ]
     },
     "execution_count": 79,
     "metadata": {},
     "output_type": "execute_result"
    }
   ],
   "source": [
    "[prediction_sets[i] for i, prediction_sets_i in enumerate(prediction_sets) if mask[i]]"
   ]
  },
  {
   "cell_type": "code",
   "execution_count": 80,
   "metadata": {
    "pycharm": {
     "name": "#%%\n"
    }
   },
   "outputs": [
    {
     "data": {
      "text/plain": [
       "[array([0, 2]),\n",
       " array([1, 2]),\n",
       " array([2]),\n",
       " array([0, 1, 2]),\n",
       " array([0, 2]),\n",
       " array([], dtype=int64),\n",
       " array([], dtype=int64),\n",
       " array([1]),\n",
       " array([0, 1]),\n",
       " array([1, 2]),\n",
       " array([1, 2]),\n",
       " array([1, 2]),\n",
       " array([0, 1, 2]),\n",
       " array([0, 2]),\n",
       " array([2]),\n",
       " array([], dtype=int64),\n",
       " array([2]),\n",
       " array([2]),\n",
       " array([], dtype=int64),\n",
       " array([0, 1, 2]),\n",
       " array([], dtype=int64),\n",
       " array([1]),\n",
       " array([0, 1]),\n",
       " array([2]),\n",
       " array([0, 1, 2]),\n",
       " array([0, 1, 2]),\n",
       " array([0, 1, 2]),\n",
       " array([1]),\n",
       " array([0, 1, 2]),\n",
       " array([], dtype=int64),\n",
       " array([1, 2]),\n",
       " array([1, 2]),\n",
       " array([2]),\n",
       " array([0, 1, 2]),\n",
       " array([1]),\n",
       " array([], dtype=int64),\n",
       " array([1, 2]),\n",
       " array([2]),\n",
       " array([], dtype=int64),\n",
       " array([1, 2]),\n",
       " array([1]),\n",
       " array([0, 1, 2]),\n",
       " array([0, 1, 2]),\n",
       " array([2]),\n",
       " array([0]),\n",
       " array([0, 1, 2]),\n",
       " array([], dtype=int64),\n",
       " array([], dtype=int64),\n",
       " array([1]),\n",
       " array([0, 2]),\n",
       " array([0, 1, 2]),\n",
       " array([1, 2]),\n",
       " array([0, 1, 2]),\n",
       " array([0, 2]),\n",
       " array([0, 2]),\n",
       " array([], dtype=int64),\n",
       " array([0, 2, 3]),\n",
       " array([0, 1, 2]),\n",
       " array([1]),\n",
       " array([], dtype=int64),\n",
       " array([0]),\n",
       " array([1]),\n",
       " array([0, 1, 2]),\n",
       " array([2]),\n",
       " array([0, 2]),\n",
       " array([2]),\n",
       " array([1]),\n",
       " array([0, 1, 2]),\n",
       " array([0]),\n",
       " array([0, 1, 2]),\n",
       " array([1]),\n",
       " array([0, 1, 2]),\n",
       " array([0, 1, 2]),\n",
       " array([1, 2]),\n",
       " array([1, 2, 3]),\n",
       " array([0, 1]),\n",
       " array([], dtype=int64),\n",
       " array([1, 2]),\n",
       " array([0, 2]),\n",
       " array([1, 2]),\n",
       " array([0, 1, 2]),\n",
       " array([0, 1]),\n",
       " array([2]),\n",
       " array([1, 2, 3]),\n",
       " array([0, 1, 2, 3]),\n",
       " array([0, 1, 2]),\n",
       " array([2]),\n",
       " array([1, 2]),\n",
       " array([1, 3]),\n",
       " array([], dtype=int64),\n",
       " array([0, 1]),\n",
       " array([0]),\n",
       " array([2]),\n",
       " array([1]),\n",
       " array([0, 2]),\n",
       " array([1, 2]),\n",
       " array([0, 1]),\n",
       " array([], dtype=int64),\n",
       " array([0, 2]),\n",
       " array([0, 1]),\n",
       " array([0, 1, 2]),\n",
       " array([3]),\n",
       " array([3]),\n",
       " array([0, 1]),\n",
       " array([0, 1, 2, 3]),\n",
       " array([0, 1]),\n",
       " array([0, 1, 2]),\n",
       " array([], dtype=int64),\n",
       " array([0, 1, 2]),\n",
       " array([1, 2]),\n",
       " array([0, 2]),\n",
       " array([0, 1, 3]),\n",
       " array([0, 1, 2]),\n",
       " array([0, 2]),\n",
       " array([1, 2]),\n",
       " array([0]),\n",
       " array([0]),\n",
       " array([0]),\n",
       " array([0, 1]),\n",
       " array([0]),\n",
       " array([0]),\n",
       " array([0, 1, 2]),\n",
       " array([0, 2]),\n",
       " array([], dtype=int64),\n",
       " array([0]),\n",
       " array([2]),\n",
       " array([], dtype=int64),\n",
       " array([0, 2]),\n",
       " array([], dtype=int64),\n",
       " array([2]),\n",
       " array([0, 1, 2]),\n",
       " array([0, 1, 2]),\n",
       " array([0, 1, 2]),\n",
       " array([1, 2]),\n",
       " array([0]),\n",
       " array([1, 2]),\n",
       " array([0, 1, 2, 3]),\n",
       " array([0, 1, 2]),\n",
       " array([0]),\n",
       " array([0, 1, 2]),\n",
       " array([0, 1, 3])]"
      ]
     },
     "execution_count": 80,
     "metadata": {},
     "output_type": "execute_result"
    }
   ],
   "source": [
    "# Check if experts are correct \n",
    "# experts_test = experts_test[::-1]\n",
    "correct_exp = (np.array(experts_test) == np.array(y_true_test)).T\n",
    "\n",
    "correct_exp_idx = [np.where(correct_exp_i)[0] for correct_exp_i in correct_exp]\n",
    "correct_exp_idx"
   ]
  },
  {
   "cell_type": "code",
   "execution_count": 81,
   "metadata": {},
   "outputs": [
    {
     "data": {
      "text/plain": [
       "[array([1, 2]),\n",
       " array([0, 1, 2]),\n",
       " array([0, 2]),\n",
       " array([0, 1]),\n",
       " array([0, 1, 2]),\n",
       " array([], dtype=int64),\n",
       " array([], dtype=int64),\n",
       " array([2]),\n",
       " array([1, 2]),\n",
       " array([0, 1, 2]),\n",
       " array([0, 2]),\n",
       " array([0, 1]),\n",
       " array([1, 2]),\n",
       " array([0, 2]),\n",
       " array([0, 2]),\n",
       " array([0, 1, 2]),\n",
       " array([0, 1, 2, 3]),\n",
       " array([0]),\n",
       " array([0, 1, 2]),\n",
       " array([1, 2])]"
      ]
     },
     "execution_count": 81,
     "metadata": {},
     "output_type": "execute_result"
    }
   ],
   "source": [
    "[correct_exp_idx[i] for i, corr_exp_idx in enumerate(correct_exp_idx) if mask[i]]"
   ]
  },
  {
   "cell_type": "code",
   "execution_count": 78,
   "metadata": {},
   "outputs": [
    {
     "data": {
      "text/plain": [
       "20"
      ]
     },
     "execution_count": 78,
     "metadata": {},
     "output_type": "execute_result"
    }
   ],
   "source": [
    "mask =( y_true_test==2)\n",
    "mask.sum()"
   ]
  },
  {
   "cell_type": "code",
   "execution_count": 82,
   "metadata": {},
   "outputs": [
    {
     "data": {
      "text/plain": [
       "tensor(0.0722)"
      ]
     },
     "execution_count": 82,
     "metadata": {},
     "output_type": "execute_result"
    }
   ],
   "source": [
    "r.sum()/len(r)"
   ]
  },
  {
   "cell_type": "code",
   "execution_count": 83,
   "metadata": {},
   "outputs": [
    {
     "data": {
      "text/plain": [
       "array([[4, 2, 2, 2, 2, 7, 3, 0, 3, 2, 2, 2, 1, 2, 2, 2, 2, 2, 2, 5],\n",
       "       [2, 2, 9, 2, 2, 8, 5, 3, 2, 2, 7, 2, 2, 5, 8, 2, 2, 1, 2, 2],\n",
       "       [2, 2, 2, 6, 2, 8, 3, 2, 2, 2, 2, 3, 2, 2, 2, 2, 2, 3, 2, 2],\n",
       "       [7, 7, 7, 8, 9, 1, 3, 3, 0, 4, 6, 1, 3, 5, 0, 8, 2, 8, 8, 6]])"
      ]
     },
     "execution_count": 83,
     "metadata": {},
     "output_type": "execute_result"
    }
   ],
   "source": [
    "np.array(experts_test)[:,mask]"
   ]
  },
  {
   "cell_type": "code",
   "execution_count": 84,
   "metadata": {},
   "outputs": [
    {
     "data": {
      "text/plain": [
       "tensor([[0.6075, 0.6305, 0.6299, 0.0925],\n",
       "        [0.5902, 0.6056, 0.6182, 0.0934],\n",
       "        [0.6232, 0.6599, 0.6620, 0.1004],\n",
       "        [0.6073, 0.6319, 0.6345, 0.0997],\n",
       "        [0.5959, 0.6187, 0.6273, 0.0934],\n",
       "        [0.5049, 0.5125, 0.5203, 0.0897],\n",
       "        [0.5651, 0.5817, 0.5793, 0.0974],\n",
       "        [0.6408, 0.6894, 0.7158, 0.0908],\n",
       "        [0.6227, 0.6596, 0.6710, 0.0972],\n",
       "        [0.6158, 0.6408, 0.6551, 0.1030],\n",
       "        [0.4767, 0.4868, 0.5001, 0.1108],\n",
       "        [0.5961, 0.6142, 0.6508, 0.1001],\n",
       "        [0.5836, 0.6143, 0.6255, 0.0969],\n",
       "        [0.4973, 0.5253, 0.5301, 0.0998],\n",
       "        [0.5880, 0.6158, 0.6189, 0.0979],\n",
       "        [0.6402, 0.6672, 0.6830, 0.0962],\n",
       "        [0.6093, 0.6523, 0.6721, 0.0862],\n",
       "        [0.5011, 0.5169, 0.5119, 0.1009],\n",
       "        [0.5955, 0.6202, 0.6200, 0.1042],\n",
       "        [0.5513, 0.5730, 0.5833, 0.0868]])"
      ]
     },
     "execution_count": 84,
     "metadata": {},
     "output_type": "execute_result"
    }
   ],
   "source": [
    "probs_test[mask]"
   ]
  },
  {
   "cell_type": "code",
   "execution_count": null,
   "metadata": {},
   "outputs": [],
   "source": []
  }
 ],
 "metadata": {
  "kernelspec": {
   "display_name": "Python 3",
   "language": "python",
   "name": "python3"
  },
  "language_info": {
   "codemirror_mode": {
    "name": "ipython",
    "version": 3
   },
   "file_extension": ".py",
   "mimetype": "text/x-python",
   "name": "python",
   "nbconvert_exporter": "python",
   "pygments_lexer": "ipython3",
   "version": "3.7.11"
  }
 },
 "nbformat": 4,
 "nbformat_minor": 5
}
