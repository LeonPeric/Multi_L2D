{
 "cells": [
  {
   "cell_type": "markdown",
   "id": "6b52bf07",
   "metadata": {
    "pycharm": {
     "name": "#%% md\n"
    }
   },
   "source": [
    "# Conformal Experiment: Gradual Overlap\n",
    "\n",
    "- OvA\n",
    "- Softmax"
   ]
  },
  {
   "cell_type": "code",
   "execution_count": 23,
   "id": "168fe84c",
   "metadata": {
    "collapsed": false,
    "jupyter": {
     "outputs_hidden": false
    },
    "pycharm": {
     "name": "#%%\n"
    }
   },
   "outputs": [],
   "source": [
    "import json\n",
    "\n",
    "import numpy as np\n",
    "import torch\n",
    "import matplotlib.pyplot as plt\n",
    "\n",
    "from scipy import stats"
   ]
  },
  {
   "cell_type": "code",
   "execution_count": 24,
   "id": "b6de73d2",
   "metadata": {
    "collapsed": false,
    "jupyter": {
     "outputs_hidden": false
    },
    "pycharm": {
     "name": "#%%\n"
    }
   },
   "outputs": [],
   "source": [
    "n_classes = 10\n",
    "n_experts = 10"
   ]
  },
  {
   "cell_type": "markdown",
   "id": "a3c81f4f",
   "metadata": {
    "pycharm": {
     "name": "#%% md\n"
    },
    "tags": []
   },
   "source": [
    "# Metric Calculation"
   ]
  },
  {
   "cell_type": "code",
   "execution_count": 25,
   "id": "19bb76d0",
   "metadata": {
    "collapsed": false,
    "jupyter": {
     "outputs_hidden": false
    },
    "pycharm": {
     "name": "#%%\n"
    }
   },
   "outputs": [],
   "source": [
    "def get_expert_prediction(experts, prediction_set_i, method=\"voting\"):\n",
    "    ensemble_expert_pred_i = np.array(experts_test)[prediction_set_i][:, i]\n",
    "    if method == \"voting\":\n",
    "        exp_prediction = stats.mode(ensemble_expert_pred_i).mode if len(ensemble_expert_pred_i)!=0 else []\n",
    "        \n",
    "    if method == \"last\": \n",
    "        exp_prediction = ensemble_expert_pred_i[-1] if len(ensemble_expert_pred_i)!=0 else []\n",
    "        \n",
    "    if method == \"random\":\n",
    "        idx = np.random.randint(len(ensemble_expert_pred_i)) if len(ensemble_expert_pred_i)!=0 else -1\n",
    "        exp_prediction = ensemble_expert_pred_i[idx] if idx!=-1 else []\n",
    "        \n",
    "    return exp_prediction"
   ]
  },
  {
   "cell_type": "markdown",
   "id": "85a8cdc6-b646-43ad-8415-4662567840b6",
   "metadata": {},
   "source": [
    "## OvA"
   ]
  },
  {
   "cell_type": "code",
   "execution_count": 41,
   "id": "adc60cb9",
   "metadata": {
    "collapsed": false,
    "jupyter": {
     "outputs_hidden": false
    },
    "pycharm": {
     "name": "#%%\n"
    }
   },
   "outputs": [],
   "source": [
    "# === OvA ===\n",
    "confs = []\n",
    "exps = []\n",
    "true = []\n",
    "path = \"ova_gradual_overlap/\"\n",
    "\n",
    "p_out = [0.1,0.2,0.4,0.6,0.8,0.95,1.0]\n",
    "seed = \"_seed_436\"\n",
    "for p in p_out:\n",
    "    model_name = '_p_out_' + str(p)\n",
    "    with open(path + 'confidence_multiple_experts' + model_name + seed + '.txt', 'r') as f:\n",
    "        conf = json.loads(json.load(f))\n",
    "    with open(path + 'expert_predictions_multiple_experts' + model_name + seed + '.txt', 'r') as f:\n",
    "        exp_pred = json.loads(json.load(f))\n",
    "    with open(path + 'true_label_multiple_experts' + model_name + seed + '.txt', 'r') as f:\n",
    "        true_label = json.loads(json.load(f))\n",
    "    true.append(true_label['test'])\n",
    "    exps.append(exp_pred['test'])\n",
    "    c = torch.tensor(conf['test'])\n",
    "    # DANI Correction ===\n",
    "    c = c.sigmoid()\n",
    "    # DANI Correction ===\n",
    "    confs.append(c)"
   ]
  },
  {
   "cell_type": "code",
   "execution_count": 42,
   "id": "0faa56a8",
   "metadata": {
    "collapsed": false,
    "jupyter": {
     "outputs_hidden": false
    },
    "pycharm": {
     "name": "#%%\n"
    }
   },
   "outputs": [
    {
     "name": "stdout",
     "output_type": "stream",
     "text": [
      "N val:7372\n",
      "N test:1844\n"
     ]
    }
   ],
   "source": [
    "n_val = int(0.8 * len(true[0]))\n",
    "n_test = len(true[0]) - n_val\n",
    "print(\"N val:{}\".format(n_val))\n",
    "print(\"N test:{}\".format(n_test))"
   ]
  },
  {
   "cell_type": "code",
   "execution_count": 43,
   "id": "d09fc5fe-bf1f-4242-b2d0-19e17220db64",
   "metadata": {},
   "outputs": [
    {
     "data": {
      "text/plain": [
       "tensor([[0.1711, 0.2040, 0.1702, 0.9979, 0.1916, 0.1803, 0.1456, 0.1650, 0.2039,\n",
       "         0.1844],\n",
       "        [0.2050, 0.2811, 0.1781, 0.2361, 0.2287, 0.2028, 0.1855, 0.1982, 0.9986,\n",
       "         0.2008],\n",
       "        [0.2027, 0.1801, 0.1759, 0.2309, 0.2242, 0.2037, 0.1787, 0.2002, 0.9981,\n",
       "         0.1964],\n",
       "        [0.9278, 0.2362, 0.2199, 0.2197, 0.1755, 0.2059, 0.1562, 0.1846, 0.2025,\n",
       "         0.2128],\n",
       "        [0.1839, 0.1619, 0.2234, 0.1831, 0.1873, 0.1966, 0.9999, 0.1921, 0.2079,\n",
       "         0.1842]])"
      ]
     },
     "execution_count": 43,
     "metadata": {},
     "output_type": "execute_result"
    }
   ],
   "source": [
    "confs[0][:5,10:]"
   ]
  },
  {
   "cell_type": "code",
   "execution_count": 44,
   "id": "c939ca2e-4235-4ce6-a78b-9eff7de85a81",
   "metadata": {},
   "outputs": [
    {
     "data": {
      "text/plain": [
       "array([[6, 6, 0, 0, 4, 8, 7, 6, 3, 4],\n",
       "       [6, 0, 5, 0, 6, 1, 1, 9, 3, 1],\n",
       "       [2, 9, 8, 5, 6, 4, 6, 0, 4, 8],\n",
       "       [3, 9, 4, 0, 0, 0, 9, 2, 3, 4],\n",
       "       [9, 3, 4, 5, 8, 5, 7, 7, 4, 5],\n",
       "       [4, 7, 8, 0, 4, 7, 6, 3, 7, 1],\n",
       "       [7, 8, 8, 0, 6, 6, 6, 6, 3, 8],\n",
       "       [1, 2, 2, 9, 6, 3, 8, 6, 1, 4],\n",
       "       [9, 8, 8, 0, 6, 4, 3, 0, 0, 9],\n",
       "       [7, 4, 8, 9, 4, 5, 2, 0, 3, 9]])"
      ]
     },
     "execution_count": 44,
     "metadata": {},
     "output_type": "execute_result"
    }
   ],
   "source": [
    "np.array(exps)[0][:,:10]"
   ]
  },
  {
   "cell_type": "code",
   "execution_count": 45,
   "id": "1b454f0c-efe0-44a9-ad54-3335edec76f7",
   "metadata": {},
   "outputs": [
    {
     "data": {
      "text/plain": [
       "[3, 8, 8, 0, 6, 6, 1, 6, 3, 1]"
      ]
     },
     "execution_count": 45,
     "metadata": {},
     "output_type": "execute_result"
    }
   ],
   "source": [
    "true[1][:10]"
   ]
  },
  {
   "cell_type": "code",
   "execution_count": 46,
   "id": "5c6a55f5-2044-416d-95dc-fb88889e2424",
   "metadata": {},
   "outputs": [],
   "source": [
    "p_out = [0.1,0.2,0.4,0.6,0.8,0.95,1.0]\n",
    "alpha = 0.1\n",
    "n_classes = 10\n",
    "n_experts = 10\n",
    "n_classes_exp = n_classes + n_experts\n"
   ]
  },
  {
   "cell_type": "code",
   "execution_count": 48,
   "id": "7be0479a",
   "metadata": {
    "collapsed": false,
    "jupyter": {
     "outputs_hidden": false
    },
    "pycharm": {
     "name": "#%%\n"
    }
   },
   "outputs": [
    {
     "name": "stdout",
     "output_type": "stream",
     "text": [
      "Method: standard\n",
      "\n",
      "Q_hat 0.1: 2.7377278804779053\n",
      "{'coverage': 82.37527114967462, 'system_accuracy': 88.01518438177874, 'expert_accuracy': 72.30764781067828, 'classifier_accuracy': 91.3758991852601, 'alone_classifier': 87.3644251626898}\n",
      "Q_hat 0.2: 3.6140594482421875\n",
      "{'coverage': 67.5704989154013, 'system_accuracy': 89.69631236442517, 'expert_accuracy': 78.09361936668249, 'classifier_accuracy': 95.26483986638524, 'alone_classifier': 86.65943600867679}\n",
      "Q_hat 0.4: 5.2561936378479\n",
      "{'coverage': 65.0759219088937, 'system_accuracy': 91.05206073752711, 'expert_accuracy': 78.57140417037138, 'classifier_accuracy': 97.74999185416735, 'alone_classifier': 85.24945770065077}\n",
      "Q_hat 0.6: 6.848711967468262\n",
      "{'coverage': 62.364425162689805, 'system_accuracy': 94.63123644251627, 'expert_accuracy': 89.76942657941598, 'classifier_accuracy': 97.56520890737315, 'alone_classifier': 86.22559652928416}\n",
      "Q_hat 0.8: 8.487844467163086\n",
      "{'coverage': 58.78524945770065, 'system_accuracy': 97.34273318872017, 'expert_accuracy': 95.78944847646093, 'classifier_accuracy': 98.43172523692571, 'alone_classifier': 86.27982646420824}\n",
      "Q_hat 0.95: 9.647676467895508\n",
      "{'coverage': 50.37960954446854, 'system_accuracy': 98.69848156182212, 'expert_accuracy': 98.68850301890645, 'classifier_accuracy': 98.70827785702069, 'alone_classifier': 86.60520607375271}\n",
      "Q_hat 1.0: 9.99990463256836\n",
      "{'coverage': 7.971800433839479, 'system_accuracy': 100.0, 'expert_accuracy': 99.99998821449756, 'classifier_accuracy': 99.99993197283538, 'alone_classifier': 87.31019522776573}\n",
      "Method: last\n",
      "\n",
      "Q_hat 0.1: 2.7377278804779053\n",
      "{'coverage': 82.37527114967462, 'system_accuracy': 78.85032537960954, 'expert_accuracy': 20.307679810658577, 'classifier_accuracy': 91.3758991852601, 'alone_classifier': 87.3644251626898}\n",
      "Q_hat 0.2: 3.6140594482421875\n",
      "{'coverage': 67.5704989154013, 'system_accuracy': 72.99349240780911, 'expert_accuracy': 26.5886198700268, 'classifier_accuracy': 95.26483986638524, 'alone_classifier': 86.65943600867679}\n",
      "Q_hat 0.4: 5.2561936378479\n",
      "{'coverage': 65.0759219088937, 'system_accuracy': 80.80260303687636, 'expert_accuracy': 49.22358719764373, 'classifier_accuracy': 97.74999185416735, 'alone_classifier': 85.24945770065077}\n",
      "Q_hat 0.6: 6.848711967468262\n",
      "{'coverage': 62.364425162689805, 'system_accuracy': 85.24945770065077, 'expert_accuracy': 64.84147987277238, 'classifier_accuracy': 97.56520890737315, 'alone_classifier': 86.22559652928416}\n",
      "Q_hat 0.8: 8.487844467163086\n",
      "{'coverage': 58.78524945770065, 'system_accuracy': 92.29934924078091, 'expert_accuracy': 83.55260959141853, 'classifier_accuracy': 98.43172523692571, 'alone_classifier': 86.27982646420824}\n",
      "Q_hat 0.95: 9.647676467895508\n",
      "{'coverage': 50.37960954446854, 'system_accuracy': 96.90889370932754, 'expert_accuracy': 95.08194643017565, 'classifier_accuracy': 98.70827785702069, 'alone_classifier': 86.60520607375271}\n",
      "Q_hat 1.0: 9.99990463256836\n",
      "{'coverage': 7.971800433839479, 'system_accuracy': 100.0, 'expert_accuracy': 99.99998821449756, 'classifier_accuracy': 99.99993197283538, 'alone_classifier': 87.31019522776573}\n",
      "Method: random\n",
      "\n",
      "Q_hat 0.1: 2.7377278804779053\n",
      "{'coverage': 82.37527114967462, 'system_accuracy': 80.26030368763557, 'expert_accuracy': 28.307674887584685, 'classifier_accuracy': 91.3758991852601, 'alone_classifier': 87.3644251626898}\n",
      "Q_hat 0.2: 3.6140594482421875\n",
      "{'coverage': 67.5704989154013, 'system_accuracy': 76.46420824295011, 'expert_accuracy': 37.29095742777344, 'classifier_accuracy': 95.26483986638524, 'alone_classifier': 86.65943600867679}\n",
      "Q_hat 0.4: 5.2561936378479\n",
      "{'coverage': 65.0759219088937, 'system_accuracy': 82.86334056399133, 'expert_accuracy': 55.12420648316569, 'classifier_accuracy': 97.74999185416735, 'alone_classifier': 85.24945770065077}\n",
      "Q_hat 0.6: 6.848711967468262\n",
      "{'coverage': 62.364425162689805, 'system_accuracy': 86.60520607375271, 'expert_accuracy': 68.44378431014862, 'classifier_accuracy': 97.56520890737315, 'alone_classifier': 86.22559652928416}\n",
      "Q_hat 0.8: 8.487844467163086\n",
      "{'coverage': 58.78524945770065, 'system_accuracy': 92.78741865509761, 'expert_accuracy': 84.73681980610006, 'classifier_accuracy': 98.43172523692571, 'alone_classifier': 86.27982646420824}\n",
      "Q_hat 0.95: 9.647676467895508\n",
      "{'coverage': 50.37960954446854, 'system_accuracy': 97.34273318872017, 'expert_accuracy': 95.95626317895888, 'classifier_accuracy': 98.70827785702069, 'alone_classifier': 86.60520607375271}\n",
      "Q_hat 1.0: 9.99990463256836\n",
      "{'coverage': 7.971800433839479, 'system_accuracy': 100.0, 'expert_accuracy': 99.99998821449756, 'classifier_accuracy': 99.99993197283538, 'alone_classifier': 87.31019522776573}\n",
      "Method: voting\n",
      "\n",
      "Q_hat 0.1: 2.7377278804779053\n",
      "{'coverage': 82.37527114967462, 'system_accuracy': array([85.03253796]), 'expert_accuracy': array([55.3845813]), 'classifier_accuracy': 91.3758991852601, 'alone_classifier': 87.3644251626898}\n",
      "Q_hat 0.2: 3.6140594482421875\n",
      "{'coverage': 67.5704989154013, 'system_accuracy': array([89.15401302]), 'expert_accuracy': array([76.42137912]), 'classifier_accuracy': 95.26483986638524, 'alone_classifier': 86.65943600867679}\n",
      "Q_hat 0.4: 5.2561936378479\n",
      "{'coverage': 65.0759219088937, 'system_accuracy': array([96.96312364]), 'expert_accuracy': array([95.49686475]), 'classifier_accuracy': 97.74999185416735, 'alone_classifier': 85.24945770065077}\n",
      "Q_hat 0.6: 6.848711967468262\n",
      "{'coverage': 62.364425162689805, 'system_accuracy': array([98.42733189]), 'expert_accuracy': array([99.855879]), 'classifier_accuracy': 97.56520890737315, 'alone_classifier': 86.22559652928416}\n",
      "Q_hat 0.8: 8.487844467163086\n",
      "{'coverage': 58.78524945770065, 'system_accuracy': array([99.07809111]), 'expert_accuracy': array([99.99997368]), 'classifier_accuracy': 98.43172523692571, 'alone_classifier': 86.27982646420824}\n",
      "Q_hat 0.95: 9.647676467895508\n",
      "{'coverage': 50.37960954446854, 'system_accuracy': array([99.34924078]), 'expert_accuracy': array([99.99997814]), 'classifier_accuracy': 98.70827785702069, 'alone_classifier': 86.60520607375271}\n",
      "Q_hat 1.0: 9.99990463256836\n",
      "{'coverage': 7.971800433839479, 'system_accuracy': array([100.]), 'expert_accuracy': array([99.99998821]), 'classifier_accuracy': 99.99993197283538, 'alone_classifier': 87.31019522776573}\n"
     ]
    }
   ],
   "source": [
    "# Method dict ===\n",
    "method_list_ova = [\"standard\", \"last\", \"random\", \"voting\"]\n",
    "method_dict_ova = {\"standard\": [],\n",
    "               \"last\": [],\n",
    "               \"random\": [],\n",
    "               \"voting\": []}\n",
    "\n",
    "for method in method_list_ova:\n",
    "    \n",
    "    print(\"Method: {}\\n\".format(method))\n",
    "    for i, p in enumerate(p_out):\n",
    "        # =============\n",
    "        # = Get Probs =\n",
    "        # =============\n",
    "\n",
    "        probs = confs[i]\n",
    "        experts = exps[i]\n",
    "#         experts = experts[::-1]  # reverse order!\n",
    "        y_true = true[-i]\n",
    "\n",
    "        # Val/Calibration ===\n",
    "        probs_val = probs[:n_val, n_classes:]\n",
    "        experts_val = [exp[:n_val] for exp in experts]\n",
    "        y_true_val = y_true[:n_val]\n",
    "\n",
    "        # Test ===\n",
    "        probs_test = probs[n_val:, n_classes:]\n",
    "        experts_test = [exp[n_val:] for exp in experts]\n",
    "        y_true_test = y_true[n_val:]\n",
    "\n",
    "\n",
    "        # =============\n",
    "        # = Conformal =\n",
    "        # =============\n",
    "\n",
    "        # Calculate Q_hat ===\n",
    "\n",
    "        # === Only on deferred samples\n",
    "        _, predicted = torch.max(probs[:n_val].data, 1)\n",
    "        r = (predicted >= n_classes_exp - n_experts)\n",
    "\n",
    "        # Filter \n",
    "        probs_experts = probs_val[r]\n",
    "        experts_val = [np.array(exp)[r] for exp in experts_val]\n",
    "        y_true_val = np.array(y_true_val)[r]\n",
    "\n",
    "        # Model expert probs ===\n",
    "        # Sort J model outputs for experts\n",
    "        sort, pi = probs_experts.sort(dim=1, descending=True)\n",
    "\n",
    "        # Correctness experts ===\n",
    "        # Check if experts are correct \n",
    "        correct_exp = (np.array(experts_val) == np.array(y_true_val)).T\n",
    "        # idx for correct experts: [[0,1,2], [1,2], [], ...]\n",
    "        correct_exp_idx = [np.where(correct_exp_i)[0] for correct_exp_i in correct_exp]\n",
    "\n",
    "        # obtain the last expert to be retrieved. If empty, then add all values.\n",
    "        # indexes are not the real expert index, but the sorted indexes, e.g. [[1, 0 ,2],  [1,0], [], ...]\n",
    "        pi_corr_exp = [probs_experts[i, corr_exp].sort(descending=True)[1] for i, corr_exp in enumerate(correct_exp)]\n",
    "        pi_corr_exp_stop = [pi_corr_exp_i[-1] if len(pi_corr_exp_i)!=0 else -1 for pi_corr_exp_i in pi_corr_exp]  # last expert\n",
    "\n",
    "        # obtain real expert index back, e.g. [2,1,-1,...]\n",
    "        pi_stop = [correct_exp_idx[i][pi_corr_exp_stop_i] if len(correct_exp_idx[i])!=0 else -1 for i, pi_corr_exp_stop_i in enumerate(pi_corr_exp_stop)]\n",
    "\n",
    "        scores = sort.cumsum(dim=1).gather(1, pi.argsort(1))[range(len(torch.tensor(pi_stop))), torch.tensor(pi_stop)]\n",
    "        n_quantile = r.sum()\n",
    "        qhat = torch.quantile(scores, np.ceil((n_quantile + 1) * (1 - alpha)) / n_quantile, interpolation=\"higher\")\n",
    "\n",
    "        print(\"Q_hat {}: {}\".format(p, qhat))\n",
    "\n",
    "\n",
    "        # =============\n",
    "        # = Metrics =\n",
    "        # =============\n",
    "\n",
    "        # === Initalize ====\n",
    "\n",
    "        correct = 0\n",
    "        correct_sys = 0\n",
    "        exp = 0\n",
    "        exp_total = 0\n",
    "        total = 0\n",
    "        real_total = 0\n",
    "        alone_correct = 0\n",
    "\n",
    "        # Individual Expert Accuracies === #\n",
    "        expert_correct_dic = {k: 0 for k in range(len(experts_test))}\n",
    "        expert_total_dic = {k: 0 for k in range(len(experts_test))}\n",
    "\n",
    "        probs_test_exp = probs_test\n",
    "        probs_test_model = probs[n_val:]\n",
    "\n",
    "        # Predicted value \n",
    "        _, predicted = torch.max(probs_test_model.data, 1)\n",
    "\n",
    "        # Classifier alone prediction\n",
    "        _, prediction = torch.max(probs_test_model.data[:, :(n_classes_exp - n_experts)],1)\n",
    "\n",
    "        labels = y_true_test\n",
    "        for i in range(0, n_test):\n",
    "            r = (predicted[i].item() >= n_classes_exp - n_experts)\n",
    "            alone_correct += (prediction[i] == labels[i]).item()\n",
    "\n",
    "            # Non-deferred \n",
    "            if r == 0:\n",
    "                total += 1\n",
    "                correct += (predicted[i] == labels[i]).item()\n",
    "                correct_sys += (predicted[i] == labels[i]).item()\n",
    "\n",
    "            # Deferred \n",
    "            if r == 1:\n",
    "                # Non Conformal prediction ===\n",
    "                if method==\"standard\":\n",
    "                    deferred_exp = (predicted[i] - n_classes).item()  # reverse order, as in loss function\n",
    "                    exp_prediction = experts_test[deferred_exp][i]\n",
    "                    \n",
    "                    # Conformal prediction ===        \n",
    "                else:                \n",
    "                    # Sort J model outputs for experts. sorted probs and sorted indexes\n",
    "                    sort_i, pi_i = probs_test_exp[i].sort(descending=True)\n",
    "                    # Get last sorted index to be below Q_hat\n",
    "                    pi_stop_i = (sort_i.cumsum(dim=0) <= qhat).sum()\n",
    "                    # Prediction sets\n",
    "                    prediction_set_i = (pi_i[:(pi_stop_i)]).numpy()  # not allow empty sets        \n",
    "\n",
    "                    # - Get expert prediction depending on method\n",
    "                    # ======\n",
    "                    exp_prediction = get_expert_prediction(experts_test, prediction_set_i, method=method)\n",
    "                    # ======\n",
    "\n",
    "\n",
    "\n",
    "                # Deferral accuracy: No matter expert ===\n",
    "                exp += (exp_prediction == labels[i])\n",
    "                exp_total += 1\n",
    "                # Individual Expert Accuracy ===\n",
    "                # expert_correct_dic[deferred_exp] += (exp_prediction == labels[i].item())\n",
    "                # expert_total_dic[deferred_exp] += 1\n",
    "                #\n",
    "                correct_sys += (exp_prediction == labels[i])\n",
    "\n",
    "            real_total += 1\n",
    "\n",
    "        #  ===  Coverage  === #    \n",
    "        cov = 100 * total / real_total\n",
    "\n",
    "        #  === Individual Expert Accuracies === #\n",
    "        expert_accuracies = {\"expert_{}\".format(str(k)): 100 * expert_correct_dic[k] / (expert_total_dic[k] + 0.0002) for k\n",
    "                     in range(len(experts_test))}\n",
    "\n",
    "        # Add expert accuracies dict\n",
    "        to_print = {\"coverage\": cov,\n",
    "                    \"system_accuracy\": 100 * correct_sys / real_total,\n",
    "                    \"expert_accuracy\": 100 * exp / (exp_total + 0.0002),\n",
    "                    \"classifier_accuracy\": 100 * correct / (total + 0.0001),\n",
    "                    \"alone_classifier\": 100 * alone_correct / real_total}\n",
    "        print(to_print, flush=True)\n",
    "\n",
    "        # Save to method dict === \n",
    "        method_dict_ova[method].append(to_print)\n",
    "\n"
   ]
  },
  {
   "cell_type": "markdown",
   "id": "cc6b259b-e787-41e0-b696-9fe694a76eee",
   "metadata": {
    "toc-hr-collapsed": true
   },
   "source": [
    "## Softmax"
   ]
  },
  {
   "cell_type": "code",
   "execution_count": 49,
   "id": "9d753c9d-3404-4984-b5c4-9a31b2e8c8be",
   "metadata": {},
   "outputs": [
    {
     "name": "stdout",
     "output_type": "stream",
     "text": [
      "torch.Size([9216, 20])\n",
      "torch.Size([9216, 20])\n",
      "torch.Size([9216, 20])\n",
      "torch.Size([9216, 20])\n",
      "torch.Size([9216, 20])\n",
      "torch.Size([9216, 20])\n",
      "torch.Size([9216, 20])\n"
     ]
    }
   ],
   "source": [
    "# === Softmax ===\n",
    "n_classes = 10\n",
    "probs_softmax = []\n",
    "confs = []\n",
    "exps = []\n",
    "true = []\n",
    "\n",
    "path = \"softmax_gradual_overlap/\"\n",
    "n_experts = 10\n",
    "p_out = [0.1,0.2,0.4,0.6,0.8,0.95,1.0]\n",
    "\n",
    "seed = \"_seed_436\"\n",
    "\n",
    "for p in p_out:\n",
    "    model_name = '_p_out_' + str(p)\n",
    "    with open(path + 'confidence_multiple_experts' + model_name + seed +  '.txt', 'r') as f:\n",
    "        conf = json.loads(json.load(f))\n",
    "    with open(path + 'expert_predictions_multiple_experts' + model_name + seed+  '.txt', 'r') as f:\n",
    "        exp_pred = json.loads(json.load(f))\n",
    "    with open(path + 'true_label_multiple_experts' + model_name + seed + '.txt', 'r') as f:\n",
    "        true_label = json.loads(json.load(f))\n",
    "    true.append(true_label['test'])\n",
    "    exps.append(exp_pred['test'])\n",
    "    c = torch.tensor(conf['test'])\n",
    "    print(c.shape)\n",
    "    # DANI Correction ===\n",
    "    c = c.softmax(dim=1)\n",
    "    probs_softmax.append(c)\n",
    "    # DANI Correction ===\n",
    "\n",
    "    temp = 0\n",
    "    for i in range(n_experts):\n",
    "        temp += c[:, (n_classes + n_experts) - (i + 1)]\n",
    "    prob = c / (1.0 - temp).unsqueeze(-1)\n",
    "    confs.append(prob)\n"
   ]
  },
  {
   "cell_type": "code",
   "execution_count": null,
   "id": "35ccecb5-175f-4489-9d74-8b8a78ab8ad8",
   "metadata": {
    "collapsed": false,
    "jupyter": {
     "outputs_hidden": false
    },
    "pycharm": {
     "name": "#%%\n"
    }
   },
   "outputs": [
    {
     "name": "stdout",
     "output_type": "stream",
     "text": [
      "Method: standard\n",
      "\n",
      "Q_hat 0.1: 0.7467962503433228\n",
      "{'coverage': 56.50759219088937, 'system_accuracy': 88.50325379609545, 'expert_accuracy': 85.03738527746003, 'classifier_accuracy': 91.170816586294, 'alone_classifier': 87.25596529284165}\n",
      "Q_hat 0.2: 0.7966668009757996\n",
      "{'coverage': 47.017353579175705, 'system_accuracy': 89.3709327548807, 'expert_accuracy': 87.00100573162626, 'classifier_accuracy': 92.04151187525815, 'alone_classifier': 86.55097613882863}\n",
      "Q_hat 0.4: 0.8515082597732544\n",
      "{'coverage': 29.284164859002168, 'system_accuracy': 90.67245119305856, 'expert_accuracy': 91.33434181988623, 'classifier_accuracy': 89.07405757887823, 'alone_classifier': 86.8763557483731}\n",
      "Q_hat 0.6: 0.8870456218719482\n",
      "{'coverage': 30.206073752711497, 'system_accuracy': 92.89587852494577, 'expert_accuracy': 92.92927848806862, 'classifier_accuracy': 92.81865479018765, 'alone_classifier': 85.1409978308026}\n",
      "Q_hat 0.8: 0.9102581739425659\n",
      "{'coverage': 25.81344902386117, 'system_accuracy': 94.41431670281996, 'expert_accuracy': 95.10232527743783, 'classifier_accuracy': 92.43695537038754, 'alone_classifier': 83.45986984815619}\n",
      "Q_hat 0.95: 0.9202237725257874\n",
      "{'coverage': 8.947939262472884, 'system_accuracy': 96.31236442516268, 'expert_accuracy': 96.48599208028683, 'classifier_accuracy': 94.54539724521379, 'alone_classifier': 85.90021691973969}\n",
      "Q_hat 1.0: 0.9237974286079407\n",
      "{'coverage': 30.314533622559654, 'system_accuracy': 98.96963123644251, 'expert_accuracy': 99.99998443580009, 'classifier_accuracy': 96.6010560642118, 'alone_classifier': 86.44251626898048}\n",
      "Method: last\n",
      "\n",
      "Q_hat 0.1: 0.7467962503433228\n",
      "{'coverage': 56.50759219088937, 'system_accuracy': 60.24945770065076, 'expert_accuracy': 20.074807961394523, 'classifier_accuracy': 91.170816586294, 'alone_classifier': 87.25596529284165}\n",
      "Q_hat 0.2: 0.7966668009757996\n",
      "{'coverage': 47.017353579175705, 'system_accuracy': 57.9175704989154, 'expert_accuracy': 27.635613585340106, 'classifier_accuracy': 92.04151187525815, 'alone_classifier': 86.55097613882863}\n",
      "Q_hat 0.4: 0.8515082597732544\n",
      "{'coverage': 29.284164859002168, 'system_accuracy': 58.568329718004335, 'expert_accuracy': 45.93557577675218, 'classifier_accuracy': 89.07405757887823, 'alone_classifier': 86.8763557483731}\n",
      "Q_hat 0.6: 0.8870456218719482\n",
      "{'coverage': 30.206073752711497, 'system_accuracy': 72.61388286334056, 'expert_accuracy': 63.8694539441408, 'classifier_accuracy': 92.81865479018765, 'alone_classifier': 85.1409978308026}\n",
      "Q_hat 0.8: 0.9102581739425659\n",
      "{'coverage': 25.81344902386117, 'system_accuracy': 83.35140997830803, 'expert_accuracy': 80.19004675584112, 'classifier_accuracy': 92.43695537038754, 'alone_classifier': 83.45986984815619}\n",
      "Q_hat 0.95: 0.9202237725257874\n",
      "{'coverage': 8.947939262472884, 'system_accuracy': 94.57700650759219, 'expert_accuracy': 94.58009594042932, 'classifier_accuracy': 94.54539724521379, 'alone_classifier': 85.90021691973969}\n",
      "Q_hat 1.0: 0.9237974286079407\n"
     ]
    }
   ],
   "source": [
    "# Method dict ===\n",
    "method_list_softmax = [\"standard\", \"last\", \"random\", \"voting\"]\n",
    "method_dict_softmax = {\"standard\": [],\n",
    "               \"last\": [],\n",
    "               \"random\": [],\n",
    "               \"voting\": []}\n",
    "\n",
    "for method in method_list_softmax:\n",
    "    \n",
    "    print(\"Method: {}\\n\".format(method))\n",
    "    for i, p in enumerate(p_out):\n",
    "        # =============\n",
    "        # = Get Probs =\n",
    "        # =============\n",
    "\n",
    "        probs = probs_softmax[i]\n",
    "        experts = exps[i]\n",
    "        # experts = experts[::-1]  # reverse order!\n",
    "        y_true = true[-i]\n",
    "\n",
    "        # Val/Calibration ===\n",
    "        probs_val = probs[:n_val, n_classes:]\n",
    "        experts_val = [exp[:n_val] for exp in experts]\n",
    "        y_true_val = y_true[:n_val]\n",
    "\n",
    "        # Test ===\n",
    "        probs_test = probs[n_val:, n_classes:]\n",
    "        experts_test = [exp[n_val:] for exp in experts]\n",
    "        y_true_test = y_true[n_val:]\n",
    "\n",
    "\n",
    "        # =============\n",
    "        # = Conformal =\n",
    "        # =============\n",
    "\n",
    "        # Calculate Q_hat ===\n",
    "\n",
    "        # === Only on deferred samples\n",
    "        _, predicted = torch.max(probs[:n_val].data, 1)\n",
    "        r = (predicted >= n_classes_exp - n_experts)\n",
    "\n",
    "        # Filter \n",
    "        probs_experts = probs_val[r]\n",
    "        experts_val = [np.array(exp)[r] for exp in experts_val]\n",
    "        y_true_val = np.array(y_true_val)[r]\n",
    "\n",
    "        # Model expert probs ===\n",
    "        # Sort J model outputs for experts\n",
    "        sort, pi = probs_experts.sort(dim=1, descending=True)\n",
    "\n",
    "        # Correctness experts ===\n",
    "        # Check if experts are correct \n",
    "        correct_exp = (np.array(experts_val) == np.array(y_true_val)).T\n",
    "        # idx for correct experts: [[0,1,2], [1,2], [], ...]\n",
    "        correct_exp_idx = [np.where(correct_exp_i)[0] for correct_exp_i in correct_exp]\n",
    "\n",
    "        # obtain the last expert to be retrieved. If empty, then add all values.\n",
    "        # indexes are not the real expert index, but the sorted indexes, e.g. [[1, 0 ,2],  [1,0], [], ...]\n",
    "        pi_corr_exp = [probs_experts[i, corr_exp].sort(descending=True)[1] for i, corr_exp in enumerate(correct_exp)]\n",
    "        pi_corr_exp_stop = [pi_corr_exp_i[-1] if len(pi_corr_exp_i)!=0 else -1 for pi_corr_exp_i in pi_corr_exp]  # last expert\n",
    "\n",
    "        # obtain real expert index back, e.g. [2,1,-1,...]\n",
    "        pi_stop = [correct_exp_idx[i][pi_corr_exp_stop_i] if len(correct_exp_idx[i])!=0 else -1 for i, pi_corr_exp_stop_i in enumerate(pi_corr_exp_stop)]\n",
    "\n",
    "        scores = sort.cumsum(dim=1).gather(1, pi.argsort(1))[range(len(torch.tensor(pi_stop))), torch.tensor(pi_stop)]\n",
    "        n_quantile = r.sum()\n",
    "        qhat = torch.quantile(scores, np.ceil((n_quantile + 1) * (1 - alpha)) / n_quantile, interpolation=\"higher\")\n",
    "\n",
    "        print(\"Q_hat {}: {}\".format(p, qhat))\n",
    "\n",
    "\n",
    "        # =============\n",
    "        # = Metrics =\n",
    "        # =============\n",
    "\n",
    "        # === Initalize ====\n",
    "\n",
    "        correct = 0\n",
    "        correct_sys = 0\n",
    "        exp = 0\n",
    "        exp_total = 0\n",
    "        total = 0\n",
    "        real_total = 0\n",
    "        alone_correct = 0\n",
    "\n",
    "        # Individual Expert Accuracies === #\n",
    "        expert_correct_dic = {k: 0 for k in range(len(experts_test))}\n",
    "        expert_total_dic = {k: 0 for k in range(len(experts_test))}\n",
    "\n",
    "        probs_test_exp = probs_test\n",
    "        probs_test_model = probs[n_val:]\n",
    "\n",
    "        # Predicted value \n",
    "        _, predicted = torch.max(probs_test_model.data, 1)\n",
    "\n",
    "        # Classifier alone prediction\n",
    "        _, prediction = torch.max(probs_test_model.data[:, :(n_classes_exp - n_experts)],1)\n",
    "\n",
    "        labels = y_true_test\n",
    "        for i in range(0, n_test):\n",
    "            r = (predicted[i].item() >= n_classes_exp - n_experts)\n",
    "            alone_correct += (prediction[i] == labels[i]).item()\n",
    "\n",
    "            # Non-deferred \n",
    "            if r == 0:\n",
    "                total += 1\n",
    "                correct += (predicted[i] == labels[i]).item()\n",
    "                correct_sys += (predicted[i] == labels[i]).item()\n",
    "\n",
    "            # Deferred \n",
    "            if r == 1:\n",
    "                # Non Conformal prediction ===\n",
    "                if method==\"standard\":\n",
    "                    deferred_exp = (predicted[i] - n_classes).item()  # reverse order, as in loss function\n",
    "                    exp_prediction = experts_test[deferred_exp][i]\n",
    "                    \n",
    "                    # Conformal prediction ===        \n",
    "                else:                \n",
    "                    # Sort J model outputs for experts. sorted probs and sorted indexes\n",
    "                    sort_i, pi_i = probs_test_exp[i].sort(descending=True)\n",
    "                    # Get last sorted index to be below Q_hat\n",
    "                    pi_stop_i = (sort_i.cumsum(dim=0) <= qhat).sum()\n",
    "                    # Prediction sets\n",
    "                    prediction_set_i = (pi_i[:(pi_stop_i)]).numpy()  # not allow empty sets        \n",
    "\n",
    "                    # - Get expert prediction depending on method\n",
    "                    # ======\n",
    "                    exp_prediction = get_expert_prediction(experts_test, prediction_set_i, method=method)\n",
    "                    # ======\n",
    "\n",
    "\n",
    "\n",
    "                # Deferral accuracy: No matter expert ===\n",
    "                exp += (exp_prediction == labels[i])\n",
    "                exp_total += 1\n",
    "                # Individual Expert Accuracy ===\n",
    "                # expert_correct_dic[deferred_exp] += (exp_prediction == labels[i].item())\n",
    "                # expert_total_dic[deferred_exp] += 1\n",
    "                #\n",
    "                correct_sys += (exp_prediction == labels[i])\n",
    "\n",
    "            real_total += 1\n",
    "\n",
    "        #  ===  Coverage  === #    \n",
    "        cov = 100 * total / real_total\n",
    "\n",
    "        #  === Individual Expert Accuracies === #\n",
    "        expert_accuracies = {\"expert_{}\".format(str(k)): 100 * expert_correct_dic[k] / (expert_total_dic[k] + 0.0002) for k\n",
    "                     in range(len(experts_test))}\n",
    "\n",
    "        # Add expert accuracies dict\n",
    "        to_print = {\"coverage\": cov,\n",
    "                    \"system_accuracy\": 100 * correct_sys / real_total,\n",
    "                    \"expert_accuracy\": 100 * exp / (exp_total + 0.0002),\n",
    "                    \"classifier_accuracy\": 100 * correct / (total + 0.0001),\n",
    "                    \"alone_classifier\": 100 * alone_correct / real_total}\n",
    "        print(to_print, flush=True)\n",
    "\n",
    "        # Save to method dict === \n",
    "        method_dict_softmax[method].append(to_print)\n",
    "\n"
   ]
  },
  {
   "cell_type": "markdown",
   "id": "2f54ac20-5d27-4d36-8637-57b3c5f9971a",
   "metadata": {},
   "source": [
    "## Plot results"
   ]
  },
  {
   "cell_type": "code",
   "execution_count": null,
   "id": "86d820b8",
   "metadata": {
    "collapsed": false,
    "jupyter": {
     "outputs_hidden": false
    },
    "pycharm": {
     "name": "#%%\n"
    }
   },
   "outputs": [],
   "source": [
    "import matplotlib.pyplot as plt\n",
    "import numpy as np\n",
    "import seaborn as sns\n",
    "from matplotlib import rc\n",
    "\n",
    "# # === Latex Options === #\n",
    "rc('font', family='serif')\n",
    "rc('text', usetex=True)\n",
    "\n",
    "# === Matplotlib Options === #\n",
    "cm = plt.cm.get_cmap('tab10')\n",
    "plot_args = {\"marker\": \"o\",\n",
    "             \"markeredgecolor\": \"k\",\n",
    "             \"markersize\": 10,\n",
    "             \"linewidth\": 8\n",
    "             }\n",
    "sns.set_context(\"talk\", font_scale=1.3)\n",
    "fig_size = (7,7)\n"
   ]
  },
  {
   "cell_type": "code",
   "execution_count": null,
   "id": "ce96a176",
   "metadata": {
    "collapsed": false,
    "jupyter": {
     "outputs_hidden": false
    },
    "pycharm": {
     "name": "#%%\n"
    }
   },
   "outputs": [],
   "source": [
    "p_out = [0.1,0.2,0.4,0.6,0.8,0.95,1.0]\n",
    "\n",
    "\n",
    "# OvA ===\n",
    "sys_acc_standard_ova = np.array([method_d[\"system_accuracy\"] for method_d in method_dict_ova[\"standard\"]])\n",
    "sys_acc_last_ova = np.array([method_d[\"system_accuracy\"] for method_d in method_dict_ova[\"last\"]])\n",
    "sys_acc_random_ova = np.array([method_d[\"system_accuracy\"] for method_d in method_dict_ova[\"random\"]])\n",
    "sys_acc_voting_ova = np.array([method_d[\"system_accuracy\"] for method_d in method_dict_ova[\"voting\"]])\n",
    "\n",
    "# Softmax ===\n",
    "sys_acc_standard_softmax = np.array([method_d[\"system_accuracy\"] for method_d in method_dict_softmax[\"standard\"]])\n",
    "sys_acc_last_softmax = np.array([method_d[\"system_accuracy\"] for method_d in method_dict_softmax[\"last\"]])\n",
    "sys_acc_random_softmax = np.array([method_d[\"system_accuracy\"] for method_d in method_dict_softmax[\"random\"]])\n",
    "sys_acc_voting_softmax = np.array([method_d[\"system_accuracy\"] for method_d in method_dict_softmax[\"voting\"]])\n",
    "\n",
    "\n",
    "f, ax = plt.subplots(1, 1, figsize=fig_size)\n",
    "# OvA ===\n",
    "ax.plot(p_out, sys_acc_last_ova, \"-\", label=r\"Last\", color=cm(0), **plot_args)\n",
    "ax.plot(p_out, sys_acc_random_ova, \"-\", label=r\"Random\", color=cm(1), **plot_args)\n",
    "ax.plot(p_out, sys_acc_voting_ova, \"-\", label=r\"Voting\", color=cm(2), **plot_args)\n",
    "ax.plot(p_out, sys_acc_standard_ova, \"-\", label=r\"w/o conformal\", color=cm(3), **plot_args)\n",
    "\n",
    "# Softmax ===\n",
    "ax.plot(p_out, sys_acc_last_softmax, \"--\", color=cm(0), **plot_args)\n",
    "ax.plot(p_out, sys_acc_random_softmax, \"--\", color=cm(1), **plot_args)\n",
    "ax.plot(p_out, sys_acc_voting_softmax, \"--\", color=cm(2), **plot_args)\n",
    "ax.plot(p_out, sys_acc_standard_softmax, \"--\", color=cm(3), **plot_args)\n",
    "\n",
    "plt.xticks(p_out, p_out)\n",
    "plt.yticks(list(plt.yticks()[0])[::2])\n",
    "plt.ylabel(r'System Acc. ($\\%$)')\n",
    "plt.xlabel(r'Prob Experts')\n",
    "plt.title(r\"CIFAR-10\")\n",
    "plt.legend(loc=\"best\")\n",
    "plt.grid()\n",
    "f.set_tight_layout(True)\n",
    "plt.legend()\n",
    "\n",
    "plt.savefig(\"system_acc_gradual_overlap.pdf\")"
   ]
  },
  {
   "cell_type": "code",
   "execution_count": 64,
   "id": "cf6d8e45",
   "metadata": {
    "collapsed": false,
    "jupyter": {
     "outputs_hidden": false
    },
    "pycharm": {
     "name": "#%%\n"
    }
   },
   "outputs": [
    {
     "data": {
      "image/png": "[encoded data removed]",
      "text/plain": [
       "<Figure size 700x700 with 1 Axes>"
      ]
     },
     "metadata": {},
     "output_type": "display_data"
    }
   ],
   "source": [
    "p_out = [0.1,0.2,0.4,0.6,0.8,0.95,1.0]\n",
    "\n",
    "\n",
    "# OvA ===\n",
    "exp_acc_standard_ova = np.array([method_d[\"expert_accuracy\"] for method_d in method_dict_ova[\"standard\"]])\n",
    "exp_acc_last_ova = np.array([method_d[\"expert_accuracy\"] for method_d in method_dict_ova[\"last\"]])\n",
    "exp_acc_random_ova = np.array([method_d[\"expert_accuracy\"] for method_d in method_dict_ova[\"random\"]])\n",
    "exp_acc_voting_ova = np.array([method_d[\"expert_accuracy\"] for method_d in method_dict_ova[\"voting\"]])\n",
    "\n",
    "# Softmax ===\n",
    "exp_acc_standard_softmax = np.array([method_d[\"expert_accuracy\"] for method_d in method_dict_softmax[\"standard\"]])\n",
    "exp_acc_last_softmax = np.array([method_d[\"expert_accuracy\"] for method_d in method_dict_softmax[\"last\"]])\n",
    "exp_acc_random_softmax = np.array([method_d[\"expert_accuracy\"] for method_d in method_dict_softmax[\"random\"]])\n",
    "exp_acc_voting_softmax = np.array([method_d[\"expert_accuracy\"] for method_d in method_dict_softmax[\"voting\"]])\n",
    "\n",
    "\n",
    "f, ax = plt.subplots(1, 1, figsize=fig_size)\n",
    "# OvA ===\n",
    "ax.plot(p_out, exp_acc_last_ova, \"-\", label=r\"Last\", color=cm(0), **plot_args)\n",
    "ax.plot(p_out, exp_acc_random_ova, \"-\", label=r\"Random\", color=cm(1), **plot_args)\n",
    "ax.plot(p_out, exp_acc_voting_ova, \"-\", label=r\"Voting\", color=cm(2), **plot_args)\n",
    "ax.plot(p_out, exp_acc_standard_ova, \"-\", label=r\"w/o conformal\", color=cm(3), **plot_args)\n",
    "\n",
    "# Softmax ===\n",
    "ax.plot(p_out, exp_acc_last_softmax, \"--\", color=cm(0), **plot_args)\n",
    "ax.plot(p_out, exp_acc_random_softmax, \"--\", color=cm(1), **plot_args)\n",
    "ax.plot(p_out, exp_acc_voting_softmax, \"--\", color=cm(2), **plot_args)\n",
    "ax.plot(p_out, exp_acc_standard_softmax, \"--\", color=cm(3), **plot_args)\n",
    "\n",
    "plt.xticks(p_out, p_out)\n",
    "plt.yticks(list(plt.yticks()[0])[::2])\n",
    "plt.ylabel(r'Expert Acc. ($\\%$)')\n",
    "plt.xlabel(r'Prob Experts')\n",
    "plt.title(r\"CIFAR-10\")\n",
    "plt.legend(loc=\"best\")\n",
    "plt.grid()\n",
    "f.set_tight_layout(True)\n",
    "plt.legend()\n",
    "\n",
    "plt.savefig(\"expert_acc_gradual_overlap.pdf\")\n"
   ]
  },
  {
   "cell_type": "code",
   "execution_count": 65,
   "id": "da102664",
   "metadata": {
    "collapsed": false,
    "jupyter": {
     "outputs_hidden": false
    },
    "pycharm": {
     "name": "#%%\n"
    }
   },
   "outputs": [
    {
     "data": {
      "image/png": "[encoded data removed]",
      "text/plain": [
       "<Figure size 700x700 with 1 Axes>"
      ]
     },
     "metadata": {},
     "output_type": "display_data"
    }
   ],
   "source": [
    "p_out = [0.1,0.2,0.4,0.6,0.8,0.95,1.0]\n",
    "coverage_ova = np.array([method_d[\"coverage\"] for method_d in method_dict_ova[\"last\"]])\n",
    "coverage_softmax = np.array([method_d[\"coverage\"] for method_d in method_dict_softmax[\"last\"]])\n",
    "\n",
    "f, ax = plt.subplots(1, 1, figsize=fig_size)\n",
    "ax.plot(p_out, coverage_ova, \"-\", label=r\"OvA\", **plot_args)\n",
    "ax.plot(p_out, coverage_softmax, \"--\", label=r\"Softmax\", **plot_args)\n",
    "\n",
    "plt.xticks(p_out, p_out)\n",
    "plt.yticks(list(plt.yticks()[0])[::2])\n",
    "plt.ylabel(r'Model Coverage. ($\\%$)')\n",
    "plt.xlabel(r'Prob Experts')\n",
    "plt.title(r\"CIFAR-10\")\n",
    "plt.legend(loc=\"best\")\n",
    "plt.grid()\n",
    "f.set_tight_layout(True)\n",
    "plt.legend()\n",
    "\n",
    "\n",
    "plt.savefig(\"coverage_gradual_overlap.pdf\")\n"
   ]
  }
 ],
 "metadata": {
  "kernelspec": {
   "display_name": "Python 3 (ipykernel)",
   "language": "python",
   "name": "python3"
  },
  "language_info": {
   "codemirror_mode": {
    "name": "ipython",
    "version": 3
   },
   "file_extension": ".py",
   "mimetype": "text/x-python",
   "name": "python",
   "nbconvert_exporter": "python",
   "pygments_lexer": "ipython3",
   "version": "3.7.11"
  }
 },
 "nbformat": 4,
 "nbformat_minor": 5
}
