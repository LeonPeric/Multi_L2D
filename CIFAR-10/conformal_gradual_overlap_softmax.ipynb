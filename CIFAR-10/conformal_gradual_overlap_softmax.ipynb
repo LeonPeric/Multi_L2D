{
 "cells": [
  {
   "cell_type": "markdown",
   "id": "1079aba8-2e21-41d4-85c6-aaf7fd030cc1",
   "metadata": {
    "pycharm": {
     "name": "#%% md\n"
    }
   },
   "source": [
    "# Conformal Experiment: Increase Confidence Softmax"
   ]
  },
  {
   "cell_type": "code",
   "execution_count": 1,
   "id": "87f62873-3ac6-4961-934b-3ac2722fc73d",
   "metadata": {
    "pycharm": {
     "name": "#%%\n"
    }
   },
   "outputs": [],
   "source": [
    "import json\n",
    "\n",
    "import numpy as np\n",
    "import torch\n",
    "import matplotlib.pyplot as plt\n",
    "\n",
    "from scipy import stats"
   ]
  },
  {
   "cell_type": "code",
   "execution_count": 2,
   "id": "9b3f9dcf",
   "metadata": {
    "collapsed": false,
    "jupyter": {
     "outputs_hidden": false
    },
    "pycharm": {
     "name": "#%%\n"
    }
   },
   "outputs": [
    {
     "name": "stdout",
     "output_type": "stream",
     "text": [
      "torch.Size([9216, 20])\n",
      "torch.Size([9216, 20])\n",
      "torch.Size([9216, 20])\n",
      "torch.Size([9216, 20])\n",
      "torch.Size([9216, 20])\n",
      "torch.Size([9216, 20])\n",
      "torch.Size([9216, 20])\n"
     ]
    }
   ],
   "source": [
    "# === Softmax ===\n",
    "n_classes = 10\n",
    "probs_softmax = []\n",
    "confs = []\n",
    "exps = []\n",
    "true = []\n",
    "\n",
    "path = \"softmax_gradual_overlap/\"\n",
    "n_experts = 10\n",
    "p_out = [0.1,0.2,0.4,0.6,0.8,0.95,1.0]\n",
    "for p in p_out:\n",
    "    model_name = '_p_out_' + str(p)\n",
    "    with open(path + 'confidence_multiple_experts' + model_name + '.txt', 'r') as f:\n",
    "        conf = json.loads(json.load(f))\n",
    "    with open(path + 'expert_predictions_multiple_experts' + model_name + '.txt', 'r') as f:\n",
    "        exp_pred = json.loads(json.load(f))\n",
    "    with open(path + 'true_label_multiple_experts' + model_name + '.txt', 'r') as f:\n",
    "        true_label = json.loads(json.load(f))\n",
    "    true.append(true_label['test'])\n",
    "    exps.append(exp_pred['test'])\n",
    "    c = torch.tensor(conf['test'])\n",
    "    print(c.shape)\n",
    "    # DANI Correction ===\n",
    "    c = c.softmax(dim=1)\n",
    "    probs_softmax.append(c)\n",
    "    # DANI Correction ===\n",
    "\n",
    "    temp = 0\n",
    "    for i in range(n_experts):\n",
    "        temp += c[:, (n_classes + n_experts) - (i + 1)]\n",
    "    prob = c / (1.0 - temp).unsqueeze(-1)\n",
    "    confs.append(prob)\n"
   ]
  },
  {
   "cell_type": "markdown",
   "id": "c2ee2910",
   "metadata": {
    "pycharm": {
     "name": "#%% md\n"
    }
   },
   "source": [
    "### Use c, not conf, because we do not apply temperature scaling"
   ]
  },
  {
   "cell_type": "code",
   "execution_count": 3,
   "id": "9a0a2df8",
   "metadata": {
    "collapsed": false,
    "jupyter": {
     "outputs_hidden": false
    },
    "pycharm": {
     "name": "#%%\n"
    }
   },
   "outputs": [],
   "source": [
    "# 1 expert rando, 3 with prob 0.8 correct\n",
    "probs = probs_softmax[-1]\n",
    "experts = exps[-1]\n",
    "# experts = experts[::-1]  # reverse order!\n",
    "y_true = true[-1]"
   ]
  },
  {
   "cell_type": "code",
   "execution_count": 4,
   "id": "91e6f388",
   "metadata": {
    "collapsed": false,
    "jupyter": {
     "outputs_hidden": false
    },
    "pycharm": {
     "name": "#%%\n"
    }
   },
   "outputs": [
    {
     "data": {
      "text/plain": [
       "tensor([3.0817e-06, 2.0182e-06, 1.4315e-05, 8.3709e-02, 8.8724e-06, 1.4232e-04,\n",
       "        8.2299e-06, 1.8220e-05, 1.8390e-06, 4.9660e-06, 9.2039e-02, 9.0839e-02,\n",
       "        9.2396e-02, 9.0721e-02, 9.0430e-02, 9.2155e-02, 9.2374e-02, 9.1446e-02,\n",
       "        9.2521e-02, 9.1167e-02])"
      ]
     },
     "execution_count": 4,
     "metadata": {},
     "output_type": "execute_result"
    }
   ],
   "source": [
    "probs_softmax[-1][0]"
   ]
  },
  {
   "cell_type": "code",
   "execution_count": 5,
   "id": "da78ab80",
   "metadata": {
    "collapsed": false,
    "jupyter": {
     "outputs_hidden": false
    },
    "pycharm": {
     "name": "#%%\n"
    }
   },
   "outputs": [
    {
     "data": {
      "text/plain": [
       "array([[3, 8, 8, ..., 2, 9, 5],\n",
       "       [3, 8, 8, ..., 2, 9, 5],\n",
       "       [3, 8, 8, ..., 2, 9, 5],\n",
       "       ...,\n",
       "       [3, 8, 8, ..., 2, 9, 5],\n",
       "       [3, 8, 8, ..., 2, 9, 5],\n",
       "       [3, 8, 8, ..., 2, 9, 5]])"
      ]
     },
     "execution_count": 5,
     "metadata": {},
     "output_type": "execute_result"
    }
   ],
   "source": [
    "np.array(experts)"
   ]
  },
  {
   "cell_type": "code",
   "execution_count": 6,
   "id": "c6200bea",
   "metadata": {
    "collapsed": false,
    "jupyter": {
     "outputs_hidden": false
    },
    "pycharm": {
     "name": "#%%\n"
    }
   },
   "outputs": [
    {
     "data": {
      "text/plain": [
       "[3, 8, 8, 0, 6]"
      ]
     },
     "execution_count": 6,
     "metadata": {},
     "output_type": "execute_result"
    }
   ],
   "source": [
    "y_true[:5]"
   ]
  },
  {
   "cell_type": "code",
   "execution_count": 7,
   "id": "f5a013c1",
   "metadata": {
    "collapsed": false,
    "jupyter": {
     "outputs_hidden": false
    },
    "pycharm": {
     "name": "#%%\n"
    }
   },
   "outputs": [
    {
     "name": "stdout",
     "output_type": "stream",
     "text": [
      "N val:7372\n",
      "N test:1844\n"
     ]
    }
   ],
   "source": [
    "n_val = int(0.8 * len(y_true))\n",
    "n_test = len(y_true) - n_val\n",
    "print(\"N val:{}\".format(n_val))\n",
    "print(\"N test:{}\".format(n_test))"
   ]
  },
  {
   "cell_type": "code",
   "execution_count": 8,
   "id": "861b6a56",
   "metadata": {
    "collapsed": false,
    "jupyter": {
     "outputs_hidden": false
    },
    "pycharm": {
     "name": "#%%\n"
    }
   },
   "outputs": [
    {
     "data": {
      "text/plain": [
       "tensor([[3.0817e-06, 2.0182e-06, 1.4315e-05,  ..., 9.1446e-02, 9.2521e-02,\n",
       "         9.1167e-02],\n",
       "        [1.7391e-05, 4.4785e-05, 2.0990e-06,  ..., 9.1669e-02, 9.2580e-02,\n",
       "         9.1117e-02],\n",
       "        [7.0136e-05, 7.7207e-04, 9.6399e-06,  ..., 9.0781e-02, 9.1419e-02,\n",
       "         9.0359e-02],\n",
       "        ...,\n",
       "        [9.9898e-05, 8.9967e-06, 8.8326e-02,  ..., 9.1039e-02, 9.1936e-02,\n",
       "         9.0681e-02],\n",
       "        [2.4137e-03, 2.2703e-03, 2.2930e-03,  ..., 9.3228e-02, 9.3964e-02,\n",
       "         9.2938e-02],\n",
       "        [3.5272e-06, 1.0301e-05, 1.6463e-05,  ..., 9.0823e-02, 9.1748e-02,\n",
       "         9.0537e-02]])"
      ]
     },
     "execution_count": 8,
     "metadata": {},
     "output_type": "execute_result"
    }
   ],
   "source": [
    "probs"
   ]
  },
  {
   "cell_type": "markdown",
   "id": "c86ffd4a",
   "metadata": {
    "pycharm": {
     "name": "#%% md\n"
    }
   },
   "source": [
    "# Validation"
   ]
  },
  {
   "cell_type": "code",
   "execution_count": null,
   "id": "9ca47257",
   "metadata": {
    "collapsed": false,
    "jupyter": {
     "outputs_hidden": false
    },
    "pycharm": {
     "name": "#%%\n"
    }
   },
   "outputs": [],
   "source": [
    "## 2. get Q_hat\n",
    "\n",
    "n_classes_exp = n_classes + n_experts\n",
    "probs_val = probs[:n_val, 10:]\n",
    "\n",
    "# experts_val = experts[::-1]  # IMPORTANT! swap to match prob ordering\n",
    "experts_val = experts\n",
    "experts_val = [exp[:n_val] for exp in experts_val]\n",
    "\n",
    "y_true_val = y_true[:n_val]\n",
    "\n",
    "# === Only on deferred samples\n",
    "_, predicted = torch.max(probs[:n_val].data, 1)\n",
    "r = (predicted >= n_classes_exp - n_experts)\n",
    "\n",
    "# Filter \n",
    "probs_val = probs_val[r]\n",
    "experts_val = [np.array(exp)[r] for exp in experts_val]\n",
    "y_true_val = np.array(y_true_val)[r]\n",
    "\n",
    "# Model expert probs ===\n",
    "# Sort J model outputs for experts\n",
    "probs_experts = probs[:n_val, 10:]\n",
    "probs_experts = probs_experts[r]\n",
    "sort, pi = probs_experts.sort(dim=1, descending=True)\n",
    "\n",
    "# Correctness experts ===\n",
    "# Check if experts are correct \n",
    "correct_exp = (np.array(experts_val) == np.array(y_true_val)).T\n",
    "# idx for correct experts: [[0,1,2], [1,2], [], ...]\n",
    "correct_exp_idx = [np.where(correct_exp_i)[0] for correct_exp_i in correct_exp]\n",
    "\n",
    "# obtain the last expert to be retrieved. If empty, then add all values.\n",
    "# indexes are not the real expert index, but the sorted indexes, e.g. [[1, 0 ,2],  [1,0], [], ...]\n",
    "pi_corr_exp = [probs_experts[i, corr_exp].sort(descending=True)[1] for i, corr_exp in enumerate(correct_exp)]\n",
    "pi_corr_exp_stop = [pi_corr_exp_i[-1] if len(pi_corr_exp_i)!=0 else -1 for pi_corr_exp_i in pi_corr_exp]  # last expert\n",
    "\n",
    "# obtain real expert index back, e.g. [2,1,-1,...]\n",
    "pi_stop = [correct_exp_idx[i][pi_corr_exp_stop_i] if len(correct_exp_idx[i])!=0 else -1 for i, pi_corr_exp_stop_i in enumerate(pi_corr_exp_stop)]\n",
    "\n",
    "\n",
    "# =========\n",
    "n_val = n_val\n",
    "alpha = 0.1\n",
    "scores = sort.cumsum(dim=1).gather(1, pi.argsort(1))[range(len(torch.tensor(pi_stop))), torch.tensor(pi_stop)]\n",
    "qhat = torch.quantile(scores, np.ceil((r.sum() + 1) * (1 - alpha)) / r.sum(), interpolation=\"higher\")\n",
    "\n",
    "qhat"
   ]
  },
  {
   "cell_type": "code",
   "execution_count": null,
   "id": "445817be",
   "metadata": {
    "collapsed": false,
    "jupyter": {
     "outputs_hidden": false
    },
    "pycharm": {
     "name": "#%%\n"
    }
   },
   "outputs": [],
   "source": [
    "probs_val"
   ]
  },
  {
   "cell_type": "code",
   "execution_count": null,
   "id": "523711af",
   "metadata": {
    "collapsed": false,
    "jupyter": {
     "outputs_hidden": false
    },
    "pycharm": {
     "name": "#%%\n"
    }
   },
   "outputs": [],
   "source": [
    "probs[:,10:]"
   ]
  },
  {
   "cell_type": "code",
   "execution_count": null,
   "id": "6238f679",
   "metadata": {
    "collapsed": false,
    "jupyter": {
     "outputs_hidden": false
    },
    "pycharm": {
     "name": "#%%\n"
    }
   },
   "outputs": [],
   "source": [
    "sort.cumsum(dim=1).gather(1, pi.argsort(1))"
   ]
  },
  {
   "cell_type": "code",
   "execution_count": null,
   "id": "56585265",
   "metadata": {
    "collapsed": false,
    "jupyter": {
     "outputs_hidden": false
    },
    "pycharm": {
     "name": "#%%\n"
    }
   },
   "outputs": [],
   "source": [
    "y_true_val"
   ]
  },
  {
   "cell_type": "code",
   "execution_count": null,
   "id": "55647f34",
   "metadata": {
    "collapsed": false,
    "jupyter": {
     "outputs_hidden": false
    },
    "pycharm": {
     "name": "#%%\n"
    }
   },
   "outputs": [],
   "source": [
    "np.array(experts_val)"
   ]
  },
  {
   "cell_type": "markdown",
   "id": "8c8bbefa",
   "metadata": {
    "pycharm": {
     "name": "#%% md\n"
    }
   },
   "source": [
    "# Test"
   ]
  },
  {
   "cell_type": "code",
   "execution_count": null,
   "id": "f8d903a3",
   "metadata": {
    "collapsed": false,
    "jupyter": {
     "outputs_hidden": false
    },
    "pycharm": {
     "name": "#%%\n"
    }
   },
   "outputs": [],
   "source": [
    "n_classes = 10\n",
    "n_experts = 4\n",
    "n_classes_exp = n_classes + n_experts\n",
    "\n",
    "probs_test = probs[n_val:, n_classes:]\n",
    "experts_test = [exp[n_val:] for exp in experts]\n",
    "y_true_test = y_true[n_val:]\n"
   ]
  },
  {
   "cell_type": "code",
   "execution_count": null,
   "id": "ec6a653c",
   "metadata": {
    "collapsed": false,
    "jupyter": {
     "outputs_hidden": false
    },
    "pycharm": {
     "name": "#%%\n"
    }
   },
   "outputs": [],
   "source": [
    "probs_test.sum(1)"
   ]
  },
  {
   "cell_type": "code",
   "execution_count": null,
   "id": "b47445bc",
   "metadata": {
    "collapsed": false,
    "jupyter": {
     "outputs_hidden": false
    },
    "pycharm": {
     "name": "#%%\n"
    }
   },
   "outputs": [],
   "source": [
    "# === Only on deferred samples\n",
    "_, predicted = torch.max(probs[n_val:].data, 1)\n",
    "r_test = (predicted >= n_classes_exp - n_experts)\n",
    "\n",
    "# Filter \n",
    "probs_test = probs_test[r_test]\n",
    "experts_test = [np.array(exp)[r_test] for exp in experts_test]\n",
    "y_true_test = np.array(y_true_test)[r_test]\n",
    "\n",
    "# Sort J model outputs for experts. sorted probs and sorted indexes\n",
    "sort_test, pi_test = probs_test.sort(dim=1, descending=True)\n",
    "# Get last sorted index to be below Q_hat\n",
    "pi_stop = (sort_test.cumsum(dim=1) <= qhat).sum(axis=1)\n",
    "\n",
    "# Prediction sets\n",
    "prediction_sets = [(pi_test[i][:(pi_stop[i])]).numpy() for i in range(pi_stop.shape[0])]  # not allow empty sets\n",
    "prediction_sets[:5]"
   ]
  },
  {
   "cell_type": "code",
   "execution_count": null,
   "id": "29b4bbf1",
   "metadata": {
    "collapsed": false,
    "jupyter": {
     "outputs_hidden": false
    },
    "pycharm": {
     "name": "#%%\n"
    }
   },
   "outputs": [],
   "source": [
    "r.sum()"
   ]
  },
  {
   "cell_type": "code",
   "execution_count": null,
   "id": "cfac3048",
   "metadata": {
    "collapsed": false,
    "jupyter": {
     "outputs_hidden": false
    },
    "pycharm": {
     "name": "#%%\n"
    }
   },
   "outputs": [],
   "source": [
    "a = np.array([len(prediction_sets_i) for prediction_sets_i in prediction_sets])\n",
    "import seaborn as sns\n",
    "\n",
    "sns.histplot(a)"
   ]
  },
  {
   "cell_type": "code",
   "execution_count": null,
   "id": "1e22e850",
   "metadata": {
    "collapsed": false,
    "jupyter": {
     "outputs_hidden": false
    },
    "pycharm": {
     "name": "#%%\n"
    }
   },
   "outputs": [],
   "source": [
    "np.array(experts_test)[:,:5]"
   ]
  },
  {
   "cell_type": "markdown",
   "id": "cfdeb855",
   "metadata": {
    "pycharm": {
     "name": "#%% md\n"
    }
   },
   "source": [
    "# Accuracy"
   ]
  },
  {
   "cell_type": "markdown",
   "id": "b5311982",
   "metadata": {
    "pycharm": {
     "name": "#%% md\n"
    }
   },
   "source": [
    "### Accuracy w/o Conformal on deferred samples"
   ]
  },
  {
   "cell_type": "code",
   "execution_count": null,
   "id": "a614e962",
   "metadata": {
    "collapsed": false,
    "jupyter": {
     "outputs_hidden": false
    },
    "pycharm": {
     "name": "#%%\n"
    }
   },
   "outputs": [],
   "source": [
    "correct = 0\n",
    "correct_sys = 0\n",
    "exp = 0\n",
    "exp_total = 0\n",
    "total = 0\n",
    "real_total = 0\n",
    "alone_correct = 0\n",
    "#  === Individual Expert Accuracies === #\n",
    "expert_correct_dic = {k: 0 for k in range(len(experts_test))}\n",
    "expert_total_dic = {k: 0 for k in range(len(experts_test))}"
   ]
  },
  {
   "cell_type": "code",
   "execution_count": null,
   "id": "892e52fd",
   "metadata": {
    "collapsed": false,
    "jupyter": {
     "outputs_hidden": false
    },
    "pycharm": {
     "name": "#%%\n"
    }
   },
   "outputs": [],
   "source": [
    "# 1 expert rando, 3 with prob 0.9 correct\n",
    "probs = probs_softmax[-1]\n",
    "experts = exps[-1]\n",
    "# experts = experts[::-1] \n",
    "y_true = true[-1]"
   ]
  },
  {
   "cell_type": "code",
   "execution_count": null,
   "id": "f1e5839d",
   "metadata": {
    "collapsed": false,
    "jupyter": {
     "outputs_hidden": false
    },
    "pycharm": {
     "name": "#%%\n"
    }
   },
   "outputs": [],
   "source": [
    "n_classes = 10\n",
    "n_experts = 4\n",
    "n_classes_exp = n_classes + n_experts\n",
    "\n",
    "probs_test = probs[n_val:]\n",
    "experts_test = [exp[n_val:] for exp in experts]\n",
    "y_true_test = y_true[n_val:]\n"
   ]
  },
  {
   "cell_type": "code",
   "execution_count": null,
   "id": "3967d99f",
   "metadata": {
    "collapsed": false,
    "jupyter": {
     "outputs_hidden": false
    },
    "pycharm": {
     "name": "#%%\n"
    }
   },
   "outputs": [],
   "source": [
    "probs.shape"
   ]
  },
  {
   "cell_type": "code",
   "execution_count": null,
   "id": "8f56abf1",
   "metadata": {
    "collapsed": false,
    "jupyter": {
     "outputs_hidden": false
    },
    "pycharm": {
     "name": "#%%\n"
    }
   },
   "outputs": [],
   "source": [
    "# Predicted value \n",
    "_, predicted = torch.max(probs_test.data, 1)\n",
    "# Classifier alone prediction\n",
    "_, prediction = torch.max(probs_test.data[:, :(n_classes_exp - n_experts)],1)"
   ]
  },
  {
   "cell_type": "markdown",
   "id": "5f746ffb",
   "metadata": {
    "pycharm": {
     "name": "#%% md\n"
    }
   },
   "source": [
    "### w Conformal Prediction"
   ]
  },
  {
   "cell_type": "code",
   "execution_count": null,
   "id": "66fc3f89",
   "metadata": {
    "collapsed": false,
    "jupyter": {
     "outputs_hidden": false
    },
    "pycharm": {
     "name": "#%%\n"
    }
   },
   "outputs": [],
   "source": [
    "probs.sum(1)"
   ]
  },
  {
   "cell_type": "code",
   "execution_count": null,
   "id": "83f54531",
   "metadata": {
    "collapsed": false,
    "jupyter": {
     "outputs_hidden": false
    },
    "pycharm": {
     "name": "#%%\n"
    }
   },
   "outputs": [],
   "source": [
    "labels = y_true_test\n",
    "\n",
    "# Predicted value \n",
    "_, predicted = torch.max(probs_test.data, 1)\n",
    "# Classifier alone prediction\n",
    "_, prediction = torch.max(probs_test.data[:, :(n_classes_exp - n_experts)],1)\n",
    "for i in range(0, n_test):\n",
    "    r = (predicted[i].item() >= n_classes_exp - len(experts_test))\n",
    "    alone_correct += (prediction[i] == labels[i]).item()\n",
    "    if r == 0:\n",
    "        total += 1\n",
    "        correct += (predicted[i] == labels[i]).item()\n",
    "        correct_sys += (predicted[i] == labels[i]).item()\n",
    "        \n",
    "    if r == 1:\n",
    "        # Conformal prediction ===        \n",
    "        # Sort J model outputs for experts. sorted probs and sorted indexes\n",
    "        sort_i, pi_i = probs_test[i,n_classes:].sort(descending=True)\n",
    "        # Get last sorted index to be below Q_hat\n",
    "        pi_stop_i = (sort_i.cumsum(dim=0) <= qhat).sum()\n",
    "\n",
    "        # Prediction sets\n",
    "        prediction_set_i = (pi_i[:(pi_stop_i)]).numpy()  # not allow empty sets        \n",
    "#         print(len(prediction_set_i))\n",
    "        ensemble_expert_pred_i = np.array(experts_test)[prediction_set_i][:, i]\n",
    "        exp_prediction = stats.mode(ensemble_expert_pred_i).mode\n",
    "        # Conformal prediction ===\n",
    "        \n",
    "        # Deferral accuracy: No matter expert ===\n",
    "        exp += (exp_prediction == labels[i])\n",
    "        exp_total += 1\n",
    "        # Individual Expert Accuracy ===\n",
    "        # expert_correct_dic[deferred_exp] += (exp_prediction == labels[i].item())\n",
    "        # expert_total_dic[deferred_exp] += 1\n",
    "        #\n",
    "        correct_sys += (exp_prediction == labels[i])\n",
    "    real_total += 1\n",
    "    \n",
    "#  ===  Coverage  === #    \n",
    "cov = str(total) + str(\" out of\") + str(real_total)\n",
    "\n",
    "#  === Individual Expert Accuracies === #\n",
    "expert_accuracies = {\"expert_{}\".format(str(k)): 100 * expert_correct_dic[k] / (expert_total_dic[k] + 0.0002) for k\n",
    "             in range(len(experts_test))}\n",
    "\n",
    "\n",
    "\n",
    "\n"
   ]
  },
  {
   "cell_type": "code",
   "execution_count": null,
   "id": "11e14789",
   "metadata": {
    "collapsed": false,
    "jupyter": {
     "outputs_hidden": false
    },
    "pycharm": {
     "name": "#%%\n"
    }
   },
   "outputs": [],
   "source": [
    "exp_prediction"
   ]
  },
  {
   "cell_type": "code",
   "execution_count": null,
   "id": "046d5432",
   "metadata": {
    "collapsed": false,
    "jupyter": {
     "outputs_hidden": false
    },
    "pycharm": {
     "name": "#%%\n"
    }
   },
   "outputs": [],
   "source": [
    "sort_i"
   ]
  },
  {
   "cell_type": "code",
   "execution_count": null,
   "id": "77b66a5f",
   "metadata": {
    "collapsed": false,
    "jupyter": {
     "outputs_hidden": false
    },
    "pycharm": {
     "name": "#%%\n"
    }
   },
   "outputs": [],
   "source": [
    "print(\"Cov: {}\".format(100 * (total/real_total)))"
   ]
  },
  {
   "cell_type": "code",
   "execution_count": null,
   "id": "a1796739",
   "metadata": {
    "collapsed": false,
    "jupyter": {
     "outputs_hidden": false
    },
    "pycharm": {
     "name": "#%%\n"
    }
   },
   "outputs": [],
   "source": [
    "expert_accuracies"
   ]
  },
  {
   "cell_type": "code",
   "execution_count": null,
   "id": "3a6f6212",
   "metadata": {
    "collapsed": false,
    "jupyter": {
     "outputs_hidden": false
    },
    "pycharm": {
     "name": "#%%\n"
    }
   },
   "outputs": [],
   "source": [
    "100 * exp / (exp_total + 0.0002),"
   ]
  },
  {
   "cell_type": "code",
   "execution_count": null,
   "id": "f584255b",
   "metadata": {
    "collapsed": false,
    "jupyter": {
     "outputs_hidden": false
    },
    "pycharm": {
     "name": "#%%\n"
    }
   },
   "outputs": [],
   "source": [
    "exp_total"
   ]
  },
  {
   "cell_type": "code",
   "execution_count": null,
   "id": "fb5f839b",
   "metadata": {
    "collapsed": false,
    "jupyter": {
     "outputs_hidden": false
    },
    "pycharm": {
     "name": "#%%\n"
    }
   },
   "outputs": [],
   "source": [
    "100 * correct_sys / real_total"
   ]
  },
  {
   "cell_type": "markdown",
   "id": "a57deff0",
   "metadata": {
    "pycharm": {
     "name": "#%% md\n"
    }
   },
   "source": [
    "### w/o Conformal Prediction"
   ]
  },
  {
   "cell_type": "code",
   "execution_count": null,
   "id": "809745ae",
   "metadata": {
    "collapsed": false,
    "jupyter": {
     "outputs_hidden": false
    },
    "pycharm": {
     "name": "#%%\n"
    }
   },
   "outputs": [],
   "source": [
    "correct = 0\n",
    "correct_sys = 0\n",
    "exp = 0\n",
    "exp_total = 0\n",
    "total = 0\n",
    "real_total = 0\n",
    "alone_correct = 0\n",
    "#  === Individual Expert Accuracies === #\n",
    "expert_correct_dic = {k: 0 for k in range(len(experts_test))}\n",
    "expert_total_dic = {k: 0 for k in range(len(experts_test))}"
   ]
  },
  {
   "cell_type": "code",
   "execution_count": null,
   "id": "27ab0b65",
   "metadata": {
    "collapsed": false,
    "jupyter": {
     "outputs_hidden": false
    },
    "pycharm": {
     "name": "#%%\n"
    }
   },
   "outputs": [],
   "source": [
    "# 1 expert rando, 3 with prob 0.9 correct\n",
    "probs = probs_softmax[-1]\n",
    "experts = exps[-1]\n",
    "# experts = experts[::-1] \n",
    "y_true = true[-1]"
   ]
  },
  {
   "cell_type": "code",
   "execution_count": null,
   "id": "36888cb1",
   "metadata": {
    "collapsed": false,
    "jupyter": {
     "outputs_hidden": false
    },
    "pycharm": {
     "name": "#%%\n"
    }
   },
   "outputs": [],
   "source": [
    "n_classes = 10\n",
    "n_experts = 4\n",
    "n_classes_exp = n_classes + n_experts\n",
    "\n",
    "probs_test = probs[n_val:]\n",
    "experts_test = [exp[n_val:] for exp in experts]\n",
    "y_true_test = y_true[n_val:]\n"
   ]
  },
  {
   "cell_type": "code",
   "execution_count": null,
   "id": "4f21168a",
   "metadata": {
    "collapsed": false,
    "jupyter": {
     "outputs_hidden": false
    },
    "pycharm": {
     "name": "#%%\n"
    }
   },
   "outputs": [],
   "source": [
    "# Predicted value \n",
    "_, predicted = torch.max(probs_test.data, 1)\n",
    "# Classifier alone prediction\n",
    "_, prediction = torch.max(probs_test.data[:, :(n_classes_exp - n_experts)],1)"
   ]
  },
  {
   "cell_type": "code",
   "execution_count": null,
   "id": "9833cbdb",
   "metadata": {
    "collapsed": false,
    "jupyter": {
     "outputs_hidden": false
    },
    "pycharm": {
     "name": "#%%\n"
    }
   },
   "outputs": [],
   "source": [
    "labels = y_true_test\n",
    "\n",
    "# Predicted value \n",
    "_, predicted = torch.max(probs_test.data, 1)\n",
    "# Classifier alone prediction\n",
    "_, prediction = torch.max(probs_test.data[:, :(n_classes_exp - n_experts)],1)\n",
    "for i in range(0, n_test):\n",
    "    r = (predicted[i].item() >= n_classes_exp - len(experts_test))\n",
    "    alone_correct += (prediction[i] == labels[i]).item()\n",
    "    if r == 0:\n",
    "        total += 1\n",
    "        correct += (predicted[i] == labels[i]).item()\n",
    "        correct_sys += (predicted[i] == labels[i]).item()\n",
    "        \n",
    "    if r == 1:\n",
    "        deferred_exp = (predicted[i] - n_classes).item()  # reverse order, as in loss function\n",
    "        # print(\"def exp: {}\".format(deferred_exp))\n",
    "        # deferred_exp = ((n_classes - 1) - predicted[i]).item()  # reverse order, as in loss function\n",
    "        exp_prediction = experts_test[deferred_exp][i]\n",
    "        # print(\"exp pred: {}\".format(exp_prediction))\n",
    "        #\n",
    "        # Deferral accuracy: No matter expert ===\n",
    "        exp += (exp_prediction == labels[i])\n",
    "        # print(\"label: {}\".format(labels[i]))\n",
    "\n",
    "        exp_total += 1\n",
    "        # Individual Expert Accuracy ===\n",
    "        expert_correct_dic[deferred_exp] += (exp_prediction == labels[i])\n",
    "        expert_total_dic[deferred_exp] += 1\n",
    "        #\n",
    "        correct_sys += (exp_prediction == labels[i])\n",
    "    real_total += 1\n",
    "    \n",
    "#  ===  Coverage  === #    \n",
    "cov = str(total) + str(\" out of\") + str(real_total)\n",
    "\n",
    "#  === Individual Expert Accuracies === #\n",
    "expert_accuracies = {\"expert_{}\".format(str(k)): 100 * expert_correct_dic[k] / (expert_total_dic[k] + 0.0002) for k\n",
    "             in range(len(experts_test))}\n",
    "\n",
    "\n",
    "\n",
    "\n"
   ]
  },
  {
   "cell_type": "code",
   "execution_count": null,
   "id": "95e7e8ea",
   "metadata": {
    "collapsed": false,
    "jupyter": {
     "outputs_hidden": false
    },
    "pycharm": {
     "name": "#%%\n"
    }
   },
   "outputs": [],
   "source": [
    "(predicted[i] - n_classes)"
   ]
  },
  {
   "cell_type": "code",
   "execution_count": null,
   "id": "6e219e5d",
   "metadata": {
    "collapsed": false,
    "jupyter": {
     "outputs_hidden": false
    },
    "pycharm": {
     "name": "#%%\n"
    }
   },
   "outputs": [],
   "source": [
    "expert_accuracies"
   ]
  },
  {
   "cell_type": "code",
   "execution_count": null,
   "id": "3c525d18",
   "metadata": {
    "collapsed": false,
    "jupyter": {
     "outputs_hidden": false
    },
    "pycharm": {
     "name": "#%%\n"
    }
   },
   "outputs": [],
   "source": [
    "100 * exp / (exp_total + 0.0002),"
   ]
  },
  {
   "cell_type": "code",
   "execution_count": null,
   "id": "2a79c256",
   "metadata": {
    "collapsed": false,
    "jupyter": {
     "outputs_hidden": false
    },
    "pycharm": {
     "name": "#%%\n"
    }
   },
   "outputs": [],
   "source": [
    "exp"
   ]
  },
  {
   "cell_type": "code",
   "execution_count": null,
   "id": "656a9162",
   "metadata": {
    "collapsed": false,
    "jupyter": {
     "outputs_hidden": false
    },
    "pycharm": {
     "name": "#%%\n"
    }
   },
   "outputs": [],
   "source": [
    "100 * correct_sys / real_total"
   ]
  },
  {
   "cell_type": "markdown",
   "id": "0a4f7073",
   "metadata": {
    "pycharm": {
     "name": "#%% md\n"
    }
   },
   "source": [
    "### Accuracy w Conformal on deferred samples"
   ]
  },
  {
   "cell_type": "code",
   "execution_count": null,
   "id": "f0c089c6",
   "metadata": {
    "collapsed": false,
    "jupyter": {
     "outputs_hidden": false
    },
    "pycharm": {
     "name": "#%%\n"
    }
   },
   "outputs": [],
   "source": [
    "qhat"
   ]
  },
  {
   "cell_type": "code",
   "execution_count": null,
   "id": "abc9f126",
   "metadata": {
    "collapsed": false,
    "jupyter": {
     "outputs_hidden": false
    },
    "pycharm": {
     "name": "#%%\n"
    }
   },
   "outputs": [],
   "source": [
    "probs_test[:,10:]"
   ]
  },
  {
   "cell_type": "markdown",
   "id": "b098643b-aaff-4e99-9309-484eb795924a",
   "metadata": {
    "jupyter": {
     "outputs_hidden": false
    },
    "pycharm": {
     "name": "#%%\n"
    }
   },
   "source": [
    "# Metric Calculation"
   ]
  },
  {
   "cell_type": "code",
   "execution_count": 9,
   "id": "71ad072a",
   "metadata": {
    "collapsed": false,
    "jupyter": {
     "outputs_hidden": false
    },
    "pycharm": {
     "name": "#%%\n"
    }
   },
   "outputs": [],
   "source": [
    "def get_expert_prediction(experts, prediction_set_i, method=\"voting\"):\n",
    "    ensemble_expert_pred_i = np.array(experts_test)[prediction_set_i][:, i]\n",
    "    if method == \"voting\":\n",
    "        exp_prediction = stats.mode(ensemble_expert_pred_i).mode if len(ensemble_expert_pred_i)!=0 else []\n",
    "        \n",
    "    if method == \"last\": \n",
    "        exp_prediction = ensemble_expert_pred_i[-1] if len(ensemble_expert_pred_i)!=0 else []\n",
    "        \n",
    "    if method == \"random\":\n",
    "        idx = np.random.randint(len(ensemble_expert_pred_i)) if len(ensemble_expert_pred_i)!=0 else -1\n",
    "        exp_prediction = ensemble_expert_pred_i[idx] if idx!=-1 else []\n",
    "        \n",
    "    return exp_prediction"
   ]
  },
  {
   "cell_type": "code",
   "execution_count": 10,
   "id": "199c81e2",
   "metadata": {
    "collapsed": false,
    "jupyter": {
     "outputs_hidden": false
    },
    "pycharm": {
     "name": "#%%\n"
    }
   },
   "outputs": [
    {
     "name": "stdout",
     "output_type": "stream",
     "text": [
      "Method: last\n",
      "\n",
      "Q_hat 0.1: 3.2236502170562744\n",
      "{'coverage': 43.275488069414315, 'system_accuracy': 50.162689804772235, 'expert_accuracy': 20.65009165390217, 'classifier_accuracy': 88.84710666076359, 'alone_classifier': 86.8763557483731}\n",
      "Q_hat 0.2: 4.179203987121582\n",
      "{'coverage': 40.23861171366595, 'system_accuracy': 55.36876355748373, 'expert_accuracy': 31.0344771262292, 'classifier_accuracy': 91.509421629458, 'alone_classifier': 84.86984815618221}\n",
      "Q_hat 0.4: 6.107123374938965\n",
      "{'coverage': 28.524945770065077, 'system_accuracy': 63.55748373101952, 'expert_accuracy': 53.33838340843955, 'classifier_accuracy': 89.16348114762717, 'alone_classifier': 85.73752711496746}\n",
      "Q_hat 0.6: 8.231621742248535\n",
      "{'coverage': 40.726681127982644, 'system_accuracy': 76.35574837310195, 'expert_accuracy': 64.86732573333472, 'classifier_accuracy': 93.07588640800448, 'alone_classifier': 84.59869848156183}\n",
      "Q_hat 0.8: 10.39899730682373\n",
      "{'coverage': 35.140997830802604, 'system_accuracy': 87.52711496746204, 'expert_accuracy': 84.11369830874611, 'classifier_accuracy': 93.82714601432932, 'alone_classifier': 85.52060737527115}\n",
      "Q_hat 0.95: 11.78648853302002\n",
      "{'coverage': 34.38177874186551, 'system_accuracy': 95.82429501084599, 'expert_accuracy': 95.95039736357069, 'classifier_accuracy': 95.58358113823641, 'alone_classifier': 86.76789587852494}\n",
      "Q_hat 1.0: 11.904487609863281\n",
      "{'coverage': 28.470715835140997, 'system_accuracy': 98.37310195227765, 'expert_accuracy': 99.99998483700003, 'classifier_accuracy': 94.28569632653404, 'alone_classifier': 85.52060737527115}\n",
      "Method: random\n",
      "\n",
      "Q_hat 0.1: 3.2236502170562744\n",
      "{'coverage': 43.275488069414315, 'system_accuracy': 54.28416485900217, 'expert_accuracy': 27.91586464323812, 'classifier_accuracy': 88.84710666076359, 'alone_classifier': 86.8763557483731}\n",
      "Q_hat 0.2: 4.179203987121582\n",
      "{'coverage': 40.23861171366595, 'system_accuracy': 57.15835140997831, 'expert_accuracy': 34.029031936654825, 'classifier_accuracy': 91.509421629458, 'alone_classifier': 84.86984815618221}\n",
      "Q_hat 0.4: 6.107123374938965\n",
      "{'coverage': 28.524945770065077, 'system_accuracy': 61.388286334056396, 'expert_accuracy': 50.30348250326517, 'classifier_accuracy': 89.16348114762717, 'alone_classifier': 85.73752711496746}\n",
      "Q_hat 0.6: 8.231621742248535\n",
      "{'coverage': 40.726681127982644, 'system_accuracy': 76.84381778741866, 'expert_accuracy': 65.69074735759426, 'classifier_accuracy': 93.07588640800448, 'alone_classifier': 84.59869848156183}\n",
      "Q_hat 0.8: 10.39899730682373\n",
      "{'coverage': 35.140997830802604, 'system_accuracy': 86.98481561822126, 'expert_accuracy': 83.27757804722775, 'classifier_accuracy': 93.82714601432932, 'alone_classifier': 85.52060737527115}\n",
      "Q_hat 0.95: 11.78648853302002\n",
      "{'coverage': 34.38177874186551, 'system_accuracy': 95.82429501084599, 'expert_accuracy': 95.95039736357069, 'classifier_accuracy': 95.58358113823641, 'alone_classifier': 86.76789587852494}\n",
      "Q_hat 1.0: 11.904487609863281\n",
      "{'coverage': 28.470715835140997, 'system_accuracy': 98.37310195227765, 'expert_accuracy': 99.99998483700003, 'classifier_accuracy': 94.28569632653404, 'alone_classifier': 85.52060737527115}\n",
      "Method: voting\n",
      "\n",
      "Q_hat 0.1: 3.2236502170562744\n",
      "{'coverage': 43.275488069414315, 'system_accuracy': array([67.89587852]), 'expert_accuracy': array([51.91203596]), 'classifier_accuracy': 88.84710666076359, 'alone_classifier': 86.8763557483731}\n",
      "Q_hat 0.2: 4.179203987121582\n",
      "{'coverage': 40.23861171366595, 'system_accuracy': array([80.47722343]), 'expert_accuracy': array([73.04898856]), 'classifier_accuracy': 91.509421629458, 'alone_classifier': 84.86984815618221}\n",
      "Q_hat 0.4: 6.107123374938965\n",
      "{'coverage': 28.524945770065077, 'system_accuracy': array([93.70932755]), 'expert_accuracy': array([95.52350599]), 'classifier_accuracy': 89.16348114762717, 'alone_classifier': 85.73752711496746}\n",
      "Q_hat 0.6: 8.231621742248535\n",
      "{'coverage': 40.726681127982644, 'system_accuracy': array([96.7462039]), 'expert_accuracy': array([99.26805137]), 'classifier_accuracy': 93.07588640800448, 'alone_classifier': 84.59869848156183}\n",
      "Q_hat 0.8: 10.39899730682373\n",
      "{'coverage': 35.140997830802604, 'system_accuracy': array([97.8308026]), 'expert_accuracy': array([99.99998328]), 'classifier_accuracy': 93.82714601432932, 'alone_classifier': 85.52060737527115}\n",
      "Q_hat 0.95: 11.78648853302002\n",
      "{'coverage': 34.38177874186551, 'system_accuracy': array([98.48156182]), 'expert_accuracy': array([99.99998347]), 'classifier_accuracy': 95.58358113823641, 'alone_classifier': 86.76789587852494}\n",
      "Q_hat 1.0: 11.904487609863281\n",
      "{'coverage': 28.470715835140997, 'system_accuracy': array([98.37310195]), 'expert_accuracy': array([99.99998484]), 'classifier_accuracy': 94.28569632653404, 'alone_classifier': 85.52060737527115}\n"
     ]
    }
   ],
   "source": [
    "# Method dict ===\n",
    "method_list = [\"last\", \"random\", \"voting\"]\n",
    "method_dict = {\"last\": [],\n",
    "               \"random\": [],\n",
    "               \"voting\": []}\n",
    "\n",
    "\n",
    "p_out = [0.1,0.2,0.4,0.6,0.8,0.95,1.0]\n",
    "alpha = 0.1\n",
    "n_classes = 10\n",
    "n_experts = 10\n",
    "n_classes_exp = n_classes + n_experts\n",
    "\n",
    "for method in method_list:\n",
    "    \n",
    "    print(\"Method: {}\\n\".format(method))\n",
    "    for i, p_exp in enumerate(p_out):\n",
    "        # =============\n",
    "        # = Get Probs =\n",
    "        # =============\n",
    "\n",
    "        probs = confs[i]\n",
    "        experts = exps[i]\n",
    "        experts = experts[::-1]  # reverse order!\n",
    "        y_true = true[-i]\n",
    "\n",
    "        # Val/Calibration ===\n",
    "        probs_val = probs[:n_val, n_classes:]\n",
    "        experts_val = [exp[:n_val] for exp in experts]\n",
    "        y_true_val = y_true[:n_val]\n",
    "\n",
    "        # Test ===\n",
    "        probs_test = probs[n_val:, n_classes:]\n",
    "        experts_test = [exp[n_val:] for exp in experts]\n",
    "        y_true_test = y_true[n_val:]\n",
    "\n",
    "\n",
    "        # =============\n",
    "        # = Conformal =\n",
    "        # =============\n",
    "\n",
    "        # Calculate Q_hat ===\n",
    "\n",
    "        # === Only on deferred samples\n",
    "        _, predicted = torch.max(probs[:n_val].data, 1)\n",
    "        r = (predicted >= n_classes_exp - n_experts)\n",
    "\n",
    "        # Filter \n",
    "        probs_experts = probs_val[r]\n",
    "        experts_val = [np.array(exp)[r] for exp in experts_val]\n",
    "        y_true_val = np.array(y_true_val)[r]\n",
    "\n",
    "        # Model expert probs ===\n",
    "        # Sort J model outputs for experts\n",
    "        sort, pi = probs_experts.sort(dim=1, descending=True)\n",
    "\n",
    "        # Correctness experts ===\n",
    "        # Check if experts are correct \n",
    "        correct_exp = (np.array(experts_val) == np.array(y_true_val)).T\n",
    "        # idx for correct experts: [[0,1,2], [1,2], [], ...]\n",
    "        correct_exp_idx = [np.where(correct_exp_i)[0] for correct_exp_i in correct_exp]\n",
    "\n",
    "        # obtain the last expert to be retrieved. If empty, then add all values.\n",
    "        # indexes are not the real expert index, but the sorted indexes, e.g. [[1, 0 ,2],  [1,0], [], ...]\n",
    "        pi_corr_exp = [probs_experts[i, corr_exp].sort(descending=True)[1] for i, corr_exp in enumerate(correct_exp)]\n",
    "        pi_corr_exp_stop = [pi_corr_exp_i[-1] if len(pi_corr_exp_i)!=0 else -1 for pi_corr_exp_i in pi_corr_exp]  # last expert\n",
    "\n",
    "        # obtain real expert index back, e.g. [2,1,-1,...]\n",
    "        pi_stop = [correct_exp_idx[i][pi_corr_exp_stop_i] if len(correct_exp_idx[i])!=0 else -1 for i, pi_corr_exp_stop_i in enumerate(pi_corr_exp_stop)]\n",
    "\n",
    "        scores = sort.cumsum(dim=1).gather(1, pi.argsort(1))[range(len(torch.tensor(pi_stop))), torch.tensor(pi_stop)]\n",
    "        n_quantile = r.sum()\n",
    "        qhat = torch.quantile(scores, np.ceil((n_quantile + 1) * (1 - alpha)) / n_quantile, interpolation=\"higher\")\n",
    "\n",
    "        print(\"Q_hat {}: {}\".format(p_exp, qhat))\n",
    "\n",
    "\n",
    "        # =============\n",
    "        # = Metrics =\n",
    "        # =============\n",
    "\n",
    "        # === Initalize ====\n",
    "\n",
    "        correct = 0\n",
    "        correct_sys = 0\n",
    "        exp = 0\n",
    "        exp_total = 0\n",
    "        total = 0\n",
    "        real_total = 0\n",
    "        alone_correct = 0\n",
    "\n",
    "        # Individual Expert Accuracies === #\n",
    "        expert_correct_dic = {k: 0 for k in range(len(experts_test))}\n",
    "        expert_total_dic = {k: 0 for k in range(len(experts_test))}\n",
    "\n",
    "        probs_test_exp = probs_test\n",
    "        probs_test_model = probs[n_val:]\n",
    "\n",
    "        # Predicted value \n",
    "        _, predicted = torch.max(probs_test_model.data, 1)\n",
    "\n",
    "        # Classifier alone prediction\n",
    "        _, prediction = torch.max(probs_test_model.data[:, :(n_classes_exp - n_experts)],1)\n",
    "\n",
    "        labels = y_true_test\n",
    "        for i in range(0, n_test):\n",
    "            r = (predicted[i].item() >= n_classes_exp - n_experts)\n",
    "            alone_correct += (prediction[i] == labels[i]).item()\n",
    "\n",
    "            # Non-deferred \n",
    "            if r == 0:\n",
    "                total += 1\n",
    "                correct += (predicted[i] == labels[i]).item()\n",
    "                correct_sys += (predicted[i] == labels[i]).item()\n",
    "\n",
    "            # Deferred \n",
    "            if r == 1:\n",
    "                # Conformal prediction ===        \n",
    "                # Sort J model outputs for experts. sorted probs and sorted indexes\n",
    "                sort_i, pi_i = probs_test_exp[i].sort(descending=True)\n",
    "                # Get last sorted index to be below Q_hat\n",
    "                pi_stop_i = (sort_i.cumsum(dim=0) <= qhat).sum()\n",
    "\n",
    "                # Prediction sets\n",
    "                prediction_set_i = (pi_i[:(pi_stop_i)]).numpy()  # not allow empty sets        \n",
    "\n",
    "\n",
    "\n",
    "                # - Get expert prediction depending on method\n",
    "                # ======\n",
    "                exp_prediction = get_expert_prediction(experts_test, prediction_set_i, method=method)\n",
    "                # ======\n",
    "\n",
    "\n",
    "\n",
    "                # Deferral accuracy: No matter expert ===\n",
    "                exp += (exp_prediction == labels[i])\n",
    "                exp_total += 1\n",
    "                # Individual Expert Accuracy ===\n",
    "                # expert_correct_dic[deferred_exp] += (exp_prediction == labels[i].item())\n",
    "                # expert_total_dic[deferred_exp] += 1\n",
    "                #\n",
    "                correct_sys += (exp_prediction == labels[i])\n",
    "\n",
    "            real_total += 1\n",
    "\n",
    "        #  ===  Coverage  === #    \n",
    "        cov = 100 * total / real_total\n",
    "\n",
    "        #  === Individual Expert Accuracies === #\n",
    "        expert_accuracies = {\"expert_{}\".format(str(k)): 100 * expert_correct_dic[k] / (expert_total_dic[k] + 0.0002) for k\n",
    "                     in range(len(experts_test))}\n",
    "\n",
    "        # Add expert accuracies dict\n",
    "        to_print = {\"coverage\": cov,\n",
    "                    \"system_accuracy\": 100 * correct_sys / real_total,\n",
    "                    \"expert_accuracy\": 100 * exp / (exp_total + 0.0002),\n",
    "                    \"classifier_accuracy\": 100 * correct / (total + 0.0001),\n",
    "                    \"alone_classifier\": 100 * alone_correct / real_total}\n",
    "        print(to_print, flush=True)\n",
    "\n",
    "        # Save to method dict === \n",
    "        method_dict[method].append(to_print)\n",
    "\n"
   ]
  },
  {
   "cell_type": "code",
   "execution_count": 11,
   "id": "692d0dca",
   "metadata": {
    "collapsed": false,
    "jupyter": {
     "outputs_hidden": false
    },
    "pycharm": {
     "name": "#%%\n"
    }
   },
   "outputs": [],
   "source": [
    "import matplotlib.pyplot as plt\n",
    "import numpy as np\n",
    "import seaborn as sns\n",
    "from matplotlib import rc\n",
    "\n",
    "# # === Latex Options === #\n",
    "rc('font', family='serif')\n",
    "rc('text', usetex=True)\n",
    "\n",
    "# === Matplotlib Options === #\n",
    "cm = plt.cm.get_cmap('tab10')\n",
    "plot_args = {\"linestyle\": \"-\",\n",
    "             \"marker\": \"o\",\n",
    "             \"markeredgecolor\": \"k\",\n",
    "             \"markersize\": 10,\n",
    "             \"linewidth\": 8\n",
    "             }\n",
    "sns.set_context(\"talk\", font_scale=1.3)\n",
    "fig_size = (6, 6)\n"
   ]
  },
  {
   "cell_type": "code",
   "execution_count": 12,
   "id": "6d42d654",
   "metadata": {
    "collapsed": false,
    "jupyter": {
     "outputs_hidden": false
    },
    "pycharm": {
     "name": "#%%\n"
    }
   },
   "outputs": [
    {
     "data": {
      "text/plain": [
       "<matplotlib.legend.Legend at 0x7fae9a5113d0>"
      ]
     },
     "execution_count": 12,
     "metadata": {},
     "output_type": "execute_result"
    },
    {
     "data": {
      "image/png": "[encoded data removed]",
      "text/plain": [
       "<Figure size 600x600 with 1 Axes>"
      ]
     },
     "metadata": {},
     "output_type": "display_data"
    }
   ],
   "source": [
    "p_out = [0.1,0.2,0.4,0.6,0.8,0.95,1.0]\n",
    "\n",
    "sys_acc_last = np.array([method_d[\"system_accuracy\"] for method_d in method_dict[\"last\"]])\n",
    "sys_acc_random = np.array([method_d[\"system_accuracy\"] for method_d in method_dict[\"random\"]])\n",
    "sys_acc_voting = np.array([method_d[\"system_accuracy\"] for method_d in method_dict[\"voting\"]])\n",
    "\n",
    "f, ax = plt.subplots(1, 1, figsize=fig_size)\n",
    "ax.plot(p_out, sys_acc_last, label=r\"Last\", **plot_args)\n",
    "ax.plot(p_out, sys_acc_random, label=r\"Random\", **plot_args)\n",
    "ax.plot(p_out, sys_acc_voting, label=r\"Voting\", **plot_args)\n",
    "plt.xticks(p_out, p_out)\n",
    "plt.yticks(list(plt.yticks()[0])[::2])\n",
    "plt.ylabel(r'System Acc. ($\\%$)')\n",
    "plt.xlabel(r'Prob Experts')\n",
    "plt.title(r\"Softmax CIFAR-10\")\n",
    "plt.legend(loc=\"best\")\n",
    "plt.grid()\n",
    "f.set_tight_layout(True)\n",
    "plt.legend()\n"
   ]
  },
  {
   "cell_type": "code",
   "execution_count": 13,
   "id": "fadc0208",
   "metadata": {
    "collapsed": false,
    "jupyter": {
     "outputs_hidden": false
    },
    "pycharm": {
     "name": "#%%\n"
    }
   },
   "outputs": [
    {
     "data": {
      "text/plain": [
       "<matplotlib.legend.Legend at 0x7fae8991a2d0>"
      ]
     },
     "execution_count": 13,
     "metadata": {},
     "output_type": "execute_result"
    },
    {
     "data": {
      "image/png": "[encoded data removed]",
      "text/plain": [
       "<Figure size 600x600 with 1 Axes>"
      ]
     },
     "metadata": {},
     "output_type": "display_data"
    }
   ],
   "source": [
    "p_out = [0.1,0.2,0.4,0.6,0.8,0.95,1.0]\n",
    "\n",
    "exp_acc_last = np.array([method_d[\"expert_accuracy\"] for method_d in method_dict[\"last\"]])\n",
    "exp_acc_random = np.array([method_d[\"expert_accuracy\"] for method_d in method_dict[\"random\"]])\n",
    "exp_acc_voting = np.array([method_d[\"expert_accuracy\"] for method_d in method_dict[\"voting\"]])\n",
    "\n",
    "f, ax = plt.subplots(1, 1, figsize=fig_size)\n",
    "ax.plot(p_out, exp_acc_last, label=r\"Last\", **plot_args)\n",
    "ax.plot(p_out, exp_acc_random, label=r\"Random\", **plot_args)\n",
    "ax.plot(p_out, exp_acc_voting, label=r\"Voting\", **plot_args)\n",
    "plt.xticks(p_out, p_out)\n",
    "plt.yticks(list(plt.yticks()[0])[::2])\n",
    "plt.ylim([0, 105])\n",
    "plt.ylabel(r'Exp Acc. ($\\%$)')\n",
    "plt.xlabel(r'Prob Experts')\n",
    "plt.title(r\"Softmax CIFAR-10\")\n",
    "plt.legend(loc=\"best\")\n",
    "plt.grid()\n",
    "f.set_tight_layout(True)\n",
    "plt.legend()\n"
   ]
  },
  {
   "cell_type": "code",
   "execution_count": 14,
   "id": "d911da28",
   "metadata": {
    "collapsed": false,
    "jupyter": {
     "outputs_hidden": false
    },
    "pycharm": {
     "name": "#%%\n"
    }
   },
   "outputs": [
    {
     "data": {
      "text/plain": [
       "<matplotlib.legend.Legend at 0x7fae79998ad0>"
      ]
     },
     "execution_count": 14,
     "metadata": {},
     "output_type": "execute_result"
    },
    {
     "data": {
      "image/png": "[encoded data removed]",
      "text/plain": [
       "<Figure size 600x600 with 1 Axes>"
      ]
     },
     "metadata": {},
     "output_type": "display_data"
    }
   ],
   "source": [
    "p_out = [0.1,0.2,0.4,0.6,0.8,0.95,1.0]\n",
    "\n",
    "coverage = np.array([method_d[\"coverage\"] for method_d in method_dict[\"last\"]])\n",
    "\n",
    "f, ax = plt.subplots(1, 1, figsize=fig_size)\n",
    "ax.plot(p_out, coverage, label=r\"Coverage\", **plot_args)\n",
    "plt.xticks(p_out, p_out)\n",
    "plt.yticks(list(plt.yticks()[0])[::2])\n",
    "plt.ylabel(r'Model Coverage. ($\\%$)')\n",
    "plt.xlabel(r'Prob Experts')\n",
    "plt.title(r\"Softmax CIFAR-10\")\n",
    "plt.legend(loc=\"best\")\n",
    "plt.grid()\n",
    "f.set_tight_layout(True)\n",
    "plt.legend()\n"
   ]
  },
  {
   "cell_type": "code",
   "execution_count": null,
   "id": "98fabcaa-f180-4f47-ab85-14e7f4a10e15",
   "metadata": {
    "pycharm": {
     "name": "#%%\n"
    }
   },
   "outputs": [],
   "source": []
  },
  {
   "cell_type": "code",
   "execution_count": null,
   "id": "de595611-dc4a-456c-9685-9ea3d2177876",
   "metadata": {
    "pycharm": {
     "name": "#%%\n"
    }
   },
   "outputs": [],
   "source": []
  }
 ],
 "metadata": {
  "kernelspec": {
   "display_name": "Python 3 (ipykernel)",
   "language": "python",
   "name": "python3"
  },
  "language_info": {
   "codemirror_mode": {
    "name": "ipython",
    "version": 3
   },
   "file_extension": ".py",
   "mimetype": "text/x-python",
   "name": "python",
   "nbconvert_exporter": "python",
   "pygments_lexer": "ipython3",
   "version": "3.7.11"
  }
 },
 "nbformat": 4,
 "nbformat_minor": 5
}
