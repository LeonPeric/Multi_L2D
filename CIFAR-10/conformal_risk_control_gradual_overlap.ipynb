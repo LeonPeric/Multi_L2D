{
 "cells": [
  {
   "cell_type": "markdown",
   "id": "6b52bf07",
   "metadata": {
    "pycharm": {
     "name": "#%% md\n"
    }
   },
   "source": [
    "# Conformal Experiment: Gradual Overlap\n",
    "\n",
    "- OvA\n",
    "- Softmax"
   ]
  },
  {
   "cell_type": "code",
   "execution_count": 1,
   "id": "168fe84c",
   "metadata": {
    "collapsed": false,
    "jupyter": {
     "outputs_hidden": false
    },
    "pycharm": {
     "name": "#%%\n"
    }
   },
   "outputs": [],
   "source": [
    "import json\n",
    "\n",
    "import numpy as np\n",
    "import torch\n",
    "import matplotlib.pyplot as plt\n",
    "\n",
    "from scipy import stats\n",
    "from scipy.optimize import brentq"
   ]
  },
  {
   "cell_type": "code",
   "execution_count": 2,
   "id": "b6de73d2",
   "metadata": {
    "collapsed": false,
    "jupyter": {
     "outputs_hidden": false
    },
    "pycharm": {
     "name": "#%%\n"
    }
   },
   "outputs": [],
   "source": [
    "n_classes = 10\n",
    "n_experts = 10"
   ]
  },
  {
   "cell_type": "markdown",
   "id": "a3c81f4f",
   "metadata": {
    "pycharm": {
     "name": "#%% md\n"
    },
    "tags": []
   },
   "source": [
    "# Metric Calculation"
   ]
  },
  {
   "cell_type": "code",
   "execution_count": 3,
   "id": "19bb76d0",
   "metadata": {
    "collapsed": false,
    "jupyter": {
     "outputs_hidden": false
    },
    "pycharm": {
     "name": "#%%\n"
    }
   },
   "outputs": [],
   "source": [
    "def get_expert_prediction(experts, prediction_set_i, method=\"voting\"):\n",
    "    ensemble_expert_pred_i = np.array(experts_test)[prediction_set_i][:, i]\n",
    "    if method == \"voting\":\n",
    "        exp_prediction = stats.mode(ensemble_expert_pred_i).mode if len(ensemble_expert_pred_i)!=0 else []\n",
    "        \n",
    "    if method == \"last\": \n",
    "        exp_prediction = ensemble_expert_pred_i[-1] if len(ensemble_expert_pred_i)!=0 else []\n",
    "        \n",
    "    if method == \"random\":\n",
    "        idx = np.random.randint(len(ensemble_expert_pred_i)) if len(ensemble_expert_pred_i)!=0 else -1\n",
    "        exp_prediction = ensemble_expert_pred_i[idx] if idx!=-1 else []\n",
    "        \n",
    "    return exp_prediction"
   ]
  },
  {
   "cell_type": "markdown",
   "id": "85a8cdc6-b646-43ad-8415-4662567840b6",
   "metadata": {},
   "source": [
    "## OvA"
   ]
  },
  {
   "cell_type": "code",
   "execution_count": 4,
   "id": "adc60cb9",
   "metadata": {
    "collapsed": false,
    "jupyter": {
     "outputs_hidden": false
    },
    "pycharm": {
     "name": "#%%\n"
    }
   },
   "outputs": [],
   "source": [
    "# === OvA ===\n",
    "confs = []\n",
    "exps = []\n",
    "true = []\n",
    "path = \"ova_gradual_overlap/\"\n",
    "\n",
    "p_out = [0.1,0.2,0.4,0.6,0.8,0.95,1.0]\n",
    "for p in p_out:\n",
    "    model_name = '_p_out_' + str(p)\n",
    "    with open(path + 'confidence_multiple_experts' + model_name + '.txt', 'r') as f:\n",
    "        conf = json.loads(json.load(f))\n",
    "    with open(path + 'expert_predictions_multiple_experts' + model_name + '.txt', 'r') as f:\n",
    "        exp_pred = json.loads(json.load(f))\n",
    "    with open(path + 'true_label_multiple_experts' + model_name + '.txt', 'r') as f:\n",
    "        true_label = json.loads(json.load(f))\n",
    "    true.append(true_label['test'])\n",
    "    exps.append(exp_pred['test'])\n",
    "    c = torch.tensor(conf['test'])\n",
    "    # DANI Correction ===\n",
    "    c = c.sigmoid()\n",
    "    # DANI Correction ===\n",
    "    confs.append(c)"
   ]
  },
  {
   "cell_type": "code",
   "execution_count": 5,
   "id": "0faa56a8",
   "metadata": {
    "collapsed": false,
    "jupyter": {
     "outputs_hidden": false
    },
    "pycharm": {
     "name": "#%%\n"
    }
   },
   "outputs": [
    {
     "name": "stdout",
     "output_type": "stream",
     "text": [
      "N val:7372\n",
      "N test:1844\n"
     ]
    }
   ],
   "source": [
    "n_val = int(0.8 * len(true[0]))\n",
    "n_test = len(true[0]) - n_val\n",
    "print(\"N val:{}\".format(n_val))\n",
    "print(\"N test:{}\".format(n_test))"
   ]
  },
  {
   "cell_type": "code",
   "execution_count": 6,
   "id": "5c6a55f5-2044-416d-95dc-fb88889e2424",
   "metadata": {},
   "outputs": [],
   "source": [
    "p_out = [0.1,0.2,0.4,0.6,0.8,0.95,1.0]\n",
    "alpha = 0.1\n",
    "n_classes = 10\n",
    "n_experts = 10\n",
    "n_classes_exp = n_classes + n_experts\n"
   ]
  },
  {
   "cell_type": "code",
   "execution_count": 7,
   "id": "7be0479a",
   "metadata": {
    "collapsed": false,
    "jupyter": {
     "outputs_hidden": false
    },
    "pycharm": {
     "name": "#%%\n"
    }
   },
   "outputs": [
    {
     "name": "stdout",
     "output_type": "stream",
     "text": [
      "Method: standard\n",
      "\n",
      "The empirical FNR is: 0.9699094361671049 and the threshold value is: 0.16874410957062796\n",
      "{'coverage': 84.97830802603036, 'system_accuracy': 82.48373101952278, 'expert_accuracy': 23.104676458717357, 'classifier_accuracy': 92.98021104146707, 'alone_classifier': 87.79826464208243, 'prediction_set_size': 0.0}\n",
      "The empirical FNR is: 0.9475151238635979 and the threshold value is: 0.26362420618528426\n",
      "{'coverage': 80.42299349240781, 'system_accuracy': 82.32104121475054, 'expert_accuracy': 34.072003284208705, 'classifier_accuracy': 94.0660759227191, 'alone_classifier': 86.8763557483731, 'prediction_set_size': 0.0}\n",
      "The empirical FNR is: 0.8152220187220187 and the threshold value is: 0.44342832267207166\n",
      "{'coverage': 73.86117136659436, 'system_accuracy': 84.97830802603036, 'expert_accuracy': 53.52694874400467, 'classifier_accuracy': 96.10865667337323, 'alone_classifier': 86.17136659436008, 'prediction_set_size': 0.0}\n",
      "The empirical FNR is: 0.0 and the threshold value is: 0.6039571464054314\n",
      "{'coverage': 61.60520607375271, 'system_accuracy': 84.9240780911063, 'expert_accuracy': 65.39546175269443, 'classifier_accuracy': 97.0950618754347, 'alone_classifier': 86.8763557483731, 'prediction_set_size': 0.0}\n",
      "The empirical FNR is: 0.0 and the threshold value is: 0.8032187521448058\n",
      "{'coverage': 59.59869848156182, 'system_accuracy': 91.64859002169197, 'expert_accuracy': 81.61071634611642, 'classifier_accuracy': 98.45313025904184, 'alone_classifier': 86.71366594360087, 'prediction_set_size': 0.0}\n",
      "The empirical FNR is: 0.0 and the threshold value is: 0.9461513459676222\n",
      "{'coverage': 43.926247288503255, 'system_accuracy': 97.61388286334056, 'expert_accuracy': 96.42164479271861, 'classifier_accuracy': 99.13579023014935, 'alone_classifier': 86.22559652928416, 'prediction_set_size': 0.0}\n",
      "The empirical FNR is: 0.0 and the threshold value is: 0.9996886551372397\n",
      "{'coverage': 5.477223427331888, 'system_accuracy': 100.0, 'expert_accuracy': 99.99998852553202, 'classifier_accuracy': 99.99990099019703, 'alone_classifier': 85.52060737527115, 'prediction_set_size': 0.0}\n",
      "Method: last\n",
      "\n",
      "The empirical FNR is: 0.9699094361671049 and the threshold value is: 0.16874410957062796\n",
      "{'coverage': 84.97830802603036, 'system_accuracy': 80.26030368763557, 'expert_accuracy': 8.30324310235155, 'classifier_accuracy': 92.98021104146707, 'alone_classifier': 87.79826464208243, 'prediction_set_size': tensor(0.4079)}\n",
      "The empirical FNR is: 0.9475151238635979 and the threshold value is: 0.26362420618528426\n",
      "{'coverage': 80.42299349240781, 'system_accuracy': 79.82646420824295, 'expert_accuracy': 21.329628072228214, 'classifier_accuracy': 94.0660759227191, 'alone_classifier': 86.8763557483731, 'prediction_set_size': tensor(0.6343)}\n",
      "The empirical FNR is: 0.8152220187220187 and the threshold value is: 0.44342832267207166\n",
      "{'coverage': 73.86117136659436, 'system_accuracy': 84.70715835140997, 'expert_accuracy': 52.4896047760976, 'classifier_accuracy': 96.10865667337323, 'alone_classifier': 86.17136659436008, 'prediction_set_size': tensor(1.8776)}\n",
      "The empirical FNR is: 0.0 and the threshold value is: 0.6039571464054314\n",
      "{'coverage': 61.60520607375271, 'system_accuracy': 84.70715835140997, 'expert_accuracy': 64.83049016087848, 'classifier_accuracy': 97.0950618754347, 'alone_classifier': 86.8763557483731, 'prediction_set_size': tensor(10.)}\n",
      "The empirical FNR is: 0.0 and the threshold value is: 0.8032187521448058\n",
      "{'coverage': 59.59869848156182, 'system_accuracy': 92.62472885032538, 'expert_accuracy': 84.0268230800475, 'classifier_accuracy': 98.45313025904184, 'alone_classifier': 86.71366594360087, 'prediction_set_size': tensor(10.)}\n",
      "The empirical FNR is: 0.0 and the threshold value is: 0.9461513459676222\n",
      "{'coverage': 43.926247288503255, 'system_accuracy': 97.34273318872017, 'expert_accuracy': 95.93808589205302, 'classifier_accuracy': 99.13579023014935, 'alone_classifier': 86.22559652928416, 'prediction_set_size': tensor(10.)}\n",
      "The empirical FNR is: 0.0 and the threshold value is: 0.9996886551372397\n",
      "{'coverage': 5.477223427331888, 'system_accuracy': 100.0, 'expert_accuracy': 99.99998852553202, 'classifier_accuracy': 99.99990099019703, 'alone_classifier': 85.52060737527115, 'prediction_set_size': tensor(10.)}\n",
      "Method: random\n",
      "\n",
      "The empirical FNR is: 0.9699094361671049 and the threshold value is: 0.16874410957062796\n",
      "{'coverage': 84.97830802603036, 'system_accuracy': 80.26030368763557, 'expert_accuracy': 8.30324310235155, 'classifier_accuracy': 92.98021104146707, 'alone_classifier': 87.79826464208243, 'prediction_set_size': tensor(0.4079)}\n",
      "The empirical FNR is: 0.9475151238635979 and the threshold value is: 0.26362420618528426\n",
      "{'coverage': 80.42299349240781, 'system_accuracy': 79.9349240780911, 'expert_accuracy': 21.883644385792582, 'classifier_accuracy': 94.0660759227191, 'alone_classifier': 86.8763557483731, 'prediction_set_size': tensor(0.6343)}\n",
      "The empirical FNR is: 0.8152220187220187 and the threshold value is: 0.44342832267207166\n",
      "{'coverage': 73.86117136659436, 'system_accuracy': 85.19522776572668, 'expert_accuracy': 54.35682391833032, 'classifier_accuracy': 96.10865667337323, 'alone_classifier': 86.17136659436008, 'prediction_set_size': tensor(1.8776)}\n",
      "The empirical FNR is: 0.0 and the threshold value is: 0.6039571464054314\n",
      "{'coverage': 61.60520607375271, 'system_accuracy': 86.93058568329718, 'expert_accuracy': 70.62144897699181, 'classifier_accuracy': 97.0950618754347, 'alone_classifier': 86.8763557483731, 'prediction_set_size': tensor(10.)}\n",
      "The empirical FNR is: 0.0 and the threshold value is: 0.8032187521448058\n",
      "{'coverage': 59.59869848156182, 'system_accuracy': 91.86550976138828, 'expert_accuracy': 82.14762895365666, 'classifier_accuracy': 98.45313025904184, 'alone_classifier': 86.71366594360087, 'prediction_set_size': tensor(10.)}\n",
      "The empirical FNR is: 0.0 and the threshold value is: 0.9461513459676222\n",
      "{'coverage': 43.926247288503255, 'system_accuracy': 98.0477223427332, 'expert_accuracy': 97.19533903378355, 'classifier_accuracy': 99.13579023014935, 'alone_classifier': 86.22559652928416, 'prediction_set_size': tensor(10.)}\n",
      "The empirical FNR is: 0.0 and the threshold value is: 0.9996886551372397\n",
      "{'coverage': 5.477223427331888, 'system_accuracy': 100.0, 'expert_accuracy': 99.99998852553202, 'classifier_accuracy': 99.99990099019703, 'alone_classifier': 85.52060737527115, 'prediction_set_size': tensor(10.)}\n",
      "Method: voting\n",
      "\n",
      "The empirical FNR is: 0.9699094361671049 and the threshold value is: 0.16874410957062796\n",
      "{'coverage': 84.97830802603036, 'system_accuracy': array([80.26030369]), 'expert_accuracy': array([8.3032431]), 'classifier_accuracy': 92.98021104146707, 'alone_classifier': 87.79826464208243, 'prediction_set_size': tensor(0.4079)}\n",
      "The empirical FNR is: 0.9475151238635979 and the threshold value is: 0.26362420618528426\n",
      "{'coverage': 80.42299349240781, 'system_accuracy': array([79.77223427]), 'expert_accuracy': array([21.05261992]), 'classifier_accuracy': 94.0660759227191, 'alone_classifier': 86.8763557483731, 'prediction_set_size': tensor(0.6343)}\n",
      "The empirical FNR is: 0.8152220187220187 and the threshold value is: 0.44342832267207166\n",
      "{'coverage': 73.86117136659436, 'system_accuracy': array([85.35791757]), 'expert_accuracy': array([54.9792303]), 'classifier_accuracy': 96.10865667337323, 'alone_classifier': 86.17136659436008, 'prediction_set_size': tensor(1.8776)}\n",
      "The empirical FNR is: 0.0 and the threshold value is: 0.6039571464054314\n",
      "{'coverage': 61.60520607375271, 'system_accuracy': array([98.15618221]), 'expert_accuracy': array([99.85872885]), 'classifier_accuracy': 97.0950618754347, 'alone_classifier': 86.8763557483731, 'prediction_set_size': tensor(10.)}\n",
      "The empirical FNR is: 0.0 and the threshold value is: 0.8032187521448058\n",
      "{'coverage': 59.59869848156182, 'system_accuracy': array([99.07809111]), 'expert_accuracy': array([99.99997315]), 'classifier_accuracy': 98.45313025904184, 'alone_classifier': 86.71366594360087, 'prediction_set_size': tensor(10.)}\n",
      "The empirical FNR is: 0.0 and the threshold value is: 0.9461513459676222\n",
      "{'coverage': 43.926247288503255, 'system_accuracy': array([99.62039046]), 'expert_accuracy': array([99.99998066]), 'classifier_accuracy': 99.13579023014935, 'alone_classifier': 86.22559652928416, 'prediction_set_size': tensor(10.)}\n",
      "The empirical FNR is: 0.0 and the threshold value is: 0.9996886551372397\n",
      "{'coverage': 5.477223427331888, 'system_accuracy': array([100.]), 'expert_accuracy': array([99.99998853]), 'classifier_accuracy': 99.99990099019703, 'alone_classifier': 85.52060737527115, 'prediction_set_size': tensor(10.)}\n"
     ]
    }
   ],
   "source": [
    "# Method dict ===\n",
    "method_list_ova = [\"standard\", \"last\", \"random\", \"voting\"]\n",
    "method_dict_ova = {\"standard\": [],\n",
    "               \"last\": [],\n",
    "               \"random\": [],\n",
    "               \"voting\": []}\n",
    "\n",
    "for method in method_list_ova:\n",
    "    \n",
    "    print(\"Method: {}\\n\".format(method))\n",
    "    for i, p in enumerate(p_out):\n",
    "        # =============\n",
    "        # = Get Probs =\n",
    "        # =============\n",
    "\n",
    "        probs = confs[i]\n",
    "        experts = exps[i]\n",
    "        experts = experts[::-1]  # reverse order!\n",
    "        y_true = true[-i]\n",
    "\n",
    "        # Val/Calibration ===\n",
    "        probs_val = probs[:n_val, n_classes:]\n",
    "        experts_val = [exp[:n_val] for exp in experts]\n",
    "        y_true_val = y_true[:n_val]\n",
    "\n",
    "        # Test ===\n",
    "        probs_test = probs[n_val:, n_classes:]\n",
    "        experts_test = [exp[n_val:] for exp in experts]\n",
    "        y_true_test = y_true[n_val:]\n",
    "\n",
    "\n",
    "        # =============\n",
    "        # = Conformal =\n",
    "        # =============\n",
    "\n",
    "        # Calculate Q_hat ===\n",
    "\n",
    "        # === Only on deferred samples\n",
    "        _, predicted = torch.max(probs[:n_val].data, 1)\n",
    "        r = (predicted >= n_classes_exp - n_experts)\n",
    "\n",
    "        # Filter \n",
    "        probs_experts = probs_val[r]\n",
    "        experts_val = [np.array(exp)[r] for exp in experts_val]\n",
    "        y_true_val = np.array(y_true_val)[r]\n",
    "\n",
    "        def false_negative_rate(prediction_set, gt_labels):\n",
    "            return 1 - ((prediction_set*gt_labels).sum(axis=1)/gt_labels.sum(axis=1)).mean()\n",
    "\n",
    "        #print(probs_experts.shape, np.array(experts_val).shape, y_true_val.shape)\n",
    "\n",
    "        gt_labels = (np.array(experts_val) == np.array(y_true_val)).T\n",
    "\n",
    "        #print(gt_labels.shape)\n",
    "\n",
    "        n = gt_labels.shape[0]\n",
    "\n",
    "\n",
    "        # Run the conformal risk control procedure\n",
    "        def lamhat_threshold(lam): return false_negative_rate(probs_experts>=lam, gt_labels) - ((n+1)/n*alpha - 1/(n+1))\n",
    "        lamhat = brentq(lamhat_threshold, 0, 1)\n",
    "        prediction_sets = probs_experts >= 1-lamhat\n",
    "        #print(prediction_sets.shape, torch.sum(prediction_sets, dim=1))\n",
    "        print(f\"The empirical FNR is: {false_negative_rate(prediction_sets, gt_labels)} and the threshold value is: {lamhat}\")\n",
    "        #print(\"Average Prediction Set Size is: {}\".format(np.mean(torch.sum(prediction_sets, dim=1).numpy())))\n",
    "\n",
    "        # # Model expert probs ===\n",
    "        # # Sort J model outputs for experts\n",
    "        # sort, pi = probs_experts.sort(dim=1, descending=True)\n",
    "\n",
    "        # # Correctness experts ===\n",
    "        # # Check if experts are correct \n",
    "        # correct_exp = (np.array(experts_val) == np.array(y_true_val)).T\n",
    "        # # idx for correct experts: [[0,1,2], [1,2], [], ...]\n",
    "        # correct_exp_idx = [np.where(correct_exp_i)[0] for correct_exp_i in correct_exp]\n",
    "\n",
    "        # # obtain the last expert to be retrieved. If empty, then add all values.\n",
    "        # # indexes are not the real expert index, but the sorted indexes, e.g. [[1, 0 ,2],  [1,0], [], ...]\n",
    "        # pi_corr_exp = [probs_experts[i, corr_exp].sort(descending=True)[1] for i, corr_exp in enumerate(correct_exp)]\n",
    "        # pi_corr_exp_stop = [pi_corr_exp_i[-1] if len(pi_corr_exp_i)!=0 else -1 for pi_corr_exp_i in pi_corr_exp]  # last expert\n",
    "\n",
    "        # # obtain real expert index back, e.g. [2,1,-1,...]\n",
    "        # pi_stop = [correct_exp_idx[i][pi_corr_exp_stop_i] if len(correct_exp_idx[i])!=0 else -1 for i, pi_corr_exp_stop_i in enumerate(pi_corr_exp_stop)]\n",
    "\n",
    "        # scores = sort.cumsum(dim=1).gather(1, pi.argsort(1))[range(len(torch.tensor(pi_stop))), torch.tensor(pi_stop)]\n",
    "        # n_quantile = r.sum()\n",
    "        # qhat = torch.quantile(scores, np.ceil((n_quantile + 1) * (1 - alpha)) / n_quantile, interpolation=\"higher\")\n",
    "\n",
    "        # print(\"Q_hat {}: {}\".format(p, qhat))\n",
    "\n",
    "\n",
    "        # =============\n",
    "        # = Metrics =\n",
    "        # =============\n",
    "\n",
    "        # === Initalize ====\n",
    "\n",
    "        correct = 0\n",
    "        correct_sys = 0\n",
    "        exp = 0\n",
    "        exp_total = 0\n",
    "        total = 0\n",
    "        real_total = 0\n",
    "        alone_correct = 0\n",
    "        prediction_set_size = 0\n",
    "        prediction_set_len = 0\n",
    "\n",
    "        # Individual Expert Accuracies === #\n",
    "        expert_correct_dic = {k: 0 for k in range(len(experts_test))}\n",
    "        expert_total_dic = {k: 0 for k in range(len(experts_test))}\n",
    "\n",
    "        probs_test_exp = probs_test\n",
    "        probs_test_model = probs[n_val:]\n",
    "\n",
    "        # Predicted value \n",
    "        _, predicted = torch.max(probs_test_model.data, 1)\n",
    "\n",
    "        # Classifier alone prediction\n",
    "        _, prediction = torch.max(probs_test_model.data[:, :(n_classes_exp - n_experts)],1)\n",
    "\n",
    "        labels = y_true_test\n",
    "        for i in range(0, n_test):\n",
    "            r = (predicted[i].item() >= n_classes_exp - n_experts)\n",
    "            alone_correct += (prediction[i] == labels[i]).item()\n",
    "\n",
    "            # Non-deferred \n",
    "            if r == 0:\n",
    "                total += 1\n",
    "                correct += (predicted[i] == labels[i]).item()\n",
    "                correct_sys += (predicted[i] == labels[i]).item()\n",
    "\n",
    "            # Deferred \n",
    "            if r == 1:\n",
    "                # Non Conformal prediction ===\n",
    "                if method==\"standard\":\n",
    "                    deferred_exp = (predicted[i] - n_classes).item()  # reverse order, as in loss function\n",
    "                    exp_prediction = experts_test[deferred_exp][i]\n",
    "                    \n",
    "                    # Conformal prediction ===        \n",
    "                else:                \n",
    "                    # Sort J model outputs for experts. sorted probs and sorted indexes\n",
    "                    #sort_i, pi_i = probs_test_exp[i].sort(descending=True)\n",
    "                    # Get last sorted index to be below Q_hat\n",
    "                    #pi_stop_i = (sort_i.cumsum(dim=0) <= qhat).sum()\n",
    "                    # Prediction sets\n",
    "                    prediction_set_i = probs_test_exp[i] >= 1- lamhat #(pi_i[:(pi_stop_i)]).numpy()  # not allow empty sets\n",
    "                    prediction_set_len = sum(prediction_set_i)    \n",
    "\n",
    "                    # - Get expert prediction depending on method\n",
    "                    # ======\n",
    "                    exp_prediction = get_expert_prediction(experts_test, prediction_set_i, method=method)\n",
    "                    # ======\n",
    "\n",
    "\n",
    "\n",
    "                # Deferral accuracy: No matter expert ===\n",
    "                exp += (exp_prediction == labels[i])\n",
    "                exp_total += 1\n",
    "                # Individual Expert Accuracy ===\n",
    "                # expert_correct_dic[deferred_exp] += (exp_prediction == labels[i].item())\n",
    "                # expert_total_dic[deferred_exp] += 1\n",
    "                #\n",
    "                correct_sys += (exp_prediction == labels[i])\n",
    "                prediction_set_size += prediction_set_len\n",
    "\n",
    "            real_total += 1\n",
    "\n",
    "        #  ===  Coverage  === #    \n",
    "        cov = 100 * total / real_total\n",
    "\n",
    "        #  === Individual Expert Accuracies === #\n",
    "        expert_accuracies = {\"expert_{}\".format(str(k)): 100 * expert_correct_dic[k] / (expert_total_dic[k] + 0.0002) for k\n",
    "                     in range(len(experts_test))}\n",
    "\n",
    "        # Add expert accuracies dict\n",
    "        to_print = {\"coverage\": cov,\n",
    "                    \"system_accuracy\": 100 * correct_sys / real_total,\n",
    "                    \"expert_accuracy\": 100 * exp / (exp_total + 0.0002),\n",
    "                    \"classifier_accuracy\": 100 * correct / (total + 0.0001),\n",
    "                    \"alone_classifier\": 100 * alone_correct / real_total,\n",
    "                    \"prediction_set_size\": prediction_set_size / (exp_total + 0.00002)}\n",
    "        print(to_print, flush=True)\n",
    "\n",
    "        # Save to method dict === \n",
    "        method_dict_ova[method].append(to_print)\n",
    "\n"
   ]
  },
  {
   "cell_type": "code",
   "execution_count": null,
   "id": "de0dab54",
   "metadata": {},
   "outputs": [],
   "source": []
  },
  {
   "cell_type": "markdown",
   "id": "cc6b259b-e787-41e0-b696-9fe694a76eee",
   "metadata": {},
   "source": [
    "## Softmax"
   ]
  },
  {
   "cell_type": "code",
   "execution_count": 8,
   "id": "9d753c9d-3404-4984-b5c4-9a31b2e8c8be",
   "metadata": {},
   "outputs": [
    {
     "name": "stdout",
     "output_type": "stream",
     "text": [
      "torch.Size([9216, 20])\n",
      "torch.Size([9216, 20])\n",
      "torch.Size([9216, 20])\n",
      "torch.Size([9216, 20])\n",
      "torch.Size([9216, 20])\n",
      "torch.Size([9216, 20])\n",
      "torch.Size([9216, 20])\n"
     ]
    }
   ],
   "source": [
    "# === Softmax ===\n",
    "n_classes = 10\n",
    "probs_softmax = []\n",
    "confs = []\n",
    "exps = []\n",
    "true = []\n",
    "\n",
    "path = \"softmax_gradual_overlap/\"\n",
    "n_experts = 10\n",
    "p_out = [0.1,0.2,0.4,0.6,0.8,0.95,1.0]\n",
    "for p in p_out:\n",
    "    model_name = '_p_out_' + str(p)\n",
    "    with open(path + 'confidence_multiple_experts' + model_name + '.txt', 'r') as f:\n",
    "        conf = json.loads(json.load(f))\n",
    "    with open(path + 'expert_predictions_multiple_experts' + model_name + '.txt', 'r') as f:\n",
    "        exp_pred = json.loads(json.load(f))\n",
    "    with open(path + 'true_label_multiple_experts' + model_name + '.txt', 'r') as f:\n",
    "        true_label = json.loads(json.load(f))\n",
    "    true.append(true_label['test'])\n",
    "    exps.append(exp_pred['test'])\n",
    "    c = torch.tensor(conf['test'])\n",
    "    print(c.shape)\n",
    "    # DANI Correction ===\n",
    "    c = c.softmax(dim=1)\n",
    "    probs_softmax.append(c)\n",
    "    # DANI Correction ===\n",
    "\n",
    "    temp = 0\n",
    "    for i in range(n_experts):\n",
    "        temp += c[:, (n_classes + n_experts) - (i + 1)]\n",
    "    prob = c / (1.0 - temp).unsqueeze(-1)\n",
    "    confs.append(prob)\n"
   ]
  },
  {
   "cell_type": "code",
   "execution_count": 9,
   "id": "35ccecb5-175f-4489-9d74-8b8a78ab8ad8",
   "metadata": {
    "collapsed": false,
    "jupyter": {
     "outputs_hidden": false
    },
    "pycharm": {
     "name": "#%%\n"
    }
   },
   "outputs": [
    {
     "name": "stdout",
     "output_type": "stream",
     "text": [
      "Method: standard\n",
      "\n",
      "The empirical FNR is: 1.0 and the threshold value is: 0.04714297689523182\n",
      "{'coverage': 43.275488069414315, 'system_accuracy': 51.13882863340564, 'expert_accuracy': 22.370932625060686, 'classifier_accuracy': 88.84710666076359, 'alone_classifier': 86.8763557483731, 'prediction_set_size': 0.0}\n",
      "The empirical FNR is: 1.0 and the threshold value is: 0.0561915580192705\n",
      "{'coverage': 40.23861171366595, 'system_accuracy': 54.66377440347072, 'expert_accuracy': 29.85480401909183, 'classifier_accuracy': 91.509421629458, 'alone_classifier': 84.86984815618221, 'prediction_set_size': 0.0}\n",
      "The empirical FNR is: 1.0 and the threshold value is: 0.06854746863290273\n",
      "{'coverage': 28.524945770065077, 'system_accuracy': 60.140997830802604, 'expert_accuracy': 48.558414482789914, 'classifier_accuracy': 89.16348114762717, 'alone_classifier': 85.73752711496746, 'prediction_set_size': 0.0}\n",
      "The empirical FNR is: 1.0 and the threshold value is: 0.07713161781431041\n",
      "{'coverage': 40.726681127982644, 'system_accuracy': 76.57266811279827, 'expert_accuracy': 65.2332908996723, 'classifier_accuracy': 93.07588640800448, 'alone_classifier': 84.59869848156183, 'prediction_set_size': 0.0}\n",
      "The empirical FNR is: 1.0 and the threshold value is: 0.08354805782476783\n",
      "{'coverage': 35.140997830802604, 'system_accuracy': 85.95444685466377, 'expert_accuracy': 81.68894955034288, 'classifier_accuracy': 93.82714601432932, 'alone_classifier': 85.52060737527115, 'prediction_set_size': 0.0}\n",
      "The empirical FNR is: 1.0 and the threshold value is: 0.08816060051217538\n",
      "{'coverage': 34.38177874186551, 'system_accuracy': 95.93275488069415, 'expert_accuracy': 96.1156865924485, 'classifier_accuracy': 95.58358113823641, 'alone_classifier': 86.76789587852494, 'prediction_set_size': 0.0}\n",
      "The empirical FNR is: 1.0 and the threshold value is: 0.09012712910677717\n",
      "{'coverage': 28.470715835140997, 'system_accuracy': 98.37310195227765, 'expert_accuracy': 99.99998483700003, 'classifier_accuracy': 94.28569632653404, 'alone_classifier': 85.52060737527115, 'prediction_set_size': 0.0}\n",
      "Method: last\n",
      "\n",
      "The empirical FNR is: 1.0 and the threshold value is: 0.04714297689523182\n",
      "{'coverage': 43.275488069414315, 'system_accuracy': 38.44902386117137, 'expert_accuracy': 0.0, 'classifier_accuracy': 88.84710666076359, 'alone_classifier': 86.8763557483731, 'prediction_set_size': tensor(0.)}\n",
      "The empirical FNR is: 1.0 and the threshold value is: 0.0561915580192705\n",
      "{'coverage': 40.23861171366595, 'system_accuracy': 36.82212581344903, 'expert_accuracy': 0.0, 'classifier_accuracy': 91.509421629458, 'alone_classifier': 84.86984815618221, 'prediction_set_size': tensor(0.)}\n",
      "The empirical FNR is: 1.0 and the threshold value is: 0.06854746863290273\n",
      "{'coverage': 28.524945770065077, 'system_accuracy': 25.433839479392624, 'expert_accuracy': 0.0, 'classifier_accuracy': 89.16348114762717, 'alone_classifier': 85.73752711496746, 'prediction_set_size': tensor(0.)}\n",
      "The empirical FNR is: 1.0 and the threshold value is: 0.07713161781431041\n",
      "{'coverage': 40.726681127982644, 'system_accuracy': 37.906724511930584, 'expert_accuracy': 0.0, 'classifier_accuracy': 93.07588640800448, 'alone_classifier': 84.59869848156183, 'prediction_set_size': tensor(0.)}\n",
      "The empirical FNR is: 1.0 and the threshold value is: 0.08354805782476783\n",
      "{'coverage': 35.140997830802604, 'system_accuracy': 32.971800433839476, 'expert_accuracy': 0.0, 'classifier_accuracy': 93.82714601432932, 'alone_classifier': 85.52060737527115, 'prediction_set_size': tensor(0.)}\n",
      "The empirical FNR is: 1.0 and the threshold value is: 0.08816060051217538\n",
      "{'coverage': 34.38177874186551, 'system_accuracy': 32.86334056399132, 'expert_accuracy': 0.0, 'classifier_accuracy': 95.58358113823641, 'alone_classifier': 86.76789587852494, 'prediction_set_size': tensor(0.)}\n",
      "The empirical FNR is: 1.0 and the threshold value is: 0.09012712910677717\n",
      "{'coverage': 28.470715835140997, 'system_accuracy': 26.843817787418654, 'expert_accuracy': 0.0, 'classifier_accuracy': 94.28569632653404, 'alone_classifier': 85.52060737527115, 'prediction_set_size': tensor(0.)}\n",
      "Method: random\n",
      "\n",
      "The empirical FNR is: 1.0 and the threshold value is: 0.04714297689523182\n",
      "{'coverage': 43.275488069414315, 'system_accuracy': 38.44902386117137, 'expert_accuracy': 0.0, 'classifier_accuracy': 88.84710666076359, 'alone_classifier': 86.8763557483731, 'prediction_set_size': tensor(0.)}\n",
      "The empirical FNR is: 1.0 and the threshold value is: 0.0561915580192705\n",
      "{'coverage': 40.23861171366595, 'system_accuracy': 36.82212581344903, 'expert_accuracy': 0.0, 'classifier_accuracy': 91.509421629458, 'alone_classifier': 84.86984815618221, 'prediction_set_size': tensor(0.)}\n",
      "The empirical FNR is: 1.0 and the threshold value is: 0.06854746863290273\n",
      "{'coverage': 28.524945770065077, 'system_accuracy': 25.433839479392624, 'expert_accuracy': 0.0, 'classifier_accuracy': 89.16348114762717, 'alone_classifier': 85.73752711496746, 'prediction_set_size': tensor(0.)}\n",
      "The empirical FNR is: 1.0 and the threshold value is: 0.07713161781431041\n",
      "{'coverage': 40.726681127982644, 'system_accuracy': 37.906724511930584, 'expert_accuracy': 0.0, 'classifier_accuracy': 93.07588640800448, 'alone_classifier': 84.59869848156183, 'prediction_set_size': tensor(0.)}\n",
      "The empirical FNR is: 1.0 and the threshold value is: 0.08354805782476783\n",
      "{'coverage': 35.140997830802604, 'system_accuracy': 32.971800433839476, 'expert_accuracy': 0.0, 'classifier_accuracy': 93.82714601432932, 'alone_classifier': 85.52060737527115, 'prediction_set_size': tensor(0.)}\n",
      "The empirical FNR is: 1.0 and the threshold value is: 0.08816060051217538\n",
      "{'coverage': 34.38177874186551, 'system_accuracy': 32.86334056399132, 'expert_accuracy': 0.0, 'classifier_accuracy': 95.58358113823641, 'alone_classifier': 86.76789587852494, 'prediction_set_size': tensor(0.)}\n",
      "The empirical FNR is: 1.0 and the threshold value is: 0.09012712910677717\n",
      "{'coverage': 28.470715835140997, 'system_accuracy': 26.843817787418654, 'expert_accuracy': 0.0, 'classifier_accuracy': 94.28569632653404, 'alone_classifier': 85.52060737527115, 'prediction_set_size': tensor(0.)}\n",
      "Method: voting\n",
      "\n",
      "The empirical FNR is: 1.0 and the threshold value is: 0.04714297689523182\n",
      "{'coverage': 43.275488069414315, 'system_accuracy': 38.44902386117137, 'expert_accuracy': 0.0, 'classifier_accuracy': 88.84710666076359, 'alone_classifier': 86.8763557483731, 'prediction_set_size': tensor(0.)}\n",
      "The empirical FNR is: 1.0 and the threshold value is: 0.0561915580192705\n",
      "{'coverage': 40.23861171366595, 'system_accuracy': 36.82212581344903, 'expert_accuracy': 0.0, 'classifier_accuracy': 91.509421629458, 'alone_classifier': 84.86984815618221, 'prediction_set_size': tensor(0.)}\n",
      "The empirical FNR is: 1.0 and the threshold value is: 0.06854746863290273\n",
      "{'coverage': 28.524945770065077, 'system_accuracy': 25.433839479392624, 'expert_accuracy': 0.0, 'classifier_accuracy': 89.16348114762717, 'alone_classifier': 85.73752711496746, 'prediction_set_size': tensor(0.)}\n",
      "The empirical FNR is: 1.0 and the threshold value is: 0.07713161781431041\n",
      "{'coverage': 40.726681127982644, 'system_accuracy': 37.906724511930584, 'expert_accuracy': 0.0, 'classifier_accuracy': 93.07588640800448, 'alone_classifier': 84.59869848156183, 'prediction_set_size': tensor(0.)}\n",
      "The empirical FNR is: 1.0 and the threshold value is: 0.08354805782476783\n",
      "{'coverage': 35.140997830802604, 'system_accuracy': 32.971800433839476, 'expert_accuracy': 0.0, 'classifier_accuracy': 93.82714601432932, 'alone_classifier': 85.52060737527115, 'prediction_set_size': tensor(0.)}\n",
      "The empirical FNR is: 1.0 and the threshold value is: 0.08816060051217538\n",
      "{'coverage': 34.38177874186551, 'system_accuracy': 32.86334056399132, 'expert_accuracy': 0.0, 'classifier_accuracy': 95.58358113823641, 'alone_classifier': 86.76789587852494, 'prediction_set_size': tensor(0.)}\n",
      "The empirical FNR is: 1.0 and the threshold value is: 0.09012712910677717\n",
      "{'coverage': 28.470715835140997, 'system_accuracy': 26.843817787418654, 'expert_accuracy': 0.0, 'classifier_accuracy': 94.28569632653404, 'alone_classifier': 85.52060737527115, 'prediction_set_size': tensor(0.)}\n"
     ]
    }
   ],
   "source": [
    "# Method dict ===\n",
    "method_list_softmax = [\"standard\", \"last\", \"random\", \"voting\"]\n",
    "method_dict_softmax = {\"standard\": [],\n",
    "               \"last\": [],\n",
    "               \"random\": [],\n",
    "               \"voting\": []}\n",
    "\n",
    "for method in method_list_softmax:\n",
    "    \n",
    "    print(\"Method: {}\\n\".format(method))\n",
    "    for i, p in enumerate(p_out):\n",
    "        # =============\n",
    "        # = Get Probs =\n",
    "        # =============\n",
    "\n",
    "        probs = probs_softmax[i]\n",
    "        experts = exps[i]\n",
    "        experts = experts[::-1]  # reverse order!\n",
    "        y_true = true[-i]\n",
    "\n",
    "        # Val/Calibration ===\n",
    "        probs_val = probs[:n_val, n_classes:]\n",
    "        experts_val = [exp[:n_val] for exp in experts]\n",
    "        y_true_val = y_true[:n_val]\n",
    "\n",
    "        # Test ===\n",
    "        probs_test = probs[n_val:, n_classes:]\n",
    "        experts_test = [exp[n_val:] for exp in experts]\n",
    "        y_true_test = y_true[n_val:]\n",
    "\n",
    "\n",
    "        # =============\n",
    "        # = Conformal =\n",
    "        # =============\n",
    "\n",
    "        # Calculate Q_hat ===\n",
    "\n",
    "        # === Only on deferred samples\n",
    "        _, predicted = torch.max(probs[:n_val].data, 1)\n",
    "        r = (predicted >= n_classes_exp - n_experts)\n",
    "\n",
    "        # Filter \n",
    "        probs_experts = probs_val[r]\n",
    "        experts_val = [np.array(exp)[r] for exp in experts_val]\n",
    "        y_true_val = np.array(y_true_val)[r]\n",
    "\n",
    "\n",
    "        def false_negative_rate(prediction_set, gt_labels):\n",
    "            return 1 - ((prediction_set*gt_labels).sum(axis=1)/gt_labels.sum(axis=1)).mean()\n",
    "\n",
    "        #print(probs_experts.shape, np.array(experts_val).shape, y_true_val.shape)\n",
    "\n",
    "        gt_labels = (np.array(experts_val) == np.array(y_true_val)).T\n",
    "\n",
    "        #print(gt_labels.shape)\n",
    "\n",
    "        n = gt_labels.shape[0]\n",
    "\n",
    "\n",
    "        # Run the conformal risk control procedure\n",
    "        def lamhat_threshold(lam): return false_negative_rate(probs_experts>=lam, gt_labels) - ((n+1)/n*alpha - 1/(n+1))\n",
    "        lamhat = brentq(lamhat_threshold, 0, 1)\n",
    "        prediction_sets = probs_experts >= 1 - lamhat\n",
    "        print(f\"The empirical FNR is: {false_negative_rate(prediction_sets, gt_labels)} and the threshold value is: {lamhat}\")\n",
    "\n",
    "        # Model expert probs ===\n",
    "        # Sort J model outputs for experts\n",
    "        #sort, pi = probs_experts.sort(dim=1, descending=True)\n",
    "\n",
    "        # Correctness experts ===\n",
    "        # Check if experts are correct \n",
    "        #correct_exp = (np.array(experts_val) == np.array(y_true_val)).T\n",
    "        # idx for correct experts: [[0,1,2], [1,2], [], ...]\n",
    "        #correct_exp_idx = [np.where(correct_exp_i)[0] for correct_exp_i in correct_exp]\n",
    "\n",
    "        # obtain the last expert to be retrieved. If empty, then add all values.\n",
    "        # indexes are not the real expert index, but the sorted indexes, e.g. [[1, 0 ,2],  [1,0], [], ...]\n",
    "        #pi_corr_exp = [probs_experts[i, corr_exp].sort(descending=True)[1] for i, corr_exp in enumerate(correct_exp)]\n",
    "        #pi_corr_exp_stop = [pi_corr_exp_i[-1] if len(pi_corr_exp_i)!=0 else -1 for pi_corr_exp_i in pi_corr_exp]  # last expert\n",
    "\n",
    "        # obtain real expert index back, e.g. [2,1,-1,...]\n",
    "        #pi_stop = [correct_exp_idx[i][pi_corr_exp_stop_i] if len(correct_exp_idx[i])!=0 else -1 for i, pi_corr_exp_stop_i in enumerate(pi_corr_exp_stop)]\n",
    "\n",
    "        #scores = sort.cumsum(dim=1).gather(1, pi.argsort(1))[range(len(torch.tensor(pi_stop))), torch.tensor(pi_stop)]\n",
    "        #n_quantile = r.sum()\n",
    "        #qhat = torch.quantile(scores, np.ceil((n_quantile + 1) * (1 - alpha)) / n_quantile, interpolation=\"higher\")\n",
    "\n",
    "        #print(\"Q_hat {}: {}\".format(p, qhat))\n",
    "\n",
    "\n",
    "        # =============\n",
    "        # = Metrics =\n",
    "        # =============\n",
    "\n",
    "        # === Initalize ====\n",
    "\n",
    "        correct = 0\n",
    "        correct_sys = 0\n",
    "        exp = 0\n",
    "        exp_total = 0\n",
    "        total = 0\n",
    "        real_total = 0\n",
    "        alone_correct = 0\n",
    "        prediction_set_size = 0\n",
    "        prediction_set_len = 0\n",
    "\n",
    "        # Individual Expert Accuracies === #\n",
    "        expert_correct_dic = {k: 0 for k in range(len(experts_test))}\n",
    "        expert_total_dic = {k: 0 for k in range(len(experts_test))}\n",
    "\n",
    "        probs_test_exp = probs_test\n",
    "        probs_test_model = probs[n_val:]\n",
    "\n",
    "        # Predicted value \n",
    "        _, predicted = torch.max(probs_test_model.data, 1)\n",
    "\n",
    "        # Classifier alone prediction\n",
    "        _, prediction = torch.max(probs_test_model.data[:, :(n_classes_exp - n_experts)],1)\n",
    "\n",
    "        labels = y_true_test\n",
    "        for i in range(0, n_test):\n",
    "            r = (predicted[i].item() >= n_classes_exp - n_experts)\n",
    "            alone_correct += (prediction[i] == labels[i]).item()\n",
    "\n",
    "            # Non-deferred \n",
    "            if r == 0:\n",
    "                total += 1\n",
    "                correct += (predicted[i] == labels[i]).item()\n",
    "                correct_sys += (predicted[i] == labels[i]).item()\n",
    "\n",
    "            # Deferred \n",
    "            if r == 1:\n",
    "                # Non Conformal prediction ===\n",
    "                if method==\"standard\":\n",
    "                    deferred_exp = (predicted[i] - n_classes).item()  # reverse order, as in loss function\n",
    "                    exp_prediction = experts_test[deferred_exp][i]\n",
    "                    \n",
    "                    # Conformal prediction ===        \n",
    "                else:                \n",
    "                    # Sort J model outputs for experts. sorted probs and sorted indexes\n",
    "                    #sort_i, pi_i = probs_test_exp[i].sort(descending=True)\n",
    "                    # Get last sorted index to be below Q_hat\n",
    "                    #pi_stop_i = (sort_i.cumsum(dim=0) <= qhat).sum()\n",
    "                    # Prediction sets\n",
    "                    prediction_set_i = probs_test_exp[i] >= 1 - lamhat #(pi_i[:(pi_stop_i)]).numpy()  # not allow empty sets\n",
    "                    prediction_set_len = sum(prediction_set_i)        \n",
    "\n",
    "                    # - Get expert prediction depending on method\n",
    "                    # ======\n",
    "                    exp_prediction = get_expert_prediction(experts_test, prediction_set_i, method=method)\n",
    "                    # ======\n",
    "\n",
    "\n",
    "\n",
    "                # Deferral accuracy: No matter expert ===\n",
    "                exp += (exp_prediction == labels[i])\n",
    "                exp_total += 1\n",
    "                # Individual Expert Accuracy ===\n",
    "                # expert_correct_dic[deferred_exp] += (exp_prediction == labels[i].item())\n",
    "                # expert_total_dic[deferred_exp] += 1\n",
    "                #\n",
    "                correct_sys += (exp_prediction == labels[i])\n",
    "                prediction_set_size += prediction_set_len\n",
    "\n",
    "            real_total += 1\n",
    "\n",
    "        #  ===  Coverage  === #    \n",
    "        cov = 100 * total / real_total\n",
    "\n",
    "        #  === Individual Expert Accuracies === #\n",
    "        expert_accuracies = {\"expert_{}\".format(str(k)): 100 * expert_correct_dic[k] / (expert_total_dic[k] + 0.0002) for k\n",
    "                     in range(len(experts_test))}\n",
    "\n",
    "        # Add expert accuracies dict\n",
    "        to_print = {\"coverage\": cov,\n",
    "                    \"system_accuracy\": 100 * correct_sys / real_total,\n",
    "                    \"expert_accuracy\": 100 * exp / (exp_total + 0.0002),\n",
    "                    \"classifier_accuracy\": 100 * correct / (total + 0.0001),\n",
    "                    \"alone_classifier\": 100 * alone_correct / real_total,\n",
    "                    \"prediction_set_size\": prediction_set_size / (exp_total + 0.00002)}\n",
    "        print(to_print, flush=True)\n",
    "\n",
    "        # Save to method dict === \n",
    "        method_dict_softmax[method].append(to_print)\n",
    "\n"
   ]
  },
  {
   "cell_type": "markdown",
   "id": "2f54ac20-5d27-4d36-8637-57b3c5f9971a",
   "metadata": {},
   "source": [
    "## Plot results"
   ]
  },
  {
   "cell_type": "code",
   "execution_count": 10,
   "id": "86d820b8",
   "metadata": {
    "collapsed": false,
    "jupyter": {
     "outputs_hidden": false
    },
    "pycharm": {
     "name": "#%%\n"
    }
   },
   "outputs": [],
   "source": [
    "import matplotlib.pyplot as plt\n",
    "import numpy as np\n",
    "import seaborn as sns\n",
    "from matplotlib import rc\n",
    "\n",
    "# # === Latex Options === #\n",
    "rc('font', family='serif')\n",
    "rc('text', usetex=True)\n",
    "\n",
    "# === Matplotlib Options === #\n",
    "cm = plt.cm.get_cmap('tab10')\n",
    "plot_args = {\"marker\": \"o\",\n",
    "             \"markeredgecolor\": \"k\",\n",
    "             \"markersize\": 10,\n",
    "             \"linewidth\": 8\n",
    "             }\n",
    "sns.set_context(\"talk\", font_scale=1.3)\n",
    "fig_size = (7,7)\n"
   ]
  },
  {
   "cell_type": "code",
   "execution_count": 11,
   "id": "ce96a176",
   "metadata": {
    "collapsed": false,
    "jupyter": {
     "outputs_hidden": false
    },
    "pycharm": {
     "name": "#%%\n"
    }
   },
   "outputs": [
    {
     "data": {
      "image/png": "[encoded data removed]",
      "text/plain": [
       "<Figure size 504x504 with 1 Axes>"
      ]
     },
     "metadata": {
      "needs_background": "light"
     },
     "output_type": "display_data"
    }
   ],
   "source": [
    "p_out = [0.1,0.2,0.4,0.6,0.8,0.95,1.0]\n",
    "\n",
    "\n",
    "# OvA ===\n",
    "sys_acc_standard_ova = np.array([method_d[\"system_accuracy\"] for method_d in method_dict_ova[\"standard\"]])\n",
    "sys_acc_last_ova = np.array([method_d[\"system_accuracy\"] for method_d in method_dict_ova[\"last\"]])\n",
    "sys_acc_random_ova = np.array([method_d[\"system_accuracy\"] for method_d in method_dict_ova[\"random\"]])\n",
    "sys_acc_voting_ova = np.array([method_d[\"system_accuracy\"] for method_d in method_dict_ova[\"voting\"]])\n",
    "\n",
    "# Softmax ===\n",
    "sys_acc_standard_softmax = np.array([method_d[\"system_accuracy\"] for method_d in method_dict_softmax[\"standard\"]])\n",
    "sys_acc_last_softmax = np.array([method_d[\"system_accuracy\"] for method_d in method_dict_softmax[\"last\"]])\n",
    "sys_acc_random_softmax = np.array([method_d[\"system_accuracy\"] for method_d in method_dict_softmax[\"random\"]])\n",
    "sys_acc_voting_softmax = np.array([method_d[\"system_accuracy\"] for method_d in method_dict_softmax[\"voting\"]])\n",
    "\n",
    "\n",
    "f, ax = plt.subplots(1, 1, figsize=fig_size)\n",
    "# OvA ===\n",
    "ax.plot(p_out, sys_acc_last_ova, \"-\", label=r\"Last\", color=cm(0), **plot_args)\n",
    "ax.plot(p_out, sys_acc_random_ova, \"-\", label=r\"Random\", color=cm(1), **plot_args)\n",
    "ax.plot(p_out, sys_acc_voting_ova, \"-\", label=r\"Voting\", color=cm(2), **plot_args)\n",
    "ax.plot(p_out, sys_acc_standard_ova, \"-\", label=r\"w/o conformal\", color=cm(3), **plot_args)\n",
    "\n",
    "# Softmax ===\n",
    "ax.plot(p_out, sys_acc_last_softmax, \"--\", color=cm(0), **plot_args)\n",
    "ax.plot(p_out, sys_acc_random_softmax, \"--\", color=cm(1), **plot_args)\n",
    "ax.plot(p_out, sys_acc_voting_softmax, \"--\", color=cm(2), **plot_args)\n",
    "ax.plot(p_out, sys_acc_standard_softmax, \"--\", color=cm(3), **plot_args)\n",
    "\n",
    "plt.xticks(p_out, p_out)\n",
    "plt.yticks(list(plt.yticks()[0])[::2])\n",
    "plt.ylabel(r'System Acc. ($\\%$)')\n",
    "plt.xlabel(r'Prob Experts')\n",
    "plt.title(r\"CIFAR-10\")\n",
    "plt.legend(loc=\"best\")\n",
    "plt.grid()\n",
    "f.set_tight_layout(True)\n",
    "plt.legend()\n",
    "\n",
    "plt.savefig(\"system_acc_gradual_overlap_risk_control.pdf\")"
   ]
  },
  {
   "cell_type": "code",
   "execution_count": 12,
   "id": "cf6d8e45",
   "metadata": {
    "collapsed": false,
    "jupyter": {
     "outputs_hidden": false
    },
    "pycharm": {
     "name": "#%%\n"
    }
   },
   "outputs": [
    {
     "data": {
      "image/png": "[encoded data removed]",
      "text/plain": [
       "<Figure size 504x504 with 1 Axes>"
      ]
     },
     "metadata": {
      "needs_background": "light"
     },
     "output_type": "display_data"
    }
   ],
   "source": [
    "p_out = [0.1,0.2,0.4,0.6,0.8,0.95,1.0]\n",
    "\n",
    "\n",
    "# OvA ===\n",
    "exp_acc_standard_ova = np.array([method_d[\"expert_accuracy\"] for method_d in method_dict_ova[\"standard\"]])\n",
    "exp_acc_last_ova = np.array([method_d[\"expert_accuracy\"] for method_d in method_dict_ova[\"last\"]])\n",
    "exp_acc_random_ova = np.array([method_d[\"expert_accuracy\"] for method_d in method_dict_ova[\"random\"]])\n",
    "exp_acc_voting_ova = np.array([method_d[\"expert_accuracy\"] for method_d in method_dict_ova[\"voting\"]])\n",
    "\n",
    "# Softmax ===\n",
    "exp_acc_standard_softmax = np.array([method_d[\"expert_accuracy\"] for method_d in method_dict_softmax[\"standard\"]])\n",
    "exp_acc_last_softmax = np.array([method_d[\"expert_accuracy\"] for method_d in method_dict_softmax[\"last\"]])\n",
    "exp_acc_random_softmax = np.array([method_d[\"expert_accuracy\"] for method_d in method_dict_softmax[\"random\"]])\n",
    "exp_acc_voting_softmax = np.array([method_d[\"expert_accuracy\"] for method_d in method_dict_softmax[\"voting\"]])\n",
    "\n",
    "\n",
    "f, ax = plt.subplots(1, 1, figsize=fig_size)\n",
    "# OvA ===\n",
    "ax.plot(p_out, exp_acc_last_ova, \"-\", label=r\"Last\", color=cm(0), **plot_args)\n",
    "ax.plot(p_out, exp_acc_random_ova, \"-\", label=r\"Random\", color=cm(1), **plot_args)\n",
    "ax.plot(p_out, exp_acc_voting_ova, \"-\", label=r\"Voting\", color=cm(2), **plot_args)\n",
    "ax.plot(p_out, exp_acc_standard_ova, \"-\", label=r\"w/o conformal\", color=cm(3), **plot_args)\n",
    "\n",
    "# Softmax ===\n",
    "ax.plot(p_out, exp_acc_last_softmax, \"--\", color=cm(0), **plot_args)\n",
    "ax.plot(p_out, exp_acc_random_softmax, \"--\", color=cm(1), **plot_args)\n",
    "ax.plot(p_out, exp_acc_voting_softmax, \"--\", color=cm(2), **plot_args)\n",
    "ax.plot(p_out, exp_acc_standard_softmax, \"--\", color=cm(3), **plot_args)\n",
    "\n",
    "plt.xticks(p_out, p_out)\n",
    "plt.yticks(list(plt.yticks()[0])[::2])\n",
    "plt.ylabel(r'Expert Acc. ($\\%$)')\n",
    "plt.xlabel(r'Prob Experts')\n",
    "plt.title(r\"CIFAR-10\")\n",
    "plt.legend(loc=\"best\")\n",
    "plt.grid()\n",
    "f.set_tight_layout(True)\n",
    "plt.legend()\n",
    "\n",
    "plt.savefig(\"expert_acc_gradual_overlap_risk_control.pdf\")\n"
   ]
  },
  {
   "cell_type": "code",
   "execution_count": 13,
   "id": "da102664",
   "metadata": {
    "collapsed": false,
    "jupyter": {
     "outputs_hidden": false
    },
    "pycharm": {
     "name": "#%%\n"
    }
   },
   "outputs": [
    {
     "data": {
      "image/png": "[encoded data removed]",
      "text/plain": [
       "<Figure size 504x504 with 1 Axes>"
      ]
     },
     "metadata": {
      "needs_background": "light"
     },
     "output_type": "display_data"
    }
   ],
   "source": [
    "p_out = [0.1,0.2,0.4,0.6,0.8,0.95,1.0]\n",
    "coverage_ova = np.array([method_d[\"coverage\"] for method_d in method_dict_ova[\"last\"]])\n",
    "coverage_softmax = np.array([method_d[\"coverage\"] for method_d in method_dict_softmax[\"last\"]])\n",
    "\n",
    "f, ax = plt.subplots(1, 1, figsize=fig_size)\n",
    "ax.plot(p_out, coverage_ova, \"-\", label=r\"OvA\", **plot_args)\n",
    "ax.plot(p_out, coverage_softmax, \"--\", label=r\"Softmax\", **plot_args)\n",
    "\n",
    "plt.xticks(p_out, p_out)\n",
    "plt.yticks(list(plt.yticks()[0])[::2])\n",
    "plt.ylabel(r'Model Coverage. ($\\%$)')\n",
    "plt.xlabel(r'Prob Experts')\n",
    "plt.title(r\"CIFAR-10\")\n",
    "plt.legend(loc=\"best\")\n",
    "plt.grid()\n",
    "f.set_tight_layout(True)\n",
    "plt.legend()\n",
    "\n",
    "\n",
    "plt.savefig(\"coverage_gradual_overlap_risk_control.pdf\")\n"
   ]
  },
  {
   "cell_type": "code",
   "execution_count": 13,
   "id": "fc329f01",
   "metadata": {},
   "outputs": [
    {
     "data": {
      "image/png": "[encoded data removed]",
      "text/plain": [
       "<Figure size 504x504 with 1 Axes>"
      ]
     },
     "metadata": {
      "needs_background": "light"
     },
     "output_type": "display_data"
    }
   ],
   "source": [
    "p_out = [0.1,0.2,0.4,0.6,0.8,0.95,1.0]\n",
    "prediction_set_size_ova = np.array([method_d[\"prediction_set_size\"] for method_d in method_dict_ova[\"random\"]])\n",
    "prediction_set_size_softmax = np.array([method_d[\"prediction_set_size\"] for method_d in method_dict_softmax[\"random\"]])\n",
    "\n",
    "f, ax = plt.subplots(1, 1, figsize=fig_size)\n",
    "ax.plot(p_out, prediction_set_size_ova, \"-\", label=r\"OvA\", **plot_args)\n",
    "ax.plot(p_out, prediction_set_size_softmax, \"--\", label=r\"Softmax\", **plot_args)\n",
    "\n",
    "plt.xticks(p_out, p_out)\n",
    "plt.yticks(list(plt.yticks()[0])[::2])\n",
    "plt.ylabel(r'Avg Prediction Set Size')\n",
    "plt.xlabel(r'Prob Experts')\n",
    "plt.title(r\"CIFAR-10\")\n",
    "plt.legend(loc=\"best\")\n",
    "plt.grid()\n",
    "f.set_tight_layout(True)\n",
    "plt.legend()\n",
    "\n",
    "\n",
    "plt.savefig(\"prediction_set_size_gradual_overlap_risk_control.pdf\")"
   ]
  }
 ],
 "metadata": {
  "kernelspec": {
   "display_name": "Python 3.7.10 ('rajeev')",
   "language": "python",
   "name": "python3"
  },
  "language_info": {
   "codemirror_mode": {
    "name": "ipython",
    "version": 3
   },
   "file_extension": ".py",
   "mimetype": "text/x-python",
   "name": "python",
   "nbconvert_exporter": "python",
   "pygments_lexer": "ipython3",
   "version": "3.7.10"
  },
  "vscode": {
   "interpreter": {
    "hash": "4f3be123a5b9c9eec7777333985193f1859453483e7960200b32f093a2cb2a63"
   }
  }
 },
 "nbformat": 4,
 "nbformat_minor": 5
}
