{
 "cells": [
  {
   "cell_type": "markdown",
   "id": "ee8d7f85",
   "metadata": {
    "pycharm": {
     "name": "#%% md\n"
    }
   },
   "source": [
    "# Conformal Experiment: Increase Confidence OvA"
   ]
  },
  {
   "cell_type": "code",
   "execution_count": 1,
   "id": "3f9fb691",
   "metadata": {
    "pycharm": {
     "name": "#%%\n"
    }
   },
   "outputs": [],
   "source": [
    "import json\n",
    "\n",
    "import numpy as np\n",
    "import torch\n",
    "import matplotlib.pyplot as plt\n",
    "\n",
    "from scipy import stats"
   ]
  },
  {
   "cell_type": "code",
   "execution_count": 2,
   "id": "d9efca54",
   "metadata": {},
   "outputs": [],
   "source": [
    "n_classes = 10\n",
    "random_expert_idx = 0\n",
    "n_experts = 4"
   ]
  },
  {
   "cell_type": "code",
   "execution_count": 3,
   "id": "edac1ca2",
   "metadata": {
    "pycharm": {
     "name": "#%%\n"
    }
   },
   "outputs": [],
   "source": [
    "# === OvA ===\n",
    "confs = []\n",
    "exps = []\n",
    "true = []\n",
    "path = \"ova_increase_confidence/\"\n",
    "\n",
    "p_experts = [0.2, 0.4, 0.6, 0.8, 0.95]\n",
    "for p in p_experts:\n",
    "    model_name = '_' + str(p) + '_confidence'\n",
    "    with open(path + 'confidence_multiple_experts' + model_name + '.txt', 'r') as f:\n",
    "        conf = json.loads(json.load(f))\n",
    "    with open(path + 'expert_predictions_multiple_experts' + model_name + '.txt', 'r') as f:\n",
    "        exp_pred = json.loads(json.load(f))\n",
    "    with open(path + 'true_label_multiple_experts' + model_name + '.txt', 'r') as f:\n",
    "        true_label = json.loads(json.load(f))\n",
    "    true.append(true_label['test'])\n",
    "    exps.append(exp_pred['test'])\n",
    "    c = torch.tensor(conf['test'])\n",
    "    # DANI Correction ===\n",
    "    c = c.sigmoid()\n",
    "    # DANI Correction ===\n",
    "    confs.append(c)"
   ]
  },
  {
   "cell_type": "markdown",
   "id": "868d5978-c975-4b14-a925-7f9e77c8056d",
   "metadata": {},
   "source": [
    "### Check dimensions"
   ]
  },
  {
   "cell_type": "code",
   "execution_count": 249,
   "id": "c6fa3821",
   "metadata": {
    "pycharm": {
     "name": "#%%\n"
    }
   },
   "outputs": [],
   "source": [
    "# 1 expert rando, 3 with prob 0.95 correct\n",
    "probs = confs[-3]\n",
    "experts = exps[-3]\n",
    "experts = experts[::-1]  # reverse order!\n",
    "y_true = true[-3]"
   ]
  },
  {
   "cell_type": "code",
   "execution_count": 250,
   "id": "a6a2d44d",
   "metadata": {},
   "outputs": [
    {
     "name": "stdout",
     "output_type": "stream",
     "text": [
      "Probs: tensor([[0.6533, 0.6647, 0.6956, 0.1037],\n",
      "        [0.2466, 0.3078, 0.2993, 0.1002],\n",
      "        [0.2995, 0.3285, 0.3267, 0.0939],\n",
      "        [0.5820, 0.6227, 0.6141, 0.0865],\n",
      "        [0.3601, 0.3305, 0.3627, 0.1000]])\n"
     ]
    }
   ],
   "source": [
    "print(\"Probs: {}\".format(probs[:5,10:]))"
   ]
  },
  {
   "cell_type": "code",
   "execution_count": 251,
   "id": "70fc4c04",
   "metadata": {},
   "outputs": [
    {
     "name": "stdout",
     "output_type": "stream",
     "text": [
      "Experts: \n",
      "[[8 8 8 ... 2 4 5]\n",
      " [4 8 4 ... 9 3 5]\n",
      " [3 5 3 ... 9 2 5]\n",
      " [6 6 0 ... 7 2 7]]\n"
     ]
    }
   ],
   "source": [
    "print(\"Experts: \\n{}\".format(np.array(experts)))"
   ]
  },
  {
   "cell_type": "code",
   "execution_count": 177,
   "id": "c66a758f",
   "metadata": {},
   "outputs": [
    {
     "name": "stdout",
     "output_type": "stream",
     "text": [
      "Y True: \n",
      "[3, 8, 8, 0, 6]\n"
     ]
    }
   ],
   "source": [
    "print(\"Y True: \\n{}\".format(y_true[:5]))"
   ]
  },
  {
   "cell_type": "code",
   "execution_count": 178,
   "id": "d41e5241",
   "metadata": {
    "pycharm": {
     "name": "#%%\n"
    }
   },
   "outputs": [
    {
     "name": "stdout",
     "output_type": "stream",
     "text": [
      "N val:7372\n",
      "N test:1844\n"
     ]
    }
   ],
   "source": [
    "n_val = int(0.8 * len(y_true))\n",
    "n_test = len(y_true) - n_val\n",
    "print(\"N val:{}\".format(n_val))\n",
    "print(\"N test:{}\".format(n_test))"
   ]
  },
  {
   "cell_type": "markdown",
   "id": "cfa0ddc3",
   "metadata": {
    "pycharm": {
     "name": "#%% md\n"
    }
   },
   "source": [
    "# Conformal Q_hat Calculation"
   ]
  },
  {
   "cell_type": "code",
   "execution_count": 179,
   "id": "82f191ed-91de-414e-a8d9-c9ca07e148c5",
   "metadata": {},
   "outputs": [
    {
     "ename": "SyntaxError",
     "evalue": "unexpected EOF while parsing (3206550942.py, line 8)",
     "output_type": "error",
     "traceback": [
      "\u001b[0;36m  File \u001b[0;32m\"/var/folders/sp/q319m69j3vq35gn_yjsn7snh0002nk/T/ipykernel_12513/3206550942.py\"\u001b[0;36m, line \u001b[0;32m8\u001b[0m\n\u001b[0;31m    \u001b[0m\n\u001b[0m    ^\u001b[0m\n\u001b[0;31mSyntaxError\u001b[0m\u001b[0;31m:\u001b[0m unexpected EOF while parsing\n"
     ]
    }
   ],
   "source": [
    "def get_q_hat(a):\n",
    "    \n",
    "    \n",
    "    \n",
    "    \n",
    "    \n",
    "    \n",
    "    "
   ]
  },
  {
   "cell_type": "code",
   "execution_count": 180,
   "id": "f8121292",
   "metadata": {
    "pycharm": {
     "name": "#%%\n"
    }
   },
   "outputs": [
    {
     "data": {
      "text/plain": [
       "tensor(1.9849)"
      ]
     },
     "execution_count": 180,
     "metadata": {},
     "output_type": "execute_result"
    }
   ],
   "source": [
    "\n",
    "n_classes_exp = n_classes + n_experts\n",
    "probs_val = probs[:n_val, 10:]\n",
    "experts_val = experts\n",
    "experts_val = [exp[:n_val] for exp in experts_val]\n",
    "\n",
    "y_true_val = y_true[:n_val]\n",
    "\n",
    "# === Only on deferred samples\n",
    "_, predicted = torch.max(probs[:n_val].data, 1)\n",
    "r = (predicted >= n_classes_exp - n_experts)\n",
    "\n",
    "# Filter \n",
    "probs_val = probs_val[r]\n",
    "experts_val = [np.array(exp)[r] for exp in experts_val]\n",
    "y_true_val = np.array(y_true_val)[r]\n",
    "\n",
    "# Model expert probs ===\n",
    "# Sort J model outputs for experts\n",
    "probs_experts = probs[:n_val, 10:]\n",
    "probs_experts = probs_experts[r]\n",
    "sort, pi = probs_experts.sort(dim=1, descending=True)\n",
    "\n",
    "# Correctness experts ===\n",
    "# Check if experts are correct \n",
    "correct_exp = (np.array(experts_val) == np.array(y_true_val)).T\n",
    "# idx for correct experts: [[0,1,2], [1,2], [], ...]\n",
    "correct_exp_idx = [np.where(correct_exp_i)[0] for correct_exp_i in correct_exp]\n",
    "\n",
    "# obtain the last expert to be retrieved. If empty, then add all values.\n",
    "# indexes are not the real expert index, but the sorted indexes, e.g. [[1, 0 ,2],  [1,0], [], ...]\n",
    "pi_corr_exp = [probs_experts[i, corr_exp].sort(descending=True)[1] for i, corr_exp in enumerate(correct_exp)]\n",
    "pi_corr_exp_stop = [pi_corr_exp_i[-1] if len(pi_corr_exp_i)!=0 else -1 for pi_corr_exp_i in pi_corr_exp]  # last expert\n",
    "\n",
    "# obtain real expert index back, e.g. [2,1,-1,...]\n",
    "pi_stop = [correct_exp_idx[i][pi_corr_exp_stop_i] if len(correct_exp_idx[i])!=0 else -1 for i, pi_corr_exp_stop_i in enumerate(pi_corr_exp_stop)]\n",
    "\n",
    "\n",
    "# =========\n",
    "n_val = n_val\n",
    "alpha = 0.1\n",
    "scores = sort.cumsum(dim=1).gather(1, pi.argsort(1))[range(len(torch.tensor(pi_stop))), torch.tensor(pi_stop)]\n",
    "qhat = torch.quantile(scores, np.ceil((r.sum() + 1) * (1 - alpha)) / r.sum(), interpolation=\"higher\")\n",
    "\n",
    "qhat"
   ]
  },
  {
   "cell_type": "markdown",
   "id": "b3dc47d2",
   "metadata": {
    "pycharm": {
     "name": "#%% md\n"
    }
   },
   "source": [
    "# Test"
   ]
  },
  {
   "cell_type": "code",
   "execution_count": 181,
   "id": "39a82eb6",
   "metadata": {
    "pycharm": {
     "name": "#%%\n"
    }
   },
   "outputs": [],
   "source": [
    "probs_test = probs[n_val:, n_classes:]\n",
    "experts_test = [exp[n_val:] for exp in experts]\n",
    "y_true_test = y_true[n_val:]"
   ]
  },
  {
   "cell_type": "code",
   "execution_count": 182,
   "id": "3bf2e61a",
   "metadata": {
    "pycharm": {
     "name": "#%%\n"
    }
   },
   "outputs": [
    {
     "data": {
      "text/plain": [
       "[array([2, 1, 0]),\n",
       " array([2, 0, 1, 3]),\n",
       " array([2, 1, 0, 3]),\n",
       " array([2, 1, 0, 3]),\n",
       " array([2, 1, 0, 3])]"
      ]
     },
     "execution_count": 182,
     "metadata": {},
     "output_type": "execute_result"
    }
   ],
   "source": [
    "# === Only on deferred samples\n",
    "_, predicted = torch.max(probs[n_val:].data, 1)\n",
    "r_test = (predicted >= n_classes_exp - n_experts)\n",
    "\n",
    "# Filter \n",
    "probs_test = probs_test[r_test]\n",
    "experts_test = [np.array(exp)[r_test] for exp in experts_test]\n",
    "y_true_test = np.array(y_true_test)[r_test]\n",
    "\n",
    "# Sort J model outputs for experts. sorted probs and sorted indexes\n",
    "sort_test, pi_test = probs_test.sort(dim=1, descending=True)\n",
    "# Get last sorted index to be below Q_hat\n",
    "pi_stop = (sort_test.cumsum(dim=1) <= qhat).sum(axis=1)\n",
    "\n",
    "# Prediction sets\n",
    "prediction_sets = [(pi_test[i][:(pi_stop[i])]).numpy() for i in range(pi_stop.shape[0])]  # not allow empty sets\n",
    "prediction_sets[:5]"
   ]
  },
  {
   "cell_type": "code",
   "execution_count": 183,
   "id": "8aefd022",
   "metadata": {},
   "outputs": [
    {
     "data": {
      "text/plain": [
       "<AxesSubplot:ylabel='Count'>"
      ]
     },
     "execution_count": 183,
     "metadata": {},
     "output_type": "execute_result"
    },
    {
     "data": {
      "image/png": "[encoded data removed]",
      "text/plain": [
       "<Figure size 640x480 with 1 Axes>"
      ]
     },
     "metadata": {},
     "output_type": "display_data"
    }
   ],
   "source": [
    "a = np.array([len(prediction_sets_i) for prediction_sets_i in prediction_sets])\n",
    "import seaborn as sns\n",
    "\n",
    "sns.histplot(a)"
   ]
  },
  {
   "cell_type": "code",
   "execution_count": null,
   "id": "971d294c",
   "metadata": {},
   "outputs": [],
   "source": []
  },
  {
   "cell_type": "code",
   "execution_count": null,
   "id": "d00af070",
   "metadata": {},
   "outputs": [],
   "source": []
  },
  {
   "cell_type": "code",
   "execution_count": null,
   "id": "8a010369",
   "metadata": {},
   "outputs": [],
   "source": []
  },
  {
   "cell_type": "markdown",
   "id": "17e3b7eb",
   "metadata": {},
   "source": [
    "# Metrics Computation"
   ]
  },
  {
   "cell_type": "markdown",
   "id": "3bd44049",
   "metadata": {},
   "source": [
    "### Accuracy w/o Conformal on deferred samples"
   ]
  },
  {
   "cell_type": "code",
   "execution_count": 293,
   "id": "12123aa1",
   "metadata": {},
   "outputs": [],
   "source": [
    "correct = 0\n",
    "correct_sys = 0\n",
    "exp = 0\n",
    "exp_total = 0\n",
    "total = 0\n",
    "real_total = 0\n",
    "alone_correct = 0\n",
    "#  === Individual Expert Accuracies === #\n",
    "expert_correct_dic = {k: 0 for k in range(len(experts_test))}\n",
    "expert_total_dic = {k: 0 for k in range(len(experts_test))}"
   ]
  },
  {
   "cell_type": "code",
   "execution_count": 294,
   "id": "bf00c9ed",
   "metadata": {},
   "outputs": [],
   "source": [
    "# 1 expert rando, 3 with prob 0.9 correct\n",
    "probs = confs[-1]\n",
    "experts = exps[-1]\n",
    "experts = experts[::-1] \n",
    "y_true = true[-1]"
   ]
  },
  {
   "cell_type": "code",
   "execution_count": 295,
   "id": "936cbc75",
   "metadata": {},
   "outputs": [],
   "source": [
    "n_classes = 10\n",
    "n_experts = 4\n",
    "n_classes_exp = n_classes + n_experts\n",
    "\n",
    "probs_test = probs[n_val:]\n",
    "experts_test = [exp[n_val:] for exp in experts]\n",
    "y_true_test = y_true[n_val:]\n"
   ]
  },
  {
   "cell_type": "code",
   "execution_count": 296,
   "id": "76890998",
   "metadata": {},
   "outputs": [],
   "source": [
    "# Predicted value \n",
    "_, predicted = torch.max(probs_test.data, 1)\n",
    "# Classifier alone prediction\n",
    "_, prediction = torch.max(probs_test.data[:, :(n_classes_exp - n_experts)],1)"
   ]
  },
  {
   "cell_type": "markdown",
   "id": "e4975b4b",
   "metadata": {},
   "source": [
    "### w Conformal Prediction"
   ]
  },
  {
   "cell_type": "code",
   "execution_count": 297,
   "id": "ccf27e82-1475-45f1-9924-d37ea3807480",
   "metadata": {},
   "outputs": [],
   "source": [
    "def get_expert_prediction(experts, prediction_set_i, method=\"voting\"):\n",
    "    ensemble_expert_pred_i = np.array(experts_test)[prediction_set_i][:, i]\n",
    "    if method == \"voting\":\n",
    "        exp_prediction = stats.mode(ensemble_expert_pred_i).mode\n",
    "        \n",
    "    if method == \"last\": \n",
    "        exp_prediction = ensemble_expert_pred_i[-1]\n",
    "        \n",
    "    if method == \"random\":\n",
    "        exp_prediction = ensemble_expert_pred_i[np.random.randint(len(ensemble_expert_pred_i))] \n",
    "        \n",
    "    return exp_prediction"
   ]
  },
  {
   "cell_type": "code",
   "execution_count": 298,
   "id": "2491d8a4-f2c7-42cb-adea-e3b5e05d5a70",
   "metadata": {},
   "outputs": [],
   "source": [
    "method=\"last\""
   ]
  },
  {
   "cell_type": "code",
   "execution_count": 299,
   "id": "5d7e1729",
   "metadata": {},
   "outputs": [
    {
     "name": "stdout",
     "output_type": "stream",
     "text": [
      "{'coverage': '1485 out of1844', 'system_accuracy': 85.24945770065077, 'expert_accuracy': 52.92476160180412, 'classifier_accuracy': 93.06396679703927, 'alone_classifier': 86.22559652928416}\n"
     ]
    }
   ],
   "source": [
    "labels = y_true_test\n",
    "\n",
    "# Predicted value \n",
    "_, predicted = torch.max(probs_test.data, 1)\n",
    "# Classifier alone prediction\n",
    "_, prediction = torch.max(probs_test.data[:, :(n_classes_exp - n_experts)],1)\n",
    "\n",
    "for i in range(0, n_test):\n",
    "    r = (predicted[i].item() >= n_classes_exp - len(experts_test))\n",
    "    alone_correct += (prediction[i] == labels[i]).item()\n",
    "    \n",
    "    # Non-deferred \n",
    "    if r == 0:\n",
    "        total += 1\n",
    "        correct += (predicted[i] == labels[i]).item()\n",
    "        correct_sys += (predicted[i] == labels[i]).item()\n",
    "        \n",
    "    # Deferred \n",
    "    if r == 1:\n",
    "        # Conformal prediction ===        \n",
    "        # Sort J model outputs for experts. sorted probs and sorted indexes\n",
    "        sort_i, pi_i = probs_test[i,n_classes:].sort(descending=True)\n",
    "        # Get last sorted index to be below Q_hat\n",
    "        pi_stop_i = (sort_i.cumsum(dim=0) <= qhat).sum()\n",
    "\n",
    "        # Prediction sets\n",
    "        prediction_set_i = (pi_i[:(pi_stop_i)]).numpy()  # not allow empty sets        \n",
    "        \n",
    "        \n",
    "        \n",
    "        # - Get expert prediction depending on method\n",
    "        # ======\n",
    "        exp_prediction = get_expert_prediction(experts_test, prediction_set_i, method=method)\n",
    "        # ======\n",
    "        \n",
    "        \n",
    "        \n",
    "        # Deferral accuracy: No matter expert ===\n",
    "        exp += (exp_prediction == labels[i])\n",
    "        exp_total += 1\n",
    "        # Individual Expert Accuracy ===\n",
    "        # expert_correct_dic[deferred_exp] += (exp_prediction == labels[i].item())\n",
    "        # expert_total_dic[deferred_exp] += 1\n",
    "        #\n",
    "        correct_sys += (exp_prediction == labels[i])\n",
    "    real_total += 1\n",
    "\n",
    "\n",
    "\n",
    "#  ===  Coverage  === #    \n",
    "cov = str(total) + str(\" out of\") + str(real_total)\n",
    "\n",
    "#  === Individual Expert Accuracies === #\n",
    "expert_accuracies = {\"expert_{}\".format(str(k)): 100 * expert_correct_dic[k] / (expert_total_dic[k] + 0.0002) for k\n",
    "             in range(len(experts_test))}\n",
    "# Add expert accuracies dict\n",
    "to_print = {\"coverage\": cov,\n",
    "            \"system_accuracy\": 100 * correct_sys / real_total,\n",
    "            \"expert_accuracy\": 100 * exp / (exp_total + 0.0002),\n",
    "            \"classifier_accuracy\": 100 * correct / (total + 0.0001),\n",
    "            \"alone_classifier\": 100 * alone_correct / real_total}\n",
    "print(to_print, flush=True)\n"
   ]
  },
  {
   "cell_type": "code",
   "execution_count": 300,
   "id": "3c7ae8a6",
   "metadata": {},
   "outputs": [
    {
     "name": "stdout",
     "output_type": "stream",
     "text": [
      "Cov: 80.53145336225597\n"
     ]
    }
   ],
   "source": [
    "print(\"Cov: {}\".format(100 * (total/real_total)))"
   ]
  },
  {
   "cell_type": "code",
   "execution_count": 301,
   "id": "6dcdc705",
   "metadata": {},
   "outputs": [
    {
     "data": {
      "text/plain": [
       "{'expert_0': 0.0, 'expert_1': 0.0, 'expert_2': 0.0, 'expert_3': 0.0}"
      ]
     },
     "execution_count": 301,
     "metadata": {},
     "output_type": "execute_result"
    }
   ],
   "source": [
    "expert_accuracies"
   ]
  },
  {
   "cell_type": "code",
   "execution_count": 302,
   "id": "8417bcb9",
   "metadata": {},
   "outputs": [
    {
     "data": {
      "text/plain": [
       "(52.92476160180412,)"
      ]
     },
     "execution_count": 302,
     "metadata": {},
     "output_type": "execute_result"
    }
   ],
   "source": [
    "100 * exp / (exp_total + 0.0002),"
   ]
  },
  {
   "cell_type": "code",
   "execution_count": 240,
   "id": "72fc4fd3",
   "metadata": {},
   "outputs": [
    {
     "data": {
      "text/plain": [
       "359"
      ]
     },
     "execution_count": 303,
     "metadata": {},
     "output_type": "execute_result"
    }
   ],
   "source": [
    "exp_total"
   ]
  },
  {
   "cell_type": "code",
   "execution_count": 197,
   "id": "34d842b8",
   "metadata": {},
   "outputs": [
    {
     "data": {
      "text/plain": [
       "85.24945770065077"
      ]
     },
     "execution_count": 304,
     "metadata": {},
     "output_type": "execute_result"
    }
   ],
   "source": [
    "100 * correct_sys / real_total"
   ]
  },
  {
   "cell_type": "markdown",
   "id": "112cdcf3",
   "metadata": {},
   "source": [
    "### w/o Conformal Prediction"
   ]
  },
  {
   "cell_type": "code",
   "execution_count": 198,
   "id": "776b28f9",
   "metadata": {},
   "outputs": [],
   "source": [
    "correct = 0\n",
    "correct_sys = 0\n",
    "exp = 0\n",
    "exp_total = 0\n",
    "total = 0\n",
    "real_total = 0\n",
    "alone_correct = 0\n",
    "#  === Individual Expert Accuracies === #\n",
    "expert_correct_dic = {k: 0 for k in range(len(experts_test))}\n",
    "expert_total_dic = {k: 0 for k in range(len(experts_test))}"
   ]
  },
  {
   "cell_type": "code",
   "execution_count": 199,
   "id": "ea86c3f5",
   "metadata": {},
   "outputs": [],
   "source": [
    "# 1 expert rando, 3 with prob 0.9 correct\n",
    "probs = confs[-3]\n",
    "experts = exps[-3]\n",
    "experts = experts[::-1] \n",
    "y_true = true[-3]"
   ]
  },
  {
   "cell_type": "code",
   "execution_count": 200,
   "id": "b7b4c275",
   "metadata": {},
   "outputs": [],
   "source": [
    "n_classes = 10\n",
    "n_experts = 4\n",
    "n_classes_exp = n_classes + n_experts\n",
    "\n",
    "probs_test = probs[n_val:]\n",
    "experts_test = [exp[n_val:] for exp in experts]\n",
    "y_true_test = y_true[n_val:]\n"
   ]
  },
  {
   "cell_type": "code",
   "execution_count": 201,
   "id": "9e16fc17",
   "metadata": {},
   "outputs": [],
   "source": [
    "# Predicted value \n",
    "_, predicted = torch.max(probs_test.data, 1)\n",
    "# Classifier alone prediction\n",
    "_, prediction = torch.max(probs_test.data[:, :(n_classes_exp - n_experts)],1)"
   ]
  },
  {
   "cell_type": "code",
   "execution_count": 202,
   "id": "3b272742",
   "metadata": {},
   "outputs": [],
   "source": [
    "labels = y_true_test\n",
    "\n",
    "# Predicted value \n",
    "_, predicted = torch.max(probs_test.data, 1)\n",
    "# Classifier alone prediction\n",
    "_, prediction = torch.max(probs_test.data[:, :(n_classes_exp - n_experts)],1)\n",
    "for i in range(0, n_test):\n",
    "    r = (predicted[i].item() >= n_classes_exp - len(experts_test))\n",
    "    alone_correct += (prediction[i] == labels[i]).item()\n",
    "    if r == 0:\n",
    "        total += 1\n",
    "        correct += (predicted[i] == labels[i]).item()\n",
    "        correct_sys += (predicted[i] == labels[i]).item()\n",
    "        \n",
    "    if r == 1:\n",
    "        deferred_exp = (predicted[i] - n_classes).item()  # reverse order, as in loss function\n",
    "        # deferred_exp = ((n_classes - 1) - predicted[i]).item()  # reverse order, as in loss function\n",
    "        exp_prediction = experts_test[deferred_exp][i]\n",
    "        #\n",
    "        # Deferral accuracy: No matter expert ===\n",
    "        exp += (exp_prediction == labels[i])\n",
    "        exp_total += 1\n",
    "        # Individual Expert Accuracy ===\n",
    "        expert_correct_dic[deferred_exp] += (exp_prediction == labels[i])\n",
    "        expert_total_dic[deferred_exp] += 1\n",
    "        #\n",
    "        correct_sys += (exp_prediction == labels[i])\n",
    "    real_total += 1\n",
    "    \n",
    "#  ===  Coverage  === #    \n",
    "cov = str(total) + str(\" out of\") + str(real_total)\n",
    "\n",
    "#  === Individual Expert Accuracies === #\n",
    "expert_accuracies = {\"expert_{}\".format(str(k)): 100 * expert_correct_dic[k] / (expert_total_dic[k] + 0.0002) for k\n",
    "             in range(len(experts_test))}\n",
    "\n",
    "\n",
    "\n",
    "\n"
   ]
  },
  {
   "cell_type": "code",
   "execution_count": 204,
   "id": "f64497a4",
   "metadata": {},
   "outputs": [
    {
     "name": "stdout",
     "output_type": "stream",
     "text": [
      "Cov: 92.353579175705\n"
     ]
    }
   ],
   "source": [
    "print(\"Cov: {}\".format(100 * (total/real_total)))"
   ]
  },
  {
   "cell_type": "code",
   "execution_count": 205,
   "id": "2b9925fc",
   "metadata": {},
   "outputs": [
    {
     "data": {
      "text/plain": [
       "{'expert_0': 0.0,\n",
       " 'expert_1': 36.36297521863239,\n",
       " 'expert_2': 59.230678106649066,\n",
       " 'expert_3': 0.0}"
      ]
     },
     "execution_count": 205,
     "metadata": {},
     "output_type": "execute_result"
    }
   ],
   "source": [
    "expert_accuracies"
   ]
  },
  {
   "cell_type": "code",
   "execution_count": 206,
   "id": "15cec1f8",
   "metadata": {},
   "outputs": [
    {
     "data": {
      "text/plain": [
       "(57.44672702591911,)"
      ]
     },
     "execution_count": 206,
     "metadata": {},
     "output_type": "execute_result"
    }
   ],
   "source": [
    "100 * exp / (exp_total + 0.0002),"
   ]
  },
  {
   "cell_type": "code",
   "execution_count": 207,
   "id": "8f155e55",
   "metadata": {},
   "outputs": [
    {
     "data": {
      "text/plain": [
       "81"
      ]
     },
     "execution_count": 207,
     "metadata": {},
     "output_type": "execute_result"
    }
   ],
   "source": [
    "exp"
   ]
  },
  {
   "cell_type": "code",
   "execution_count": 208,
   "id": "271d0431",
   "metadata": {},
   "outputs": [
    {
     "data": {
      "text/plain": [
       "88.1236442516269"
      ]
     },
     "execution_count": 208,
     "metadata": {},
     "output_type": "execute_result"
    }
   ],
   "source": [
    "100 * correct_sys / real_total"
   ]
  },
  {
   "cell_type": "markdown",
   "id": "ebc8a654",
   "metadata": {
    "tags": []
   },
   "source": [
    "# Metric Calculation"
   ]
  },
  {
   "cell_type": "code",
   "execution_count": 290,
   "id": "fd8c4c23-d986-408f-a53a-ea0aeca22694",
   "metadata": {},
   "outputs": [],
   "source": [
    "def get_expert_prediction(experts, prediction_set_i, method=\"voting\"):\n",
    "    ensemble_expert_pred_i = np.array(experts_test)[prediction_set_i][:, i]\n",
    "    if method == \"voting\":\n",
    "        exp_prediction = stats.mode(ensemble_expert_pred_i).mode\n",
    "        \n",
    "    if method == \"last\": \n",
    "        exp_prediction = ensemble_expert_pred_i[-1]\n",
    "        \n",
    "    if method == \"random\":\n",
    "        exp_prediction = ensemble_expert_pred_i[np.random.randint(len(ensemble_expert_pred_i))] \n",
    "        \n",
    "    return exp_prediction"
   ]
  },
  {
   "cell_type": "code",
   "execution_count": 291,
   "id": "31d7c77c-bdb2-4270-87cd-88b81457e25e",
   "metadata": {},
   "outputs": [
    {
     "data": {
      "text/plain": [
       "{'last': None, 'random': None, 'voting': None}"
      ]
     },
     "execution_count": 291,
     "metadata": {},
     "output_type": "execute_result"
    }
   ],
   "source": [
    "dict.fromkeys([\"last\", \"random\", \"voting\"])"
   ]
  },
  {
   "cell_type": "code",
   "execution_count": 331,
   "id": "128c5cf3-0238-49c5-bc7e-7d8a7240a9ab",
   "metadata": {},
   "outputs": [
    {
     "name": "stdout",
     "output_type": "stream",
     "text": [
      "Method: last\n",
      "\n",
      "Q_hat 0.2: 0.9704249501228333\n",
      "{'coverage': 98.42733188720173, 'system_accuracy': 83.78524945770064, 'expert_accuracy': 31.03426872918118, 'classifier_accuracy': 84.62809451084878, 'alone_classifier': 83.6767895878525}\n",
      "Q_hat 0.4: 1.4368531703948975\n",
      "{'coverage': 96.74620390455532, 'system_accuracy': 85.19522776572668, 'expert_accuracy': 24.999916666944443, 'classifier_accuracy': 87.21972605270594, 'alone_classifier': 85.68329718004338}\n",
      "Q_hat 0.6: 1.9848847389221191\n",
      "{'coverage': 92.353579175705, 'system_accuracy': 85.35791757049891, 'expert_accuracy': 21.276565565155227, 'classifier_accuracy': 90.66352961459016, 'alone_classifier': 86.49674620390455}\n",
      "Q_hat 0.8: 2.4831812381744385\n",
      "{'coverage': 89.42516268980478, 'system_accuracy': 85.03253796095444, 'expert_accuracy': 32.82047915848291, 'classifier_accuracy': 91.20678646411241, 'alone_classifier': 86.44251626898048}\n",
      "Q_hat 0.95: 2.8904409408569336\n",
      "{'coverage': 80.53145336225596, 'system_accuracy': 85.24945770065077, 'expert_accuracy': 52.92476160180412, 'classifier_accuracy': 93.06396679703927, 'alone_classifier': 86.22559652928416}\n",
      "Method: random\n",
      "\n",
      "Q_hat 0.2: 0.9704249501228333\n",
      "{'coverage': 98.42733188720173, 'system_accuracy': 83.45986984815619, 'expert_accuracy': 10.344756243060393, 'classifier_accuracy': 84.62809451084878, 'alone_classifier': 83.6767895878525}\n",
      "Q_hat 0.4: 1.4368531703948975\n",
      "{'coverage': 96.74620390455532, 'system_accuracy': 85.73752711496746, 'expert_accuracy': 41.66652777824074, 'classifier_accuracy': 87.21972605270594, 'alone_classifier': 85.68329718004338}\n",
      "Q_hat 0.6: 1.9848847389221191\n",
      "{'coverage': 92.353579175705, 'system_accuracy': 87.58134490238612, 'expert_accuracy': 50.354538504200704, 'classifier_accuracy': 90.66352961459016, 'alone_classifier': 86.49674620390455}\n",
      "Q_hat 0.8: 2.4831812381744385\n",
      "{'coverage': 89.42516268980478, 'system_accuracy': 88.01518438177874, 'expert_accuracy': 61.02557843530417, 'classifier_accuracy': 91.20678646411241, 'alone_classifier': 86.44251626898048}\n",
      "Q_hat 0.95: 2.8904409408569336\n",
      "{'coverage': 80.53145336225596, 'system_accuracy': 90.02169197396964, 'expert_accuracy': 77.43728276474498, 'classifier_accuracy': 93.06396679703927, 'alone_classifier': 86.22559652928416}\n",
      "Method: voting\n",
      "\n",
      "Q_hat 0.2: 0.9704249501228333\n",
      "{'coverage': 98.42733188720173, 'system_accuracy': array([83.94793926]), 'expert_accuracy': array([41.37902497]), 'classifier_accuracy': 84.62809451084878, 'alone_classifier': 83.6767895878525}\n",
      "Q_hat 0.4: 1.4368531703948975\n",
      "{'coverage': 96.74620390455532, 'system_accuracy': array([85.90021692]), 'expert_accuracy': array([46.66651111]), 'classifier_accuracy': 87.21972605270594, 'alone_classifier': 85.68329718004338}\n",
      "Q_hat 0.6: 1.9848847389221191\n",
      "{'coverage': 92.353579175705, 'system_accuracy': array([88.72017354]), 'expert_accuracy': array([65.2481344]), 'classifier_accuracy': 90.66352961459016, 'alone_classifier': 86.49674620390455}\n",
      "Q_hat 0.8: 2.4831812381744385\n",
      "{'coverage': 89.42516268980478, 'system_accuracy': array([90.13015184]), 'expert_accuracy': array([81.02555792]), 'classifier_accuracy': 91.20678646411241, 'alone_classifier': 86.44251626898048}\n",
      "Q_hat 0.95: 2.8904409408569336\n",
      "{'coverage': 80.53145336225596, 'system_accuracy': array([91.75704989]), 'expert_accuracy': array([86.35092682]), 'classifier_accuracy': 93.06396679703927, 'alone_classifier': 86.22559652928416}\n"
     ]
    }
   ],
   "source": [
    "# Method dict ===\n",
    "method_list = [\"last\", \"random\", \"voting\"]\n",
    "method_dict = {\"last\": [],\n",
    "               \"random\": [],\n",
    "               \"voting\": []}\n",
    "\n",
    "\n",
    "p_experts = [0.2, 0.4, 0.6, 0.8, 0.95]\n",
    "alpha = 0.1\n",
    "n_classes = 10\n",
    "n_experts = 4\n",
    "n_classes_exp = n_classes + n_experts\n",
    "\n",
    "for method in method_list:\n",
    "    \n",
    "    print(\"Method: {}\\n\".format(method))\n",
    "    for i, p_exp in enumerate(p_experts):\n",
    "        # =============\n",
    "        # = Get Probs =\n",
    "        # =============\n",
    "\n",
    "        probs = confs[i]\n",
    "        experts = exps[i]\n",
    "        experts = experts[::-1]  # reverse order!\n",
    "        y_true = true[-i]\n",
    "\n",
    "        # Val/Calibration ===\n",
    "        probs_val = probs[:n_val, n_classes:]\n",
    "        experts_val = [exp[:n_val] for exp in experts]\n",
    "        y_true_val = y_true[:n_val]\n",
    "\n",
    "        # Test ===\n",
    "        probs_test = probs[n_val:, n_classes:]\n",
    "        experts_test = [exp[n_val:] for exp in experts]\n",
    "        y_true_test = y_true[n_val:]\n",
    "\n",
    "\n",
    "        # =============\n",
    "        # = Conformal =\n",
    "        # =============\n",
    "\n",
    "        # Calculate Q_hat ===\n",
    "\n",
    "        # === Only on deferred samples\n",
    "        _, predicted = torch.max(probs[:n_val].data, 1)\n",
    "        r = (predicted >= n_classes_exp - n_experts)\n",
    "\n",
    "        # Filter \n",
    "        probs_experts = probs_val[r]\n",
    "        experts_val = [np.array(exp)[r] for exp in experts_val]\n",
    "        y_true_val = np.array(y_true_val)[r]\n",
    "\n",
    "        # Model expert probs ===\n",
    "        # Sort J model outputs for experts\n",
    "        sort, pi = probs_experts.sort(dim=1, descending=True)\n",
    "\n",
    "        # Correctness experts ===\n",
    "        # Check if experts are correct \n",
    "        correct_exp = (np.array(experts_val) == np.array(y_true_val)).T\n",
    "        # idx for correct experts: [[0,1,2], [1,2], [], ...]\n",
    "        correct_exp_idx = [np.where(correct_exp_i)[0] for correct_exp_i in correct_exp]\n",
    "\n",
    "        # obtain the last expert to be retrieved. If empty, then add all values.\n",
    "        # indexes are not the real expert index, but the sorted indexes, e.g. [[1, 0 ,2],  [1,0], [], ...]\n",
    "        pi_corr_exp = [probs_experts[i, corr_exp].sort(descending=True)[1] for i, corr_exp in enumerate(correct_exp)]\n",
    "        pi_corr_exp_stop = [pi_corr_exp_i[-1] if len(pi_corr_exp_i)!=0 else -1 for pi_corr_exp_i in pi_corr_exp]  # last expert\n",
    "\n",
    "        # obtain real expert index back, e.g. [2,1,-1,...]\n",
    "        pi_stop = [correct_exp_idx[i][pi_corr_exp_stop_i] if len(correct_exp_idx[i])!=0 else -1 for i, pi_corr_exp_stop_i in enumerate(pi_corr_exp_stop)]\n",
    "\n",
    "        scores = sort.cumsum(dim=1).gather(1, pi.argsort(1))[range(len(torch.tensor(pi_stop))), torch.tensor(pi_stop)]\n",
    "        n_quantile = r.sum()\n",
    "        qhat = torch.quantile(scores, np.ceil((n_quantile + 1) * (1 - alpha)) / n_quantile, interpolation=\"higher\")\n",
    "\n",
    "        print(\"Q_hat {}: {}\".format(p_exp, qhat))\n",
    "\n",
    "\n",
    "        # =============\n",
    "        # = Metrics =\n",
    "        # =============\n",
    "\n",
    "        # === Initalize ====\n",
    "\n",
    "        correct = 0\n",
    "        correct_sys = 0\n",
    "        exp = 0\n",
    "        exp_total = 0\n",
    "        total = 0\n",
    "        real_total = 0\n",
    "        alone_correct = 0\n",
    "\n",
    "        # Individual Expert Accuracies === #\n",
    "        expert_correct_dic = {k: 0 for k in range(len(experts_test))}\n",
    "        expert_total_dic = {k: 0 for k in range(len(experts_test))}\n",
    "\n",
    "        probs_test_exp = probs_test\n",
    "        probs_test_model = probs[n_val:]\n",
    "\n",
    "        # Predicted value \n",
    "        _, predicted = torch.max(probs_test_model.data, 1)\n",
    "\n",
    "        # Classifier alone prediction\n",
    "        _, prediction = torch.max(probs_test_model.data[:, :(n_classes_exp - n_experts)],1)\n",
    "\n",
    "        labels = y_true_test\n",
    "        for i in range(0, n_test):\n",
    "            r = (predicted[i].item() >= n_classes_exp - n_experts)\n",
    "            alone_correct += (prediction[i] == labels[i]).item()\n",
    "\n",
    "            # Non-deferred \n",
    "            if r == 0:\n",
    "                total += 1\n",
    "                correct += (predicted[i] == labels[i]).item()\n",
    "                correct_sys += (predicted[i] == labels[i]).item()\n",
    "\n",
    "            # Deferred \n",
    "            if r == 1:\n",
    "                # Conformal prediction ===        \n",
    "                # Sort J model outputs for experts. sorted probs and sorted indexes\n",
    "                sort_i, pi_i = probs_test_exp[i].sort(descending=True)\n",
    "                # Get last sorted index to be below Q_hat\n",
    "                pi_stop_i = (sort_i.cumsum(dim=0) <= qhat).sum()\n",
    "\n",
    "                # Prediction sets\n",
    "                prediction_set_i = (pi_i[:(pi_stop_i)]).numpy()  # not allow empty sets        \n",
    "\n",
    "\n",
    "\n",
    "                # - Get expert prediction depending on method\n",
    "                # ======\n",
    "                exp_prediction = get_expert_prediction(experts_test, prediction_set_i, method=method)\n",
    "                # ======\n",
    "\n",
    "\n",
    "\n",
    "                # Deferral accuracy: No matter expert ===\n",
    "                exp += (exp_prediction == labels[i])\n",
    "                exp_total += 1\n",
    "                # Individual Expert Accuracy ===\n",
    "                # expert_correct_dic[deferred_exp] += (exp_prediction == labels[i].item())\n",
    "                # expert_total_dic[deferred_exp] += 1\n",
    "                #\n",
    "                correct_sys += (exp_prediction == labels[i])\n",
    "\n",
    "            real_total += 1\n",
    "\n",
    "        #  ===  Coverage  === #    \n",
    "        cov = 100 * total / real_total\n",
    "\n",
    "        #  === Individual Expert Accuracies === #\n",
    "        expert_accuracies = {\"expert_{}\".format(str(k)): 100 * expert_correct_dic[k] / (expert_total_dic[k] + 0.0002) for k\n",
    "                     in range(len(experts_test))}\n",
    "\n",
    "        # Add expert accuracies dict\n",
    "        to_print = {\"coverage\": cov,\n",
    "                    \"system_accuracy\": 100 * correct_sys / real_total,\n",
    "                    \"expert_accuracy\": 100 * exp / (exp_total + 0.0002),\n",
    "                    \"classifier_accuracy\": 100 * correct / (total + 0.0001),\n",
    "                    \"alone_classifier\": 100 * alone_correct / real_total}\n",
    "        print(to_print, flush=True)\n",
    "\n",
    "        # Save to method dict === \n",
    "        method_dict[method].append(to_print)\n",
    "\n"
   ]
  },
  {
   "cell_type": "code",
   "execution_count": 332,
   "id": "8e16b909-50e5-4224-960a-e158a7f57e0f",
   "metadata": {},
   "outputs": [],
   "source": [
    "import matplotlib.pyplot as plt\n",
    "import numpy as np\n",
    "import seaborn as sns\n",
    "from matplotlib import rc\n",
    "\n",
    "# # === Latex Options === #\n",
    "rc('font', family='serif')\n",
    "rc('text', usetex=True)\n",
    "\n",
    "# === Matplotlib Options === #\n",
    "cm = plt.cm.get_cmap('tab10')\n",
    "plot_args = {\"linestyle\": \"-\",\n",
    "             \"marker\": \"o\",\n",
    "             \"markeredgecolor\": \"k\",\n",
    "             \"markersize\": 10,\n",
    "             \"linewidth\": 8\n",
    "             }\n",
    "sns.set_context(\"talk\", font_scale=1.3)\n",
    "fig_size = (6, 6)\n"
   ]
  },
  {
   "cell_type": "code",
   "execution_count": 333,
   "id": "ea859f50-236d-40e6-9e0e-c6b36dc02479",
   "metadata": {},
   "outputs": [
    {
     "data": {
      "text/plain": [
       "array([83.78524946, 85.19522777, 85.35791757, 85.03253796, 85.2494577 ])"
      ]
     },
     "execution_count": 333,
     "metadata": {},
     "output_type": "execute_result"
    }
   ],
   "source": [
    "sys_acc_last = np.array([method_d[\"system_accuracy\"] for method_d in method_dict[\"last\"]])\n",
    "sys_acc_last"
   ]
  },
  {
   "cell_type": "code",
   "execution_count": 334,
   "id": "31a57a97-1b0c-4776-8db2-507b6582a5aa",
   "metadata": {},
   "outputs": [
    {
     "data": {
      "text/plain": [
       "<matplotlib.legend.Legend at 0x7fabb95e6890>"
      ]
     },
     "execution_count": 334,
     "metadata": {},
     "output_type": "execute_result"
    },
    {
     "data": {
      "image/png": "[encoded data removed]",
      "text/plain": [
       "<Figure size 600x600 with 1 Axes>"
      ]
     },
     "metadata": {},
     "output_type": "display_data"
    }
   ],
   "source": [
    "p_experts = [20, 40, 60, 80, 95]\n",
    "\n",
    "sys_acc_last = np.array([method_d[\"system_accuracy\"] for method_d in method_dict[\"last\"]])\n",
    "sys_acc_random = np.array([method_d[\"system_accuracy\"] for method_d in method_dict[\"random\"]])\n",
    "sys_acc_voting = np.array([method_d[\"system_accuracy\"] for method_d in method_dict[\"voting\"]])\n",
    "\n",
    "f, ax = plt.subplots(1, 1, figsize=fig_size)\n",
    "ax.plot(p_experts, sys_acc_last, label=r\"Last\", **plot_args)\n",
    "ax.plot(p_experts, sys_acc_random, label=r\"Random\", **plot_args)\n",
    "ax.plot(p_experts, sys_acc_voting, label=r\"Voting\", **plot_args)\n",
    "plt.xticks(p_experts, p_experts)\n",
    "plt.yticks(list(plt.yticks()[0])[::2])\n",
    "plt.ylabel(r'System Acc. ($\\%$)')\n",
    "plt.xlabel(r'Prob Experts')\n",
    "plt.title(r\"OvA CIFAR-10\")\n",
    "plt.legend(loc=\"best\")\n",
    "plt.grid()\n",
    "f.set_tight_layout(True)\n",
    "plt.legend()\n"
   ]
  },
  {
   "cell_type": "code",
   "execution_count": 335,
   "id": "58ff4c1a-2363-4eb1-bb32-65bd00179aca",
   "metadata": {},
   "outputs": [
    {
     "data": {
      "text/plain": [
       "<matplotlib.legend.Legend at 0x7fabac098490>"
      ]
     },
     "execution_count": 335,
     "metadata": {},
     "output_type": "execute_result"
    },
    {
     "data": {
      "image/png": "[encoded data removed]",
      "text/plain": [
       "<Figure size 600x600 with 1 Axes>"
      ]
     },
     "metadata": {},
     "output_type": "display_data"
    }
   ],
   "source": [
    "p_experts = [20, 40, 60, 80, 95]\n",
    "\n",
    "exp_acc_last = np.array([method_d[\"expert_accuracy\"] for method_d in method_dict[\"last\"]])\n",
    "exp_acc_random = np.array([method_d[\"expert_accuracy\"] for method_d in method_dict[\"random\"]])\n",
    "exp_acc_voting = np.array([method_d[\"expert_accuracy\"] for method_d in method_dict[\"voting\"]])\n",
    "\n",
    "f, ax = plt.subplots(1, 1, figsize=fig_size)\n",
    "ax.plot(p_experts, exp_acc_last, label=r\"Last\", **plot_args)\n",
    "ax.plot(p_experts, exp_acc_random, label=r\"Random\", **plot_args)\n",
    "ax.plot(p_experts, exp_acc_voting, label=r\"Voting\", **plot_args)\n",
    "plt.xticks(p_experts, p_experts)\n",
    "plt.yticks(list(plt.yticks()[0])[::2])\n",
    "plt.ylabel(r'Exp Acc. ($\\%$)')\n",
    "plt.xlabel(r'Prob Experts')\n",
    "plt.title(r\"OvA CIFAR-10\")\n",
    "plt.legend(loc=\"best\")\n",
    "plt.grid()\n",
    "f.set_tight_layout(True)\n",
    "plt.legend()\n"
   ]
  },
  {
   "cell_type": "code",
   "execution_count": 336,
   "id": "7a0c21a6-9331-4462-bb57-70add11cfb04",
   "metadata": {},
   "outputs": [
    {
     "data": {
      "text/plain": [
       "<matplotlib.legend.Legend at 0x7fabc89faa10>"
      ]
     },
     "execution_count": 336,
     "metadata": {},
     "output_type": "execute_result"
    },
    {
     "data": {
      "image/png": "[encoded data removed]",
      "text/plain": [
       "<Figure size 600x600 with 1 Axes>"
      ]
     },
     "metadata": {},
     "output_type": "display_data"
    }
   ],
   "source": [
    "p_experts = [20, 40, 60, 80, 95]\n",
    "\n",
    "coverage = np.array([method_d[\"coverage\"] for method_d in method_dict[\"last\"]])\n",
    "\n",
    "f, ax = plt.subplots(1, 1, figsize=fig_size)\n",
    "ax.plot(p_experts, coverage, label=r\"Coverage\", **plot_args)\n",
    "plt.xticks(p_experts, p_experts)\n",
    "plt.yticks(list(plt.yticks()[0])[::2])\n",
    "plt.ylabel(r'Coverage. ($\\%$)')\n",
    "plt.xlabel(r'Prob Experts')\n",
    "plt.title(r\"OvA CIFAR-10\")\n",
    "plt.legend(loc=\"best\")\n",
    "plt.grid()\n",
    "f.set_tight_layout(True)\n",
    "plt.legend()\n"
   ]
  },
  {
   "cell_type": "code",
   "execution_count": null,
   "id": "5f56ad55-27d2-4191-8a90-d694e841b624",
   "metadata": {},
   "outputs": [],
   "source": []
  },
  {
   "cell_type": "code",
   "execution_count": null,
   "id": "3b02a3c3-3043-43b9-9f12-a9f1518e17ac",
   "metadata": {},
   "outputs": [],
   "source": []
  }
 ],
 "metadata": {
  "kernelspec": {
   "display_name": "Python 3 (ipykernel)",
   "language": "python",
   "name": "python3"
  },
  "language_info": {
   "codemirror_mode": {
    "name": "ipython",
    "version": 3
   },
   "file_extension": ".py",
   "mimetype": "text/x-python",
   "name": "python",
   "nbconvert_exporter": "python",
   "pygments_lexer": "ipython3",
   "version": "3.7.11"
  }
 },
 "nbformat": 4,
 "nbformat_minor": 5
}
