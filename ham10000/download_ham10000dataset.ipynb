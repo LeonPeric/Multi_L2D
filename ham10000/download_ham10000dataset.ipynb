{
 "cells": [
  {
   "attachments": {},
   "cell_type": "markdown",
   "metadata": {},
   "source": [
    "# Download HAM10000 dataset\n",
    "\n",
    "\n"
   ]
  },
  {
   "cell_type": "code",
   "execution_count": null,
   "metadata": {},
   "outputs": [],
   "source": [
    "import os"
   ]
  },
  {
   "cell_type": "code",
   "execution_count": null,
   "metadata": {},
   "outputs": [],
   "source": [
    "# Install kaggle package\n",
    "!pip install kaggle\n",
    "# Chmod json\n",
    "!chmod 600 ~/kaggle/kaggle.json"
   ]
  },
  {
   "cell_type": "markdown",
   "metadata": {},
   "source": []
  },
  {
   "cell_type": "code",
   "execution_count": null,
   "metadata": {},
   "outputs": [],
   "source": [
    "\n",
    "dir_path = './HAM10000'\n",
    "\n",
    "if not os.path.exists(dir_path):\n",
    "    os.makedirs(dir_path)\n",
    "    print(f\"The directory {dir_path} has been created.\")\n",
    "else:\n",
    "    print(f\"The directory {dir_path} already exists.\")\n",
    "\n",
    "# Change dir\n",
    "os.chdir(dir_path)"
   ]
  },
  {
   "cell_type": "code",
   "execution_count": null,
   "metadata": {},
   "outputs": [],
   "source": [
    "!kaggle datasets download kmader/skin-cancer-mnist-ham10000  -p content/derm/"
   ]
  },
  {
   "cell_type": "code",
   "execution_count": null,
   "metadata": {},
   "outputs": [],
   "source": [
    "!unzip /content/derm/skin-cancer-mnist-ham10000.zip"
   ]
  },
  {
   "cell_type": "code",
   "execution_count": null,
   "metadata": {},
   "outputs": [],
   "source": [
    "# Move images to common folder\n",
    "!mkdir HAM10000_images\n",
    "!mv ./HAM10000_images_part_1/* HAM10000_images/\n",
    "!mv ./HAM10000_images_part_2/* HAM10000_images/\n"
   ]
  },
  {
   "attachments": {},
   "cell_type": "markdown",
   "metadata": {},
   "source": [
    "You can delete the unnecessary files accordingly. "
   ]
  }
 ],
 "metadata": {
  "kernelspec": {
   "display_name": "l2d-conformal",
   "language": "python",
   "name": "python3"
  },
  "language_info": {
   "codemirror_mode": {
    "name": "ipython",
    "version": 3
   },
   "file_extension": ".py",
   "mimetype": "text/x-python",
   "name": "python",
   "nbconvert_exporter": "python",
   "pygments_lexer": "ipython3",
   "version": "3.7.16"
  },
  "orig_nbformat": 4,
  "vscode": {
   "interpreter": {
    "hash": "b9760c96699f4c0657f831d2434fce17354cc0b1ed97b2e539ea09c81afdacc8"
   }
  }
 },
 "nbformat": 4,
 "nbformat_minor": 2
}
