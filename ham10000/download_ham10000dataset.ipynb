{
 "cells": [
  {
   "cell_type": "code",
   "execution_count": 1,
   "metadata": {},
   "outputs": [
    {
     "name": "stdout",
     "output_type": "stream",
     "text": [
      "Requirement already satisfied: kaggle in /export/usuarios01/dbarrejon/miniconda3/envs/l2d-conformal/lib/python3.7/site-packages (1.5.12)\n",
      "Requirement already satisfied: urllib3 in /export/usuarios01/dbarrejon/miniconda3/envs/l2d-conformal/lib/python3.7/site-packages (from kaggle) (1.26.14)\n",
      "Requirement already satisfied: python-dateutil in /export/usuarios01/dbarrejon/miniconda3/envs/l2d-conformal/lib/python3.7/site-packages (from kaggle) (2.8.2)\n",
      "Requirement already satisfied: requests in /export/usuarios01/dbarrejon/miniconda3/envs/l2d-conformal/lib/python3.7/site-packages (from kaggle) (2.27.1)\n",
      "Requirement already satisfied: six>=1.10 in /export/usuarios01/dbarrejon/miniconda3/envs/l2d-conformal/lib/python3.7/site-packages (from kaggle) (1.16.0)\n",
      "Requirement already satisfied: python-slugify in /export/usuarios01/dbarrejon/miniconda3/envs/l2d-conformal/lib/python3.7/site-packages (from kaggle) (7.0.0)\n",
      "Requirement already satisfied: tqdm in /export/usuarios01/dbarrejon/miniconda3/envs/l2d-conformal/lib/python3.7/site-packages (from kaggle) (4.47.0)\n",
      "Requirement already satisfied: certifi in /export/usuarios01/dbarrejon/miniconda3/envs/l2d-conformal/lib/python3.7/site-packages (from kaggle) (2022.12.7)\n",
      "Requirement already satisfied: text-unidecode>=1.3 in /export/usuarios01/dbarrejon/miniconda3/envs/l2d-conformal/lib/python3.7/site-packages (from python-slugify->kaggle) (1.3)\n",
      "Requirement already satisfied: charset-normalizer~=2.0.0 in /export/usuarios01/dbarrejon/miniconda3/envs/l2d-conformal/lib/python3.7/site-packages (from requests->kaggle) (2.0.12)\n",
      "Requirement already satisfied: idna<4,>=2.5 in /export/usuarios01/dbarrejon/miniconda3/envs/l2d-conformal/lib/python3.7/site-packages (from requests->kaggle) (3.3)\n"
     ]
    }
   ],
   "source": [
    "!pip install kaggle"
   ]
  },
  {
   "cell_type": "code",
   "execution_count": null,
   "metadata": {},
   "outputs": [],
   "source": [
    "!chmod 600 ~/kaggle/kaggle.json"
   ]
  },
  {
   "cell_type": "code",
   "execution_count": null,
   "metadata": {},
   "outputs": [],
   "source": [
    "!kaggle datasets download kmader/skin-cancer-mnist-ham10000  -p content/derm/"
   ]
  },
  {
   "cell_type": "code",
   "execution_count": null,
   "metadata": {},
   "outputs": [],
   "source": [
    "!unzip content/derm/skin-cancer-mnist-ham10000.zip"
   ]
  }
 ],
 "metadata": {
  "kernelspec": {
   "display_name": "l2d-conformal",
   "language": "python",
   "name": "python3"
  },
  "language_info": {
   "codemirror_mode": {
    "name": "ipython",
    "version": 3
   },
   "file_extension": ".py",
   "mimetype": "text/x-python",
   "name": "python",
   "nbconvert_exporter": "python",
   "pygments_lexer": "ipython3",
   "version": "3.7.7"
  },
  "orig_nbformat": 4,
  "vscode": {
   "interpreter": {
    "hash": "b9760c96699f4c0657f831d2434fce17354cc0b1ed97b2e539ea09c81afdacc8"
   }
  }
 },
 "nbformat": 4,
 "nbformat_minor": 2
}
