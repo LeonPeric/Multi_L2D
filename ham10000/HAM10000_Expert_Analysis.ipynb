{
 "cells": [
  {
   "cell_type": "code",
   "execution_count": 3,
   "id": "6a80b13e-435d-48e9-a1b1-e3c14678d588",
   "metadata": {},
   "outputs": [],
   "source": [
    "import pandas as pd\n",
    "import matplotlib.pyplot as plt\n",
    "import numpy as np"
   ]
  },
  {
   "cell_type": "markdown",
   "id": "07d17952-4327-476b-a17f-04371ec21e0a",
   "metadata": {},
   "source": [
    "# Info\n",
    "\n",
    "- Number of raters for crowd: 511"
   ]
  },
  {
   "cell_type": "markdown",
   "id": "3a33272a-0b46-4d9d-bc6a-f5da6fd74ca1",
   "metadata": {},
   "source": [
    "\n",
    "\n",
    "## Dichotomy:\n",
    "- Benign:\n",
    "    - melanocytic nevi (NVs): nv\n",
    "    - benign keratinocytic lesions (BKLs): bkl\n",
    "    - dermatofisbromas (DFs): df\n",
    "    - vascular lesions (VASCs)): vasc \n",
    "- Malign:\n",
    "    - melanomas (MELs): mel\n",
    "    - basal cell carcinomas (BCCs): bcc\n",
    "    - actinic keratoses and intraepithelial carcinomas (AKIECs): akiec\n",
    "    \n",
    "\n",
    "## Expert 1: Only benign\n",
    "    - nv, bkl, df, vasc\n",
    "## Expert 2: Only malign\n",
    "    - mel. bkl, df\n",
    "## Expert 3: Only vascular lesion\n",
    "    - vasc\n",
    "## Expert 4: Only melanoma\n",
    "    - mel \n",
    "## Expert 5: Malign, bkl\n",
    "    - bkl\n",
    "## Expert 6: Full Expert\n",
    "    - All\n",
    "\n",
    "Experts Confidence: \n",
    "From this: https://arxiv.org/pdf/2009.05977.pdf :\n",
    "- Dermatologists with **dermatoscope and well-trained**: 75% to 84%\n",
    "- **Naked-eyes** dermatologists: 60%\n",
    "\n"
   ]
  },
  {
   "cell_type": "code",
   "execution_count": 4,
   "id": "83be483a-88c8-4a7d-92f1-f1e728508559",
   "metadata": {},
   "outputs": [],
   "source": [
    "ham10000_human_df = pd.read_csv(\"./HAM10000/ISIC2018_Task3_Test_NatureMedicine_AI_Interaction_Benefit.csv\", sep=',',decimal=',')"
   ]
  },
  {
   "cell_type": "code",
   "execution_count": 5,
   "id": "47531333-a9d4-43c7-8fab-a07e91c86811",
   "metadata": {},
   "outputs": [],
   "source": [
    "ham10000_test_df = pd.read_csv(\"./HAM10000/ham10000-private-test-images_metadata_2022-12-09.csv\", sep=',',decimal=',')\n",
    "ham10000_test_df = ham10000_test_df.rename(columns={\"isic_id\": \"image_id\"})"
   ]
  },
  {
   "cell_type": "code",
   "execution_count": 6,
   "id": "6e446938-d9fa-43f7-b2da-ccb3ecd66ae3",
   "metadata": {},
   "outputs": [
    {
     "name": "stdout",
     "output_type": "stream",
     "text": [
      "Human length: 3762\n",
      "Test length: 1705\n",
      "Human id: 1412\n",
      "Test id: 1705\n"
     ]
    }
   ],
   "source": [
    "print(\"Human length: {}\".format(len(ham10000_human_df)))\n",
    "print(\"Test length: {}\".format(len(ham10000_test_df)))\n",
    "\n",
    "\n",
    "\n",
    "human_id = ham10000_human_df[\"image_id\"].unique()\n",
    "print(\"Human id: {}\".format(len(human_id)))\n",
    "test_id = ham10000_test_df[\"image_id\"].unique()\n",
    "print(\"Test id: {}\".format(len(test_id)))\n",
    "filter_id = list(set(human_id) & set(test_id))"
   ]
  },
  {
   "cell_type": "code",
   "execution_count": 7,
   "id": "6911ec1f-111a-4db8-9dc8-19b2f2fa3566",
   "metadata": {},
   "outputs": [
    {
     "name": "stdout",
     "output_type": "stream",
     "text": [
      "Filter Human length: 3762\n",
      "Filter Test length: 1412\n",
      "Filter Human id: 1412\n",
      "Filter Test id: 1412\n"
     ]
    }
   ],
   "source": [
    "human_filter_df = ham10000_human_df[ham10000_human_df['image_id'].isin(filter_id)]\n",
    "test_filter_df = ham10000_test_df[ham10000_test_df['image_id'].isin(filter_id)]\n",
    "\n",
    "print(\"Filter Human length: {}\".format(len(human_filter_df)))\n",
    "print(\"Filter Test length: {}\".format(len(test_filter_df)))\n",
    "\n",
    "print(\"Filter Human id: {}\".format(len(human_filter_df[\"image_id\"].unique())))\n",
    "test_id = ham10000_test_df[\"image_id\"].unique()\n",
    "print(\"Filter Test id: {}\".format(len(test_filter_df)))"
   ]
  },
  {
   "cell_type": "code",
   "execution_count": 8,
   "id": "cdd83968-d4a1-45cf-b080-f6db675ad1ec",
   "metadata": {},
   "outputs": [
    {
     "data": {
      "text/plain": [
       "array(['nevus', 'pigmented benign keratosis', 'melanoma',\n",
       "       'squamous cell carcinoma', 'actinic keratosis',\n",
       "       'basal cell carcinoma', 'vascular lesion', 'dermatofibroma'],\n",
       "      dtype=object)"
      ]
     },
     "execution_count": 8,
     "metadata": {},
     "output_type": "execute_result"
    }
   ],
   "source": [
    "test_filter_df[\"diagnosis\"].unique()"
   ]
  },
  {
   "cell_type": "code",
   "execution_count": 9,
   "id": "09f37d77-1414-4f17-b789-59bf9af0eb1d",
   "metadata": {},
   "outputs": [
    {
     "data": {
      "text/plain": [
       "Index(['image_id', 'interaction_modality', 'prob_m_mal', 'prob_m_dx_akiec',\n",
       "       'prob_m_dx_bcc', 'prob_m_dx_bkl', 'prob_m_dx_df', 'prob_m_dx_mel',\n",
       "       'prob_m_dx_nv', 'prob_m_dx_vasc', 'prob_h_dx_akiec', 'prob_h_dx_bcc',\n",
       "       'prob_h_dx_bkl', 'prob_h_dx_df', 'prob_h_dx_mel', 'prob_h_dx_nv',\n",
       "       'prob_h_dx_vasc', 'user_dx_without_interaction_akiec',\n",
       "       'user_dx_without_interaction_bcc', 'user_dx_without_interaction_bkl',\n",
       "       'user_dx_without_interaction_df', 'user_dx_without_interaction_mel',\n",
       "       'user_dx_without_interaction_nv', 'user_dx_without_interaction_vasc',\n",
       "       'user_dx_with_interaction_akiec', 'user_dx_with_interaction_bcc',\n",
       "       'user_dx_with_interaction_bkl', 'user_dx_with_interaction_df',\n",
       "       'user_dx_with_interaction_mel', 'user_dx_with_interaction_nv',\n",
       "       'user_dx_with_interaction_vasc'],\n",
       "      dtype='object')"
      ]
     },
     "execution_count": 9,
     "metadata": {},
     "output_type": "execute_result"
    }
   ],
   "source": [
    "human_filter_df.columns"
   ]
  },
  {
   "cell_type": "markdown",
   "id": "f66c78b5-8c01-408b-a965-79ae988e22bb",
   "metadata": {},
   "source": [
    "## Replace values in test df for classes\n"
   ]
  },
  {
   "cell_type": "code",
   "execution_count": 13,
   "id": "5ee98d3b-8e6a-4a9b-a91f-f94189243ba7",
   "metadata": {},
   "outputs": [],
   "source": [
    "replace_dict = {\"nevus\":\"nv\",\n",
    "                \"pigmented benign keratosis\": \"bkl\",\n",
    "                \"melanoma\": \"mel\",\n",
    "                \"squamous cell carcinoma\": \"akiec\", \n",
    "                \"actinic keratosis\": \"akiec\" , \n",
    "                \"basal cell carcinoma\": \"bcc\", \n",
    "                \"vascular lesion\": \"vasc\",\n",
    "                \"dermatofibroma\": \"df\"\n",
    "               }\n",
    "# data.replace({\n",
    "#     'column_name': {\n",
    "#         'value_to_replace': 'replace_value_with_this'\n",
    "#     }\n",
    "# })\n",
    "\n",
    "mal_dx = {\"mel\", \"bcc\", \"akiec\"}\n",
    "ben_dx = {\"nv\", \"bkl\", \"df\", \"vasc\"}"
   ]
  },
  {
   "cell_type": "code",
   "execution_count": 15,
   "id": "5278f452-6cf0-4f10-bc9a-9a936f458ad4",
   "metadata": {},
   "outputs": [
    {
     "name": "stdout",
     "output_type": "stream",
     "text": [
      "Ben Dx: nv| Conf: 0.8807461692205196\n",
      "Ben Dx: bkl| Conf: 0.8092105263157895\n",
      "Mal Dx: mel| Conf: 0.7441860465116279\n",
      "Mal Dx: akiec| Conf: 0.5789473684210527\n",
      "Mal Dx: bcc| Conf: 0.8505434782608695\n",
      "Ben Dx: vasc| Conf: 1.0\n",
      "Ben Dx: df| Conf: 0.7727272727272727\n"
     ]
    }
   ],
   "source": [
    "for dx in replace_dict.keys():\n",
    "    if dx == \"squamous cell carcinoma\":\n",
    "        continue\n",
    "    elif dx == \"actinic keratosis\":\n",
    "        bool_dx_a = test_filter_df[\"diagnosis\"]== dx\n",
    "        bool_dx_b = test_filter_df[\"diagnosis\"]== \"squamous cell carcinoma\"\n",
    "        bool_dx = bool_dx_a + bool_dx_b\n",
    "\n",
    "    bool_dx = test_filter_df[\"diagnosis\"]== dx  # Get idx for diagnosis\n",
    "    id_dx = test_filter_df[bool_dx][\"image_id\"]  # Get image id for diagnosis\n",
    "    human_dx_df = human_filter_df[human_filter_df[\"image_id\"].isin(id_dx)]  # filter human df with diagnosis images\n",
    "    human_probs_df = human_dx_df.filter(regex='prob_h')  # get human probabilities\n",
    "    human_probs_np = human_probs_df.to_numpy()  # get numpy matrix\n",
    "    col_idx = human_probs_df.columns.get_loc(\"prob_h_dx_\"+replace_dict[dx])  # obtain column idx\n",
    "\n",
    "    # Get max\n",
    "    conf_dx = (np.argmax(human_probs_np, axis=1) == col_idx).sum() / human_probs_np.shape[0]  # obtain human diagnosis confidence\n",
    "    if replace_dict[dx] in mal_dx: \n",
    "        print(\"Mal Dx: {}| Conf: {}\".format(replace_dict[dx], conf_dx))\n",
    "    else: \n",
    "        print(\"Ben Dx: {}| Conf: {}\".format(replace_dict[dx], conf_dx))"
   ]
  },
  {
   "cell_type": "code",
   "execution_count": null,
   "id": "2729d61e-50ff-4201-acb0-d9a8994bb330",
   "metadata": {},
   "outputs": [],
   "source": []
  },
  {
   "cell_type": "code",
   "execution_count": null,
   "id": "2fc01bbd-4f0b-4a4c-a54f-0b8d84a8f258",
   "metadata": {},
   "outputs": [],
   "source": []
  }
 ],
 "metadata": {
  "kernelspec": {
   "display_name": "Python 3 (ipykernel)",
   "language": "python",
   "name": "python3"
  },
  "language_info": {
   "codemirror_mode": {
    "name": "ipython",
    "version": 3
   },
   "file_extension": ".py",
   "mimetype": "text/x-python",
   "name": "python",
   "nbconvert_exporter": "python",
   "pygments_lexer": "ipython3",
   "version": "3.7.7 (default, May  7 2020, 21:25:33) \n[GCC 7.3.0]"
  },
  "vscode": {
   "interpreter": {
    "hash": "b9760c96699f4c0657f831d2434fce17354cc0b1ed97b2e539ea09c81afdacc8"
   }
  }
 },
 "nbformat": 4,
 "nbformat_minor": 5
}
