{
 "cells": [
  {
   "cell_type": "code",
   "execution_count": 1,
   "id": "0bda0c40",
   "metadata": {
    "pycharm": {
     "name": "#%%\n"
    }
   },
   "outputs": [],
   "source": [
    "import json\n",
    "\n",
    "import numpy as np\n",
    "import torch\n",
    "import matplotlib.pyplot as plt\n",
    "\n",
    "from scipy import stats"
   ]
  },
  {
   "cell_type": "markdown",
   "id": "148a3113",
   "metadata": {
    "pycharm": {
     "name": "#%% md\n"
    }
   },
   "source": [
    "# Increase Experts "
   ]
  },
  {
   "cell_type": "code",
   "execution_count": 2,
   "id": "89265920",
   "metadata": {
    "pycharm": {
     "name": "#%%\n"
    }
   },
   "outputs": [
    {
     "name": "stdout",
     "output_type": "stream",
     "text": [
      "torch.Size([9216, 11])\n",
      "torch.Size([9216, 12])\n",
      "torch.Size([9216, 14])\n",
      "torch.Size([9216, 16])\n",
      "torch.Size([9216, 18])\n"
     ]
    }
   ],
   "source": [
    "# === OvA ===\n",
    "n_classes = 10\n",
    "confs = []\n",
    "exps = []\n",
    "true = []\n",
    "path = \"ova_increase_experts/\"\n",
    "n_experts = [1, 2, 4, 6, 8]\n",
    "for n in n_experts:\n",
    "    model_name = '_' + str(n) + '_experts'\n",
    "    with open(path + 'confidence_multiple_experts' + model_name + '.txt', 'r') as f:\n",
    "        conf = json.loads(json.load(f))\n",
    "    with open(path + 'expert_predictions_multiple_experts' + model_name + '.txt', 'r') as f:\n",
    "        exp_pred = json.loads(json.load(f))\n",
    "    with open(path + 'true_label_multiple_experts' + model_name + '.txt', 'r') as f:\n",
    "        true_label = json.loads(json.load(f))\n",
    "    true.append(true_label['test'])\n",
    "    exps.append(exp_pred['test'])\n",
    "    c = torch.tensor(conf['test'])\n",
    "    print(c.shape)\n",
    "    # DANI Correction ===\n",
    "    c = c.sigmoid()\n",
    "    # DANI Correction ===\n",
    "    confs.append(c)"
   ]
  },
  {
   "cell_type": "markdown",
   "id": "5457d1a0",
   "metadata": {
    "pycharm": {
     "name": "#%% md\n"
    }
   },
   "source": [
    "# Increase confidence "
   ]
  },
  {
   "cell_type": "code",
   "execution_count": 3,
   "id": "8c5ff9b9",
   "metadata": {
    "pycharm": {
     "name": "#%%\n"
    }
   },
   "outputs": [],
   "source": [
    "# === OvA ===\n",
    "n_classes = 10\n",
    "random_expert_idx = 0\n",
    "confs = []\n",
    "exps = []\n",
    "true = []\n",
    "path = \"ova_increase_confidence/\"\n",
    "n_experts = 4\n",
    "p_experts = [0.2, 0.4, 0.6, 0.8, 0.95]\n",
    "for p in p_experts:\n",
    "    model_name = '_' + str(p) + '_confidence'\n",
    "    with open(path + 'confidence_multiple_experts' + model_name + '.txt', 'r') as f:\n",
    "        conf = json.loads(json.load(f))\n",
    "    with open(path + 'expert_predictions_multiple_experts' + model_name + '.txt', 'r') as f:\n",
    "        exp_pred = json.loads(json.load(f))\n",
    "    with open(path + 'true_label_multiple_experts' + model_name + '.txt', 'r') as f:\n",
    "        true_label = json.loads(json.load(f))\n",
    "    true.append(true_label['test'])\n",
    "    exps.append(exp_pred['test'])\n",
    "    c = torch.tensor(conf['test'])\n",
    "    # DANI Correction ===\n",
    "    c = c.sigmoid()\n",
    "    # DANI Correction ===\n",
    "    confs.append(c)"
   ]
  },
  {
   "cell_type": "code",
   "execution_count": 108,
   "id": "8c920e81",
   "metadata": {
    "pycharm": {
     "name": "#%%\n"
    }
   },
   "outputs": [],
   "source": [
    "# 1 expert rando, 3 with prob 0.8 correct\n",
    "probs = confs[-3]\n",
    "experts = exps[-3]\n",
    "experts = experts[::-1]  # reverse order!\n",
    "y_true = true[-3]"
   ]
  },
  {
   "cell_type": "code",
   "execution_count": 109,
   "id": "f854045f",
   "metadata": {
    "pycharm": {
     "name": "#%%\n"
    }
   },
   "outputs": [
    {
     "name": "stdout",
     "output_type": "stream",
     "text": [
      "N val:7372\n",
      "N test:1844\n"
     ]
    }
   ],
   "source": [
    "n_val = int(0.8 * len(y_true))\n",
    "n_test = len(y_true) - n_val\n",
    "print(\"N val:{}\".format(n_val))\n",
    "print(\"N test:{}\".format(n_test))"
   ]
  },
  {
   "cell_type": "markdown",
   "id": "eb27af7a",
   "metadata": {
    "pycharm": {
     "name": "#%% md\n"
    }
   },
   "source": [
    "# Validation"
   ]
  },
  {
   "cell_type": "code",
   "execution_count": 110,
   "id": "53acef52",
   "metadata": {
    "pycharm": {
     "name": "#%%\n"
    }
   },
   "outputs": [
    {
     "data": {
      "text/plain": [
       "tensor(1.9849)"
      ]
     },
     "execution_count": 110,
     "metadata": {},
     "output_type": "execute_result"
    }
   ],
   "source": [
    "## 2. get Q_hat\n",
    "\n",
    "n_classes_exp = n_classes + n_experts\n",
    "probs_val = probs[:n_val, 10:]\n",
    "\n",
    "# experts_val = experts[::-1]  # IMPORTANT! swap to match prob ordering\n",
    "experts_val = experts\n",
    "experts_val = [exp[:n_val] for exp in experts_val]\n",
    "\n",
    "y_true_val = y_true[:n_val]\n",
    "\n",
    "# === Only on deferred samples\n",
    "_, predicted = torch.max(probs[:n_val].data, 1)\n",
    "r = (predicted >= n_classes_exp - n_experts)\n",
    "\n",
    "# Filter \n",
    "probs_val = probs_val[r]\n",
    "experts_val = [np.array(exp)[r] for exp in experts_val]\n",
    "y_true_val = np.array(y_true_val)[r]\n",
    "\n",
    "# Model expert probs ===\n",
    "# Sort J model outputs for experts\n",
    "probs_experts = probs[:n_val, 10:]\n",
    "probs_experts = probs_experts[r]\n",
    "sort, pi = probs_experts.sort(dim=1, descending=True)\n",
    "\n",
    "# Correctness experts ===\n",
    "# Check if experts are correct \n",
    "correct_exp = (np.array(experts_val) == np.array(y_true_val)).T\n",
    "# idx for correct experts: [[0,1,2], [1,2], [], ...]\n",
    "correct_exp_idx = [np.where(correct_exp_i)[0] for correct_exp_i in correct_exp]\n",
    "\n",
    "# obtain the last expert to be retrieved. If empty, then add all values.\n",
    "# indexes are not the real expert index, but the sorted indexes, e.g. [[1, 0 ,2],  [1,0], [], ...]\n",
    "pi_corr_exp = [probs_experts[i, corr_exp].sort(descending=True)[1] for i, corr_exp in enumerate(correct_exp)]\n",
    "pi_corr_exp_stop = [pi_corr_exp_i[-1] if len(pi_corr_exp_i)!=0 else -1 for pi_corr_exp_i in pi_corr_exp]  # last expert\n",
    "\n",
    "# obtain real expert index back, e.g. [2,1,-1,...]\n",
    "pi_stop = [correct_exp_idx[i][pi_corr_exp_stop_i] if len(correct_exp_idx[i])!=0 else -1 for i, pi_corr_exp_stop_i in enumerate(pi_corr_exp_stop)]\n",
    "\n",
    "\n",
    "# =========\n",
    "n_val = n_val\n",
    "alpha = 0.1\n",
    "scores = sort.cumsum(dim=1).gather(1, pi.argsort(1))[range(len(torch.tensor(pi_stop))), torch.tensor(pi_stop)]\n",
    "qhat = torch.quantile(scores, np.ceil((r.sum() + 1) * (1 - alpha)) / r.sum(), interpolation=\"higher\")\n",
    "\n",
    "qhat"
   ]
  },
  {
   "cell_type": "markdown",
   "id": "d1c92d17",
   "metadata": {
    "pycharm": {
     "name": "#%% md\n"
    }
   },
   "source": [
    "# Test"
   ]
  },
  {
   "cell_type": "code",
   "execution_count": 7,
   "id": "ee2ff630",
   "metadata": {
    "pycharm": {
     "name": "#%%\n"
    }
   },
   "outputs": [],
   "source": [
    "n_classes = 10\n",
    "n_experts = 4\n",
    "n_classes_exp = n_classes + n_experts\n",
    "\n",
    "probs_test = probs[n_val:, n_classes:]\n",
    "experts_test = [exp[n_val:] for exp in experts]\n",
    "y_true_test = y_true[n_val:]\n"
   ]
  },
  {
   "cell_type": "code",
   "execution_count": 8,
   "id": "799c8a35",
   "metadata": {
    "pycharm": {
     "name": "#%%\n"
    }
   },
   "outputs": [
    {
     "data": {
      "text/plain": [
       "[array([1, 2, 0, 3]),\n",
       " array([1, 0, 2]),\n",
       " array([2, 1, 0, 3]),\n",
       " array([0, 1, 2]),\n",
       " array([1, 0, 2, 3]),\n",
       " array([1, 0, 2, 3]),\n",
       " array([1, 0, 2]),\n",
       " array([1, 0, 2]),\n",
       " array([1, 0, 2]),\n",
       " array([2, 1, 0, 3]),\n",
       " array([1, 0, 2, 3]),\n",
       " array([1, 0, 2, 3]),\n",
       " array([1, 0, 2, 3]),\n",
       " array([0, 1, 2, 3]),\n",
       " array([1, 0, 2]),\n",
       " array([1, 0, 2, 3]),\n",
       " array([0, 1, 2]),\n",
       " array([1, 0, 2]),\n",
       " array([1, 2, 0]),\n",
       " array([1, 0, 2, 3]),\n",
       " array([1, 0, 2]),\n",
       " array([1, 0, 2, 3]),\n",
       " array([1, 0, 2]),\n",
       " array([2, 0]),\n",
       " array([1, 2, 0]),\n",
       " array([1, 2, 0, 3]),\n",
       " array([1, 0, 2, 3]),\n",
       " array([1, 2, 0, 3]),\n",
       " array([2, 1, 0, 3]),\n",
       " array([2, 1, 0, 3]),\n",
       " array([1, 0, 2, 3]),\n",
       " array([1, 0, 2]),\n",
       " array([2, 0, 1, 3]),\n",
       " array([1, 2, 0, 3]),\n",
       " array([1, 0, 2, 3]),\n",
       " array([0, 1, 2, 3]),\n",
       " array([2, 1, 0, 3]),\n",
       " array([1, 0, 2]),\n",
       " array([1, 0, 2, 3]),\n",
       " array([1, 0, 2, 3]),\n",
       " array([1, 0, 2, 3]),\n",
       " array([1, 0, 2, 3]),\n",
       " array([1, 0, 2]),\n",
       " array([1, 2]),\n",
       " array([1, 0, 2]),\n",
       " array([2, 1, 0, 3]),\n",
       " array([1, 0]),\n",
       " array([1, 0, 2]),\n",
       " array([1, 0, 2]),\n",
       " array([1, 0, 2]),\n",
       " array([2, 1]),\n",
       " array([1, 0, 2]),\n",
       " array([1, 0, 2, 3]),\n",
       " array([1, 2, 0, 3]),\n",
       " array([0, 1, 2, 3]),\n",
       " array([1, 2, 0, 3]),\n",
       " array([1, 0, 2, 3]),\n",
       " array([1, 0, 2, 3]),\n",
       " array([1, 0, 2, 3]),\n",
       " array([1, 0, 2, 3]),\n",
       " array([1, 0, 2, 3]),\n",
       " array([1, 0, 2, 3]),\n",
       " array([1, 0, 2, 3]),\n",
       " array([1, 0, 2, 3]),\n",
       " array([0, 1, 2, 3]),\n",
       " array([1, 0]),\n",
       " array([1, 0, 2]),\n",
       " array([1, 0, 2]),\n",
       " array([0, 2, 1, 3]),\n",
       " array([1, 0, 2]),\n",
       " array([1, 2, 0, 3]),\n",
       " array([1, 0, 2, 3]),\n",
       " array([1, 0, 2]),\n",
       " array([1, 0, 2, 3]),\n",
       " array([1, 0, 2, 3]),\n",
       " array([1, 0, 2, 3]),\n",
       " array([1, 0, 2]),\n",
       " array([1, 0, 2, 3]),\n",
       " array([1, 0, 2, 3]),\n",
       " array([1, 0, 2, 3]),\n",
       " array([1, 0]),\n",
       " array([1, 0, 2]),\n",
       " array([2, 1, 0, 3]),\n",
       " array([0, 1, 2]),\n",
       " array([1, 0, 2, 3]),\n",
       " array([1, 0, 2]),\n",
       " array([1, 0, 2]),\n",
       " array([1, 0, 2, 3]),\n",
       " array([1, 0, 2]),\n",
       " array([1, 2, 0, 3]),\n",
       " array([1, 0, 2, 3]),\n",
       " array([1, 0, 2, 3]),\n",
       " array([1, 0, 2, 3]),\n",
       " array([1, 0, 2]),\n",
       " array([1, 0, 2]),\n",
       " array([1, 0, 2, 3]),\n",
       " array([1, 0, 2, 3]),\n",
       " array([1, 0, 2]),\n",
       " array([1, 0, 2, 3]),\n",
       " array([1, 0, 2]),\n",
       " array([1, 2]),\n",
       " array([0, 1, 2, 3]),\n",
       " array([1, 0, 2]),\n",
       " array([0, 1, 2]),\n",
       " array([1, 0, 2, 3]),\n",
       " array([1, 2, 0, 3]),\n",
       " array([0, 1, 2, 3]),\n",
       " array([1, 0, 2, 3]),\n",
       " array([1, 0, 2]),\n",
       " array([1, 2, 0, 3]),\n",
       " array([2, 1, 0, 3]),\n",
       " array([1, 0, 2, 3]),\n",
       " array([1, 2, 0, 3]),\n",
       " array([1, 0, 2, 3]),\n",
       " array([1, 0, 2, 3]),\n",
       " array([0, 1, 2, 3]),\n",
       " array([1, 0, 2, 3]),\n",
       " array([1, 0, 2, 3]),\n",
       " array([1, 0, 2, 3]),\n",
       " array([1, 0, 2, 3]),\n",
       " array([1, 0, 2, 3]),\n",
       " array([1, 0, 2]),\n",
       " array([1, 2, 0, 3]),\n",
       " array([2, 1, 0, 3]),\n",
       " array([0, 1, 2]),\n",
       " array([1, 0, 2, 3]),\n",
       " array([1, 0, 2]),\n",
       " array([1, 0, 2, 3]),\n",
       " array([1, 0, 2, 3]),\n",
       " array([1, 0, 2]),\n",
       " array([1, 0, 2, 3]),\n",
       " array([1, 0, 2, 3]),\n",
       " array([1, 0, 2, 3]),\n",
       " array([1, 0, 2, 3]),\n",
       " array([1, 0]),\n",
       " array([1, 0, 2]),\n",
       " array([1, 0, 2, 3]),\n",
       " array([1, 0, 2, 3]),\n",
       " array([1, 0, 2]),\n",
       " array([1, 0, 2, 3]),\n",
       " array([1, 2, 0]),\n",
       " array([1, 0, 2]),\n",
       " array([0, 1, 2]),\n",
       " array([1, 0, 2]),\n",
       " array([1, 2, 0, 3]),\n",
       " array([1, 2]),\n",
       " array([1, 0, 2, 3]),\n",
       " array([1, 2, 0, 3]),\n",
       " array([1, 0, 2]),\n",
       " array([1, 0, 2]),\n",
       " array([1, 0, 2, 3]),\n",
       " array([1, 0, 2, 3]),\n",
       " array([2, 1, 0, 3]),\n",
       " array([1, 2, 0, 3]),\n",
       " array([1, 0]),\n",
       " array([2, 1, 0, 3]),\n",
       " array([0, 1, 2]),\n",
       " array([1, 0, 2, 3]),\n",
       " array([1, 0, 2, 3]),\n",
       " array([1, 0, 2, 3]),\n",
       " array([1, 0, 2, 3]),\n",
       " array([1, 0, 2]),\n",
       " array([1, 0, 2, 3]),\n",
       " array([1, 0, 2]),\n",
       " array([1, 0, 2]),\n",
       " array([1, 0, 2]),\n",
       " array([1, 0, 2, 3]),\n",
       " array([1, 2]),\n",
       " array([1, 2, 0]),\n",
       " array([1, 2, 0, 3]),\n",
       " array([1, 0, 2, 3]),\n",
       " array([1, 0]),\n",
       " array([1, 0, 2]),\n",
       " array([1, 2]),\n",
       " array([1, 0, 2, 3]),\n",
       " array([1, 0, 2]),\n",
       " array([1, 0, 2, 3]),\n",
       " array([1, 0, 2]),\n",
       " array([0, 1, 2]),\n",
       " array([1, 0, 2]),\n",
       " array([1, 0]),\n",
       " array([0, 1, 2, 3]),\n",
       " array([0, 1, 2, 3]),\n",
       " array([1, 0]),\n",
       " array([0, 2, 1, 3]),\n",
       " array([1, 0, 2, 3]),\n",
       " array([0, 1, 2, 3]),\n",
       " array([1, 0, 2, 3]),\n",
       " array([1, 0, 2]),\n",
       " array([1, 2, 0, 3]),\n",
       " array([1, 0, 2, 3]),\n",
       " array([1, 2, 0, 3]),\n",
       " array([1, 0, 2, 3]),\n",
       " array([0, 1, 2]),\n",
       " array([2, 1, 0, 3])]"
      ]
     },
     "execution_count": 8,
     "metadata": {},
     "output_type": "execute_result"
    }
   ],
   "source": [
    "# === Only on deferred samples\n",
    "_, predicted = torch.max(probs[n_val:].data, 1)\n",
    "r_test = (predicted >= n_classes_exp - n_experts)\n",
    "\n",
    "# Filter \n",
    "probs_test = probs_test[r_test]\n",
    "experts_test = [np.array(exp)[r_test] for exp in experts_test]\n",
    "y_true_test = np.array(y_true_test)[r_test]\n",
    "\n",
    "# Sort J model outputs for experts. sorted probs and sorted indexes\n",
    "sort_test, pi_test = probs_test.sort(dim=1, descending=True)\n",
    "# Get last sorted index to be below Q_hat\n",
    "pi_stop = (sort_test.cumsum(dim=1) <= qhat).sum(axis=1)\n",
    "\n",
    "# Prediction sets\n",
    "prediction_sets = [(pi_test[i][:(pi_stop[i])]).numpy() for i in range(pi_stop.shape[0])]  # not allow empty sets\n",
    "prediction_sets"
   ]
  },
  {
   "cell_type": "code",
   "execution_count": 9,
   "id": "7945ca94",
   "metadata": {},
   "outputs": [
    {
     "data": {
      "text/plain": [
       "tensor([[1, 2, 0, 3],\n",
       "        [1, 0, 2, 3],\n",
       "        [2, 1, 0, 3],\n",
       "        [0, 1, 2, 3],\n",
       "        [1, 0, 2, 3],\n",
       "        [1, 0, 2, 3],\n",
       "        [1, 0, 2, 3],\n",
       "        [1, 0, 2, 3],\n",
       "        [1, 0, 2, 3],\n",
       "        [2, 1, 0, 3],\n",
       "        [1, 0, 2, 3],\n",
       "        [1, 0, 2, 3],\n",
       "        [1, 0, 2, 3],\n",
       "        [0, 1, 2, 3],\n",
       "        [1, 0, 2, 3],\n",
       "        [1, 0, 2, 3],\n",
       "        [0, 1, 2, 3],\n",
       "        [1, 0, 2, 3],\n",
       "        [1, 2, 0, 3],\n",
       "        [1, 0, 2, 3],\n",
       "        [1, 0, 2, 3],\n",
       "        [1, 0, 2, 3],\n",
       "        [1, 0, 2, 3],\n",
       "        [2, 0, 1, 3],\n",
       "        [1, 2, 0, 3],\n",
       "        [1, 2, 0, 3],\n",
       "        [1, 0, 2, 3],\n",
       "        [1, 2, 0, 3],\n",
       "        [2, 1, 0, 3],\n",
       "        [2, 1, 0, 3],\n",
       "        [1, 0, 2, 3],\n",
       "        [1, 0, 2, 3],\n",
       "        [2, 0, 1, 3],\n",
       "        [1, 2, 0, 3],\n",
       "        [1, 0, 2, 3],\n",
       "        [0, 1, 2, 3],\n",
       "        [2, 1, 0, 3],\n",
       "        [1, 0, 2, 3],\n",
       "        [1, 0, 2, 3],\n",
       "        [1, 0, 2, 3],\n",
       "        [1, 0, 2, 3],\n",
       "        [1, 0, 2, 3],\n",
       "        [1, 0, 2, 3],\n",
       "        [1, 2, 0, 3],\n",
       "        [1, 0, 2, 3],\n",
       "        [2, 1, 0, 3],\n",
       "        [1, 0, 2, 3],\n",
       "        [1, 0, 2, 3],\n",
       "        [1, 0, 2, 3],\n",
       "        [1, 0, 2, 3],\n",
       "        [2, 1, 0, 3],\n",
       "        [1, 0, 2, 3],\n",
       "        [1, 0, 2, 3],\n",
       "        [1, 2, 0, 3],\n",
       "        [0, 1, 2, 3],\n",
       "        [1, 2, 0, 3],\n",
       "        [1, 0, 2, 3],\n",
       "        [1, 0, 2, 3],\n",
       "        [1, 0, 2, 3],\n",
       "        [1, 0, 2, 3],\n",
       "        [1, 0, 2, 3],\n",
       "        [1, 0, 2, 3],\n",
       "        [1, 0, 2, 3],\n",
       "        [1, 0, 2, 3],\n",
       "        [0, 1, 2, 3],\n",
       "        [1, 0, 2, 3],\n",
       "        [1, 0, 2, 3],\n",
       "        [1, 0, 2, 3],\n",
       "        [0, 2, 1, 3],\n",
       "        [1, 0, 2, 3],\n",
       "        [1, 2, 0, 3],\n",
       "        [1, 0, 2, 3],\n",
       "        [1, 0, 2, 3],\n",
       "        [1, 0, 2, 3],\n",
       "        [1, 0, 2, 3],\n",
       "        [1, 0, 2, 3],\n",
       "        [1, 0, 2, 3],\n",
       "        [1, 0, 2, 3],\n",
       "        [1, 0, 2, 3],\n",
       "        [1, 0, 2, 3],\n",
       "        [1, 0, 2, 3],\n",
       "        [1, 0, 2, 3],\n",
       "        [2, 1, 0, 3],\n",
       "        [0, 1, 2, 3],\n",
       "        [1, 0, 2, 3],\n",
       "        [1, 0, 2, 3],\n",
       "        [1, 0, 2, 3],\n",
       "        [1, 0, 2, 3],\n",
       "        [1, 0, 2, 3],\n",
       "        [1, 2, 0, 3],\n",
       "        [1, 0, 2, 3],\n",
       "        [1, 0, 2, 3],\n",
       "        [1, 0, 2, 3],\n",
       "        [1, 0, 2, 3],\n",
       "        [1, 0, 2, 3],\n",
       "        [1, 0, 2, 3],\n",
       "        [1, 0, 2, 3],\n",
       "        [1, 0, 2, 3],\n",
       "        [1, 0, 2, 3],\n",
       "        [1, 0, 2, 3],\n",
       "        [1, 2, 0, 3],\n",
       "        [0, 1, 2, 3],\n",
       "        [1, 0, 2, 3],\n",
       "        [0, 1, 2, 3],\n",
       "        [1, 0, 2, 3],\n",
       "        [1, 2, 0, 3],\n",
       "        [0, 1, 2, 3],\n",
       "        [1, 0, 2, 3],\n",
       "        [1, 0, 2, 3],\n",
       "        [1, 2, 0, 3],\n",
       "        [2, 1, 0, 3],\n",
       "        [1, 0, 2, 3],\n",
       "        [1, 2, 0, 3],\n",
       "        [1, 0, 2, 3],\n",
       "        [1, 0, 2, 3],\n",
       "        [0, 1, 2, 3],\n",
       "        [1, 0, 2, 3],\n",
       "        [1, 0, 2, 3],\n",
       "        [1, 0, 2, 3],\n",
       "        [1, 0, 2, 3],\n",
       "        [1, 0, 2, 3],\n",
       "        [1, 0, 2, 3],\n",
       "        [1, 2, 0, 3],\n",
       "        [2, 1, 0, 3],\n",
       "        [0, 1, 2, 3],\n",
       "        [1, 0, 2, 3],\n",
       "        [1, 0, 2, 3],\n",
       "        [1, 0, 2, 3],\n",
       "        [1, 0, 2, 3],\n",
       "        [1, 0, 2, 3],\n",
       "        [1, 0, 2, 3],\n",
       "        [1, 0, 2, 3],\n",
       "        [1, 0, 2, 3],\n",
       "        [1, 0, 2, 3],\n",
       "        [1, 0, 2, 3],\n",
       "        [1, 0, 2, 3],\n",
       "        [1, 0, 2, 3],\n",
       "        [1, 0, 2, 3],\n",
       "        [1, 0, 2, 3],\n",
       "        [1, 0, 2, 3],\n",
       "        [1, 2, 0, 3],\n",
       "        [1, 0, 2, 3],\n",
       "        [0, 1, 2, 3],\n",
       "        [1, 0, 2, 3],\n",
       "        [1, 2, 0, 3],\n",
       "        [1, 2, 0, 3],\n",
       "        [1, 0, 2, 3],\n",
       "        [1, 2, 0, 3],\n",
       "        [1, 0, 2, 3],\n",
       "        [1, 0, 2, 3],\n",
       "        [1, 0, 2, 3],\n",
       "        [1, 0, 2, 3],\n",
       "        [2, 1, 0, 3],\n",
       "        [1, 2, 0, 3],\n",
       "        [1, 0, 2, 3],\n",
       "        [2, 1, 0, 3],\n",
       "        [0, 1, 2, 3],\n",
       "        [1, 0, 2, 3],\n",
       "        [1, 0, 2, 3],\n",
       "        [1, 0, 2, 3],\n",
       "        [1, 0, 2, 3],\n",
       "        [1, 0, 2, 3],\n",
       "        [1, 0, 2, 3],\n",
       "        [1, 0, 2, 3],\n",
       "        [1, 0, 2, 3],\n",
       "        [1, 0, 2, 3],\n",
       "        [1, 0, 2, 3],\n",
       "        [1, 2, 0, 3],\n",
       "        [1, 2, 0, 3],\n",
       "        [1, 2, 0, 3],\n",
       "        [1, 0, 2, 3],\n",
       "        [1, 0, 2, 3],\n",
       "        [1, 0, 2, 3],\n",
       "        [1, 2, 0, 3],\n",
       "        [1, 0, 2, 3],\n",
       "        [1, 0, 2, 3],\n",
       "        [1, 0, 2, 3],\n",
       "        [1, 0, 2, 3],\n",
       "        [0, 1, 2, 3],\n",
       "        [1, 0, 2, 3],\n",
       "        [1, 0, 2, 3],\n",
       "        [0, 1, 2, 3],\n",
       "        [0, 1, 2, 3],\n",
       "        [1, 0, 2, 3],\n",
       "        [0, 2, 1, 3],\n",
       "        [1, 0, 2, 3],\n",
       "        [0, 1, 2, 3],\n",
       "        [1, 0, 2, 3],\n",
       "        [1, 0, 2, 3],\n",
       "        [1, 2, 0, 3],\n",
       "        [1, 0, 2, 3],\n",
       "        [1, 2, 0, 3],\n",
       "        [1, 0, 2, 3],\n",
       "        [0, 1, 2, 3],\n",
       "        [2, 1, 0, 3]])"
      ]
     },
     "execution_count": 9,
     "metadata": {},
     "output_type": "execute_result"
    }
   ],
   "source": [
    "pi_test"
   ]
  },
  {
   "cell_type": "code",
   "execution_count": null,
   "id": "6341e294",
   "metadata": {},
   "outputs": [],
   "source": []
  },
  {
   "cell_type": "code",
   "execution_count": null,
   "id": "1c6cef95",
   "metadata": {},
   "outputs": [],
   "source": []
  },
  {
   "cell_type": "code",
   "execution_count": null,
   "id": "a01e54e5",
   "metadata": {},
   "outputs": [],
   "source": []
  },
  {
   "cell_type": "markdown",
   "id": "46320dc5",
   "metadata": {},
   "source": [
    "# Accuracy"
   ]
  },
  {
   "cell_type": "markdown",
   "id": "ac42848e",
   "metadata": {},
   "source": [
    "### Accuracy w/o Conformal on deferred samples"
   ]
  },
  {
   "cell_type": "code",
   "execution_count": 111,
   "id": "466071af",
   "metadata": {},
   "outputs": [],
   "source": [
    "correct = 0\n",
    "correct_sys = 0\n",
    "exp = 0\n",
    "exp_total = 0\n",
    "total = 0\n",
    "real_total = 0\n",
    "alone_correct = 0\n",
    "#  === Individual Expert Accuracies === #\n",
    "expert_correct_dic = {k: 0 for k in range(len(experts_test))}\n",
    "expert_total_dic = {k: 0 for k in range(len(experts_test))}"
   ]
  },
  {
   "cell_type": "code",
   "execution_count": 112,
   "id": "736cd2a1",
   "metadata": {},
   "outputs": [],
   "source": [
    "# 1 expert rando, 3 with prob 0.9 correct\n",
    "probs = confs[-3]\n",
    "experts = exps[-3]\n",
    "experts = experts[::-1] \n",
    "y_true = true[-3]"
   ]
  },
  {
   "cell_type": "code",
   "execution_count": 113,
   "id": "44fec6de",
   "metadata": {},
   "outputs": [],
   "source": [
    "n_classes = 10\n",
    "n_experts = 4\n",
    "n_classes_exp = n_classes + n_experts\n",
    "\n",
    "probs_test = probs[n_val:]\n",
    "experts_test = [exp[n_val:] for exp in experts]\n",
    "y_true_test = y_true[n_val:]\n"
   ]
  },
  {
   "cell_type": "code",
   "execution_count": 114,
   "id": "05ccb35d",
   "metadata": {},
   "outputs": [],
   "source": [
    "# Predicted value \n",
    "_, predicted = torch.max(probs_test.data, 1)\n",
    "# Classifier alone prediction\n",
    "_, prediction = torch.max(probs_test.data[:, :(n_classes_exp - n_experts)],1)"
   ]
  },
  {
   "cell_type": "markdown",
   "id": "160b7be2",
   "metadata": {},
   "source": [
    "### w Conformal Prediction"
   ]
  },
  {
   "cell_type": "code",
   "execution_count": 115,
   "id": "5a309516",
   "metadata": {},
   "outputs": [],
   "source": [
    "labels = y_true_test\n",
    "\n",
    "# Predicted value \n",
    "_, predicted = torch.max(probs_test.data, 1)\n",
    "# Classifier alone prediction\n",
    "_, prediction = torch.max(probs_test.data[:, :(n_classes_exp - n_experts)],1)\n",
    "for i in range(0, n_test):\n",
    "    r = (predicted[i].item() >= n_classes_exp - len(experts_test))\n",
    "    alone_correct += (prediction[i] == labels[i]).item()\n",
    "    if r == 0:\n",
    "        total += 1\n",
    "        correct += (predicted[i] == labels[i]).item()\n",
    "        correct_sys += (predicted[i] == labels[i]).item()\n",
    "        \n",
    "    if r == 1:\n",
    "        # Conformal prediction ===        \n",
    "        # Sort J model outputs for experts. sorted probs and sorted indexes\n",
    "        sort_i, pi_i = probs_test[0,n_classes:].sort(descending=True)\n",
    "        # Get last sorted index to be below Q_hat\n",
    "        pi_stop_i = (sort_i.cumsum(dim=0) <= qhat).sum()\n",
    "\n",
    "        # Prediction sets\n",
    "        prediction_set_i = (pi_i[:(pi_stop_i)]).numpy()  # not allow empty sets        \n",
    "        \n",
    "        ensemble_expert_pred_i = np.array(experts_test)[prediction_set_i][:, i]\n",
    "        exp_prediction = stats.mode(ensemble_expert_pred_i).mode\n",
    "        # Conformal prediction ===\n",
    "        \n",
    "        # Deferral accuracy: No matter expert ===\n",
    "        exp += (exp_prediction == labels[i])\n",
    "        exp_total += 1\n",
    "        # Individual Expert Accuracy ===\n",
    "        # expert_correct_dic[deferred_exp] += (exp_prediction == labels[i].item())\n",
    "        # expert_total_dic[deferred_exp] += 1\n",
    "        #\n",
    "        correct_sys += (exp_prediction == labels[i])\n",
    "    real_total += 1\n",
    "    \n",
    "#  ===  Coverage  === #    \n",
    "cov = str(total) + str(\" out of\") + str(real_total)\n",
    "\n",
    "#  === Individual Expert Accuracies === #\n",
    "expert_accuracies = {\"expert_{}\".format(str(k)): 100 * expert_correct_dic[k] / (expert_total_dic[k] + 0.0002) for k\n",
    "             in range(len(experts_test))}\n",
    "\n",
    "\n",
    "\n",
    "\n"
   ]
  },
  {
   "cell_type": "code",
   "execution_count": 116,
   "id": "544089c4",
   "metadata": {},
   "outputs": [
    {
     "data": {
      "text/plain": [
       "{'expert_0': 0.0, 'expert_1': 0.0, 'expert_2': 0.0, 'expert_3': 0.0}"
      ]
     },
     "execution_count": 116,
     "metadata": {},
     "output_type": "execute_result"
    }
   ],
   "source": [
    "expert_accuracies"
   ]
  },
  {
   "cell_type": "code",
   "execution_count": 117,
   "id": "0a6e15c6",
   "metadata": {},
   "outputs": [
    {
     "data": {
      "text/plain": [
       "(array([65.95735325]),)"
      ]
     },
     "execution_count": 117,
     "metadata": {},
     "output_type": "execute_result"
    }
   ],
   "source": [
    "100 * exp / (exp_total + 0.0002),"
   ]
  },
  {
   "cell_type": "code",
   "execution_count": 118,
   "id": "fe213a42",
   "metadata": {},
   "outputs": [
    {
     "data": {
      "text/plain": [
       "141"
      ]
     },
     "execution_count": 118,
     "metadata": {},
     "output_type": "execute_result"
    }
   ],
   "source": [
    "exp_total"
   ]
  },
  {
   "cell_type": "code",
   "execution_count": 119,
   "id": "bf941c5d",
   "metadata": {},
   "outputs": [
    {
     "data": {
      "text/plain": [
       "array([88.77440347])"
      ]
     },
     "execution_count": 119,
     "metadata": {},
     "output_type": "execute_result"
    }
   ],
   "source": [
    "100 * correct_sys / real_total"
   ]
  },
  {
   "cell_type": "markdown",
   "id": "257a56ff",
   "metadata": {},
   "source": [
    "### w/o Conformal Prediction"
   ]
  },
  {
   "cell_type": "code",
   "execution_count": 120,
   "id": "db0f9d04",
   "metadata": {},
   "outputs": [],
   "source": [
    "correct = 0\n",
    "correct_sys = 0\n",
    "exp = 0\n",
    "exp_total = 0\n",
    "total = 0\n",
    "real_total = 0\n",
    "alone_correct = 0\n",
    "#  === Individual Expert Accuracies === #\n",
    "expert_correct_dic = {k: 0 for k in range(len(experts_test))}\n",
    "expert_total_dic = {k: 0 for k in range(len(experts_test))}"
   ]
  },
  {
   "cell_type": "code",
   "execution_count": 121,
   "id": "620819ce",
   "metadata": {},
   "outputs": [],
   "source": [
    "# 1 expert rando, 3 with prob 0.9 correct\n",
    "probs = confs[-3]\n",
    "experts = exps[-3]\n",
    "experts = experts[::-1] \n",
    "y_true = true[-3]"
   ]
  },
  {
   "cell_type": "code",
   "execution_count": 122,
   "id": "8fbd57ff",
   "metadata": {},
   "outputs": [],
   "source": [
    "n_classes = 10\n",
    "n_experts = 4\n",
    "n_classes_exp = n_classes + n_experts\n",
    "\n",
    "probs_test = probs[n_val:]\n",
    "experts_test = [exp[n_val:] for exp in experts]\n",
    "y_true_test = y_true[n_val:]\n"
   ]
  },
  {
   "cell_type": "code",
   "execution_count": 123,
   "id": "b8bb399c",
   "metadata": {},
   "outputs": [],
   "source": [
    "# Predicted value \n",
    "_, predicted = torch.max(probs_test.data, 1)\n",
    "# Classifier alone prediction\n",
    "_, prediction = torch.max(probs_test.data[:, :(n_classes_exp - n_experts)],1)"
   ]
  },
  {
   "cell_type": "code",
   "execution_count": 124,
   "id": "24ffd1af",
   "metadata": {},
   "outputs": [],
   "source": [
    "labels = y_true_test\n",
    "\n",
    "# Predicted value \n",
    "_, predicted = torch.max(probs_test.data, 1)\n",
    "# Classifier alone prediction\n",
    "_, prediction = torch.max(probs_test.data[:, :(n_classes_exp - n_experts)],1)\n",
    "for i in range(0, n_test):\n",
    "    r = (predicted[i].item() >= n_classes_exp - len(experts_test))\n",
    "    alone_correct += (prediction[i] == labels[i]).item()\n",
    "    if r == 0:\n",
    "        total += 1\n",
    "        correct += (predicted[i] == labels[i]).item()\n",
    "        correct_sys += (predicted[i] == labels[i]).item()\n",
    "        \n",
    "    if r == 1:\n",
    "        deferred_exp = (predicted[i] - n_classes).item()  # reverse order, as in loss function\n",
    "        # deferred_exp = ((n_classes - 1) - predicted[i]).item()  # reverse order, as in loss function\n",
    "        exp_prediction = experts_test[deferred_exp][i]\n",
    "        #\n",
    "        # Deferral accuracy: No matter expert ===\n",
    "        exp += (exp_prediction == labels[i])\n",
    "        exp_total += 1\n",
    "        # Individual Expert Accuracy ===\n",
    "        expert_correct_dic[deferred_exp] += (exp_prediction == labels[i])\n",
    "        expert_total_dic[deferred_exp] += 1\n",
    "        #\n",
    "        correct_sys += (exp_prediction == labels[i])\n",
    "    real_total += 1\n",
    "    \n",
    "#  ===  Coverage  === #    \n",
    "cov = str(total) + str(\" out of\") + str(real_total)\n",
    "\n",
    "#  === Individual Expert Accuracies === #\n",
    "expert_accuracies = {\"expert_{}\".format(str(k)): 100 * expert_correct_dic[k] / (expert_total_dic[k] + 0.0002) for k\n",
    "             in range(len(experts_test))}\n",
    "\n",
    "\n",
    "\n",
    "\n"
   ]
  },
  {
   "cell_type": "code",
   "execution_count": 125,
   "id": "12fa2469",
   "metadata": {},
   "outputs": [
    {
     "data": {
      "text/plain": [
       "{'expert_0': 0.0,\n",
       " 'expert_1': 36.36297521863239,\n",
       " 'expert_2': 59.230678106649066,\n",
       " 'expert_3': 0.0}"
      ]
     },
     "execution_count": 125,
     "metadata": {},
     "output_type": "execute_result"
    }
   ],
   "source": [
    "expert_accuracies"
   ]
  },
  {
   "cell_type": "code",
   "execution_count": 126,
   "id": "b64b7ead",
   "metadata": {},
   "outputs": [
    {
     "data": {
      "text/plain": [
       "(57.44672702591911,)"
      ]
     },
     "execution_count": 126,
     "metadata": {},
     "output_type": "execute_result"
    }
   ],
   "source": [
    "100 * exp / (exp_total + 0.0002),"
   ]
  },
  {
   "cell_type": "code",
   "execution_count": 127,
   "id": "a1286876",
   "metadata": {},
   "outputs": [
    {
     "data": {
      "text/plain": [
       "81"
      ]
     },
     "execution_count": 127,
     "metadata": {},
     "output_type": "execute_result"
    }
   ],
   "source": [
    "exp"
   ]
  },
  {
   "cell_type": "code",
   "execution_count": 128,
   "id": "90161e84",
   "metadata": {},
   "outputs": [
    {
     "data": {
      "text/plain": [
       "88.1236442516269"
      ]
     },
     "execution_count": 128,
     "metadata": {},
     "output_type": "execute_result"
    }
   ],
   "source": [
    "100 * correct_sys / real_total"
   ]
  },
  {
   "cell_type": "markdown",
   "id": "ddff83b7",
   "metadata": {},
   "source": [
    "### Accuracy w Conformal on deferred samples"
   ]
  },
  {
   "cell_type": "code",
   "execution_count": 28,
   "id": "87d5db25",
   "metadata": {},
   "outputs": [
    {
     "data": {
      "text/plain": [
       "tensor(2.4832)"
      ]
     },
     "execution_count": 28,
     "metadata": {},
     "output_type": "execute_result"
    }
   ],
   "source": [
    "qhat"
   ]
  },
  {
   "cell_type": "code",
   "execution_count": 29,
   "id": "08d0daf6",
   "metadata": {},
   "outputs": [
    {
     "data": {
      "text/plain": [
       "tensor([[0.9446, 0.9549, 0.9215, 0.1244],\n",
       "        [0.9760, 0.9769, 0.9756, 0.1037],\n",
       "        [0.9622, 0.9661, 0.9566, 0.1071],\n",
       "        ...,\n",
       "        [0.9315, 0.9366, 0.9419, 0.1079],\n",
       "        [0.2346, 0.2542, 0.2841, 0.1010],\n",
       "        [0.9251, 0.9364, 0.9127, 0.1279]])"
      ]
     },
     "execution_count": 29,
     "metadata": {},
     "output_type": "execute_result"
    }
   ],
   "source": [
    "probs_test[:,10:]"
   ]
  },
  {
   "cell_type": "code",
   "execution_count": null,
   "id": "f1fa1b63",
   "metadata": {},
   "outputs": [],
   "source": []
  }
 ],
 "metadata": {
  "kernelspec": {
   "display_name": "Python 3 (ipykernel)",
   "language": "python",
   "name": "python3"
  },
  "language_info": {
   "codemirror_mode": {
    "name": "ipython",
    "version": 3
   },
   "file_extension": ".py",
   "mimetype": "text/x-python",
   "name": "python",
   "nbconvert_exporter": "python",
   "pygments_lexer": "ipython3",
   "version": "3.7.11"
  }
 },
 "nbformat": 4,
 "nbformat_minor": 5
}
