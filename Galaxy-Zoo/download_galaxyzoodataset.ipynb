{
 "cells": [
  {
   "attachments": {},
   "cell_type": "markdown",
   "metadata": {},
   "source": [
    "# Download Galaxy-Zoo dataset\n",
    "\n",
    "\n"
   ]
  },
  {
   "cell_type": "code",
   "execution_count": null,
   "metadata": {},
   "outputs": [],
   "source": [
    "import os"
   ]
  },
  {
   "cell_type": "code",
   "execution_count": null,
   "metadata": {},
   "outputs": [],
   "source": [
    "# Install kaggle package\n",
    "!pip install kaggle\n",
    "# Chmod json\n",
    "!chmod 600 ~/kaggle/kaggle.json"
   ]
  },
  {
   "cell_type": "markdown",
   "metadata": {},
   "source": []
  },
  {
   "cell_type": "code",
   "execution_count": 3,
   "metadata": {},
   "outputs": [],
   "source": [
    "!mkdir Data\n",
    "os.chdir(\"Data\")"
   ]
  },
  {
   "cell_type": "code",
   "execution_count": 4,
   "metadata": {},
   "outputs": [
    {
     "name": "stdout",
     "output_type": "stream",
     "text": [
      "Downloading galaxy-zoo-the-galaxy-challenge.zip to /export/gts_usuarios/dbarrejon/Multi_L2D/Galaxy-Zoo/test\n",
      "100%|█████████████████████████████████████▉| 1.77G/1.77G [02:52<00:00, 11.0MB/s]\n",
      "100%|██████████████████████████████████████| 1.77G/1.77G [02:52<00:00, 11.1MB/s]\n"
     ]
    }
   ],
   "source": [
    "!kaggle competitions download -c galaxy-zoo-the-galaxy-challenge"
   ]
  },
  {
   "cell_type": "code",
   "execution_count": 5,
   "metadata": {},
   "outputs": [
    {
     "name": "stdout",
     "output_type": "stream",
     "text": [
      "Archive:  galaxy-zoo-the-galaxy-challenge.zip\n",
      "  inflating: all_ones_benchmark.zip  \n",
      "  inflating: all_zeros_benchmark.zip  \n",
      "  inflating: central_pixel_benchmark.zip  \n",
      "  inflating: images_test_rev1.zip    \n",
      "  inflating: images_training_rev1.zip  \n",
      "  inflating: training_solutions_rev1.zip  \n"
     ]
    }
   ],
   "source": [
    "!unzip galaxy-zoo-the-galaxy-challenge.zip\n",
    "!unzip images_training_rev1.zip\n",
    "!unzip training_solutions_rev1.zip"
   ]
  },
  {
   "cell_type": "code",
   "execution_count": 8,
   "metadata": {},
   "outputs": [
    {
     "name": "stdout",
     "output_type": "stream",
     "text": [
      "mv: cannot stat 'images_training_rev1/': No such file or directory\n"
     ]
    }
   ],
   "source": [
    "!mv images_training_rev1/ ..\n",
    "!mv training_solutions_rev1.csv .."
   ]
  },
  {
   "cell_type": "code",
   "execution_count": null,
   "metadata": {},
   "outputs": [],
   "source": [
    "# Move images to common folder\n",
    "!mkdir HAM10000_images\n",
    "!mv ./HAM10000_images_part_1/* HAM10000_images/\n",
    "!mv ./HAM10000_images_part_2/* HAM10000_images/\n"
   ]
  },
  {
   "attachments": {},
   "cell_type": "markdown",
   "metadata": {},
   "source": [
    "You can delete folder Data if necessary. "
   ]
  }
 ],
 "metadata": {
  "kernelspec": {
   "display_name": "l2d-conformal",
   "language": "python",
   "name": "python3"
  },
  "language_info": {
   "codemirror_mode": {
    "name": "ipython",
    "version": 3
   },
   "file_extension": ".py",
   "mimetype": "text/x-python",
   "name": "python",
   "nbconvert_exporter": "python",
   "pygments_lexer": "ipython3",
   "version": "3.7.16"
  },
  "orig_nbformat": 4,
  "vscode": {
   "interpreter": {
    "hash": "b9760c96699f4c0657f831d2434fce17354cc0b1ed97b2e539ea09c81afdacc8"
   }
  }
 },
 "nbformat": 4,
 "nbformat_minor": 2
}
